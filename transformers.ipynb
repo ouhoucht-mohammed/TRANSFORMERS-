{
  "nbformat": 4,
  "nbformat_minor": 0,
  "metadata": {
    "colab": {
      "name": "Untitled7.ipynb",
      "provenance": [],
      "collapsed_sections": []
    },
    "kernelspec": {
      "name": "python3",
      "display_name": "Python 3"
    },
    "language_info": {
      "name": "python"
    },
    "widgets": {
      "application/vnd.jupyter.widget-state+json": {
        "569144ce146d4d6fbb268a2937f3c2de": {
          "model_module": "@jupyter-widgets/controls",
          "model_name": "HBoxModel",
          "state": {
            "_view_name": "HBoxView",
            "_dom_classes": [],
            "_model_name": "HBoxModel",
            "_view_module": "@jupyter-widgets/controls",
            "_model_module_version": "1.5.0",
            "_view_count": null,
            "_view_module_version": "1.5.0",
            "box_style": "",
            "layout": "IPY_MODEL_f6e10f745ba94df9bf634da7a7e73695",
            "_model_module": "@jupyter-widgets/controls",
            "children": [
              "IPY_MODEL_d32f220a53154152be07760bf62e7698",
              "IPY_MODEL_fcec02caf47c437f98f538fd7024947f"
            ]
          }
        },
        "f6e10f745ba94df9bf634da7a7e73695": {
          "model_module": "@jupyter-widgets/base",
          "model_name": "LayoutModel",
          "state": {
            "_view_name": "LayoutView",
            "grid_template_rows": null,
            "right": null,
            "justify_content": null,
            "_view_module": "@jupyter-widgets/base",
            "overflow": null,
            "_model_module_version": "1.2.0",
            "_view_count": null,
            "flex_flow": null,
            "width": null,
            "min_width": null,
            "border": null,
            "align_items": null,
            "bottom": null,
            "_model_module": "@jupyter-widgets/base",
            "top": null,
            "grid_column": null,
            "overflow_y": null,
            "overflow_x": null,
            "grid_auto_flow": null,
            "grid_area": null,
            "grid_template_columns": null,
            "flex": null,
            "_model_name": "LayoutModel",
            "justify_items": null,
            "grid_row": null,
            "max_height": null,
            "align_content": null,
            "visibility": null,
            "align_self": null,
            "height": null,
            "min_height": null,
            "padding": null,
            "grid_auto_rows": null,
            "grid_gap": null,
            "max_width": null,
            "order": null,
            "_view_module_version": "1.2.0",
            "grid_template_areas": null,
            "object_position": null,
            "object_fit": null,
            "grid_auto_columns": null,
            "margin": null,
            "display": null,
            "left": null
          }
        },
        "d32f220a53154152be07760bf62e7698": {
          "model_module": "@jupyter-widgets/controls",
          "model_name": "FloatProgressModel",
          "state": {
            "_view_name": "ProgressView",
            "style": "IPY_MODEL_21a009a434b94b2aa5c32b6fe5e0e287",
            "_dom_classes": [],
            "description": "Downloading: 100%",
            "_model_name": "FloatProgressModel",
            "bar_style": "success",
            "max": 230,
            "_view_module": "@jupyter-widgets/controls",
            "_model_module_version": "1.5.0",
            "value": 230,
            "_view_count": null,
            "_view_module_version": "1.5.0",
            "orientation": "horizontal",
            "min": 0,
            "description_tooltip": null,
            "_model_module": "@jupyter-widgets/controls",
            "layout": "IPY_MODEL_9e4e9ae2558a49969210ad5a2d219264"
          }
        },
        "fcec02caf47c437f98f538fd7024947f": {
          "model_module": "@jupyter-widgets/controls",
          "model_name": "HTMLModel",
          "state": {
            "_view_name": "HTMLView",
            "style": "IPY_MODEL_9a61ed4a17e54f9b87213d2094675941",
            "_dom_classes": [],
            "description": "",
            "_model_name": "HTMLModel",
            "placeholder": "​",
            "_view_module": "@jupyter-widgets/controls",
            "_model_module_version": "1.5.0",
            "value": " 230/230 [00:01&lt;00:00, 202B/s]",
            "_view_count": null,
            "_view_module_version": "1.5.0",
            "description_tooltip": null,
            "_model_module": "@jupyter-widgets/controls",
            "layout": "IPY_MODEL_7fadc51294d643cba56fa27169e3223b"
          }
        },
        "21a009a434b94b2aa5c32b6fe5e0e287": {
          "model_module": "@jupyter-widgets/controls",
          "model_name": "ProgressStyleModel",
          "state": {
            "_view_name": "StyleView",
            "_model_name": "ProgressStyleModel",
            "description_width": "initial",
            "_view_module": "@jupyter-widgets/base",
            "_model_module_version": "1.5.0",
            "_view_count": null,
            "_view_module_version": "1.2.0",
            "bar_color": null,
            "_model_module": "@jupyter-widgets/controls"
          }
        },
        "9e4e9ae2558a49969210ad5a2d219264": {
          "model_module": "@jupyter-widgets/base",
          "model_name": "LayoutModel",
          "state": {
            "_view_name": "LayoutView",
            "grid_template_rows": null,
            "right": null,
            "justify_content": null,
            "_view_module": "@jupyter-widgets/base",
            "overflow": null,
            "_model_module_version": "1.2.0",
            "_view_count": null,
            "flex_flow": null,
            "width": null,
            "min_width": null,
            "border": null,
            "align_items": null,
            "bottom": null,
            "_model_module": "@jupyter-widgets/base",
            "top": null,
            "grid_column": null,
            "overflow_y": null,
            "overflow_x": null,
            "grid_auto_flow": null,
            "grid_area": null,
            "grid_template_columns": null,
            "flex": null,
            "_model_name": "LayoutModel",
            "justify_items": null,
            "grid_row": null,
            "max_height": null,
            "align_content": null,
            "visibility": null,
            "align_self": null,
            "height": null,
            "min_height": null,
            "padding": null,
            "grid_auto_rows": null,
            "grid_gap": null,
            "max_width": null,
            "order": null,
            "_view_module_version": "1.2.0",
            "grid_template_areas": null,
            "object_position": null,
            "object_fit": null,
            "grid_auto_columns": null,
            "margin": null,
            "display": null,
            "left": null
          }
        },
        "9a61ed4a17e54f9b87213d2094675941": {
          "model_module": "@jupyter-widgets/controls",
          "model_name": "DescriptionStyleModel",
          "state": {
            "_view_name": "StyleView",
            "_model_name": "DescriptionStyleModel",
            "description_width": "",
            "_view_module": "@jupyter-widgets/base",
            "_model_module_version": "1.5.0",
            "_view_count": null,
            "_view_module_version": "1.2.0",
            "_model_module": "@jupyter-widgets/controls"
          }
        },
        "7fadc51294d643cba56fa27169e3223b": {
          "model_module": "@jupyter-widgets/base",
          "model_name": "LayoutModel",
          "state": {
            "_view_name": "LayoutView",
            "grid_template_rows": null,
            "right": null,
            "justify_content": null,
            "_view_module": "@jupyter-widgets/base",
            "overflow": null,
            "_model_module_version": "1.2.0",
            "_view_count": null,
            "flex_flow": null,
            "width": null,
            "min_width": null,
            "border": null,
            "align_items": null,
            "bottom": null,
            "_model_module": "@jupyter-widgets/base",
            "top": null,
            "grid_column": null,
            "overflow_y": null,
            "overflow_x": null,
            "grid_auto_flow": null,
            "grid_area": null,
            "grid_template_columns": null,
            "flex": null,
            "_model_name": "LayoutModel",
            "justify_items": null,
            "grid_row": null,
            "max_height": null,
            "align_content": null,
            "visibility": null,
            "align_self": null,
            "height": null,
            "min_height": null,
            "padding": null,
            "grid_auto_rows": null,
            "grid_gap": null,
            "max_width": null,
            "order": null,
            "_view_module_version": "1.2.0",
            "grid_template_areas": null,
            "object_position": null,
            "object_fit": null,
            "grid_auto_columns": null,
            "margin": null,
            "display": null,
            "left": null
          }
        },
        "22c2dabe103442919ab97d06937bef53": {
          "model_module": "@jupyter-widgets/controls",
          "model_name": "HBoxModel",
          "state": {
            "_view_name": "HBoxView",
            "_dom_classes": [],
            "_model_name": "HBoxModel",
            "_view_module": "@jupyter-widgets/controls",
            "_model_module_version": "1.5.0",
            "_view_count": null,
            "_view_module_version": "1.5.0",
            "box_style": "",
            "layout": "IPY_MODEL_9a5ed5744e424e098430c7d5716e811d",
            "_model_module": "@jupyter-widgets/controls",
            "children": [
              "IPY_MODEL_f048674e6afb4a5dbcafa51a270ef0b8",
              "IPY_MODEL_20842a43bc84490485d42df96f6699a6"
            ]
          }
        },
        "9a5ed5744e424e098430c7d5716e811d": {
          "model_module": "@jupyter-widgets/base",
          "model_name": "LayoutModel",
          "state": {
            "_view_name": "LayoutView",
            "grid_template_rows": null,
            "right": null,
            "justify_content": null,
            "_view_module": "@jupyter-widgets/base",
            "overflow": null,
            "_model_module_version": "1.2.0",
            "_view_count": null,
            "flex_flow": null,
            "width": null,
            "min_width": null,
            "border": null,
            "align_items": null,
            "bottom": null,
            "_model_module": "@jupyter-widgets/base",
            "top": null,
            "grid_column": null,
            "overflow_y": null,
            "overflow_x": null,
            "grid_auto_flow": null,
            "grid_area": null,
            "grid_template_columns": null,
            "flex": null,
            "_model_name": "LayoutModel",
            "justify_items": null,
            "grid_row": null,
            "max_height": null,
            "align_content": null,
            "visibility": null,
            "align_self": null,
            "height": null,
            "min_height": null,
            "padding": null,
            "grid_auto_rows": null,
            "grid_gap": null,
            "max_width": null,
            "order": null,
            "_view_module_version": "1.2.0",
            "grid_template_areas": null,
            "object_position": null,
            "object_fit": null,
            "grid_auto_columns": null,
            "margin": null,
            "display": null,
            "left": null
          }
        },
        "f048674e6afb4a5dbcafa51a270ef0b8": {
          "model_module": "@jupyter-widgets/controls",
          "model_name": "FloatProgressModel",
          "state": {
            "_view_name": "ProgressView",
            "style": "IPY_MODEL_16bddee0438e4c20a96731f5ea6ea6ac",
            "_dom_classes": [],
            "description": "Downloading: 100%",
            "_model_name": "FloatProgressModel",
            "bar_style": "success",
            "max": 230,
            "_view_module": "@jupyter-widgets/controls",
            "_model_module_version": "1.5.0",
            "value": 230,
            "_view_count": null,
            "_view_module_version": "1.5.0",
            "orientation": "horizontal",
            "min": 0,
            "description_tooltip": null,
            "_model_module": "@jupyter-widgets/controls",
            "layout": "IPY_MODEL_bd5d930287b447d2ab4d78ace0ffcf4a"
          }
        },
        "20842a43bc84490485d42df96f6699a6": {
          "model_module": "@jupyter-widgets/controls",
          "model_name": "HTMLModel",
          "state": {
            "_view_name": "HTMLView",
            "style": "IPY_MODEL_4ae85f713f4947b58e19fb3883849c56",
            "_dom_classes": [],
            "description": "",
            "_model_name": "HTMLModel",
            "placeholder": "​",
            "_view_module": "@jupyter-widgets/controls",
            "_model_module_version": "1.5.0",
            "value": " 230/230 [00:00&lt;00:00, 313B/s]",
            "_view_count": null,
            "_view_module_version": "1.5.0",
            "description_tooltip": null,
            "_model_module": "@jupyter-widgets/controls",
            "layout": "IPY_MODEL_4446e547799a489ea9b0b76025a7bd85"
          }
        },
        "16bddee0438e4c20a96731f5ea6ea6ac": {
          "model_module": "@jupyter-widgets/controls",
          "model_name": "ProgressStyleModel",
          "state": {
            "_view_name": "StyleView",
            "_model_name": "ProgressStyleModel",
            "description_width": "initial",
            "_view_module": "@jupyter-widgets/base",
            "_model_module_version": "1.5.0",
            "_view_count": null,
            "_view_module_version": "1.2.0",
            "bar_color": null,
            "_model_module": "@jupyter-widgets/controls"
          }
        },
        "bd5d930287b447d2ab4d78ace0ffcf4a": {
          "model_module": "@jupyter-widgets/base",
          "model_name": "LayoutModel",
          "state": {
            "_view_name": "LayoutView",
            "grid_template_rows": null,
            "right": null,
            "justify_content": null,
            "_view_module": "@jupyter-widgets/base",
            "overflow": null,
            "_model_module_version": "1.2.0",
            "_view_count": null,
            "flex_flow": null,
            "width": null,
            "min_width": null,
            "border": null,
            "align_items": null,
            "bottom": null,
            "_model_module": "@jupyter-widgets/base",
            "top": null,
            "grid_column": null,
            "overflow_y": null,
            "overflow_x": null,
            "grid_auto_flow": null,
            "grid_area": null,
            "grid_template_columns": null,
            "flex": null,
            "_model_name": "LayoutModel",
            "justify_items": null,
            "grid_row": null,
            "max_height": null,
            "align_content": null,
            "visibility": null,
            "align_self": null,
            "height": null,
            "min_height": null,
            "padding": null,
            "grid_auto_rows": null,
            "grid_gap": null,
            "max_width": null,
            "order": null,
            "_view_module_version": "1.2.0",
            "grid_template_areas": null,
            "object_position": null,
            "object_fit": null,
            "grid_auto_columns": null,
            "margin": null,
            "display": null,
            "left": null
          }
        },
        "4ae85f713f4947b58e19fb3883849c56": {
          "model_module": "@jupyter-widgets/controls",
          "model_name": "DescriptionStyleModel",
          "state": {
            "_view_name": "StyleView",
            "_model_name": "DescriptionStyleModel",
            "description_width": "",
            "_view_module": "@jupyter-widgets/base",
            "_model_module_version": "1.5.0",
            "_view_count": null,
            "_view_module_version": "1.2.0",
            "_model_module": "@jupyter-widgets/controls"
          }
        },
        "4446e547799a489ea9b0b76025a7bd85": {
          "model_module": "@jupyter-widgets/base",
          "model_name": "LayoutModel",
          "state": {
            "_view_name": "LayoutView",
            "grid_template_rows": null,
            "right": null,
            "justify_content": null,
            "_view_module": "@jupyter-widgets/base",
            "overflow": null,
            "_model_module_version": "1.2.0",
            "_view_count": null,
            "flex_flow": null,
            "width": null,
            "min_width": null,
            "border": null,
            "align_items": null,
            "bottom": null,
            "_model_module": "@jupyter-widgets/base",
            "top": null,
            "grid_column": null,
            "overflow_y": null,
            "overflow_x": null,
            "grid_auto_flow": null,
            "grid_area": null,
            "grid_template_columns": null,
            "flex": null,
            "_model_name": "LayoutModel",
            "justify_items": null,
            "grid_row": null,
            "max_height": null,
            "align_content": null,
            "visibility": null,
            "align_self": null,
            "height": null,
            "min_height": null,
            "padding": null,
            "grid_auto_rows": null,
            "grid_gap": null,
            "max_width": null,
            "order": null,
            "_view_module_version": "1.2.0",
            "grid_template_areas": null,
            "object_position": null,
            "object_fit": null,
            "grid_auto_columns": null,
            "margin": null,
            "display": null,
            "left": null
          }
        },
        "cd2f9aa34a9542e9ad20a50741a97fe7": {
          "model_module": "@jupyter-widgets/controls",
          "model_name": "HBoxModel",
          "state": {
            "_view_name": "HBoxView",
            "_dom_classes": [],
            "_model_name": "HBoxModel",
            "_view_module": "@jupyter-widgets/controls",
            "_model_module_version": "1.5.0",
            "_view_count": null,
            "_view_module_version": "1.5.0",
            "box_style": "",
            "layout": "IPY_MODEL_dfbe62acc4504e74bb5c264e1e351a23",
            "_model_module": "@jupyter-widgets/controls",
            "children": [
              "IPY_MODEL_e67792f03f634036949c2f8fb0d31e90",
              "IPY_MODEL_052c6d00fe09421f8f8266629c699253"
            ]
          }
        },
        "dfbe62acc4504e74bb5c264e1e351a23": {
          "model_module": "@jupyter-widgets/base",
          "model_name": "LayoutModel",
          "state": {
            "_view_name": "LayoutView",
            "grid_template_rows": null,
            "right": null,
            "justify_content": null,
            "_view_module": "@jupyter-widgets/base",
            "overflow": null,
            "_model_module_version": "1.2.0",
            "_view_count": null,
            "flex_flow": null,
            "width": null,
            "min_width": null,
            "border": null,
            "align_items": null,
            "bottom": null,
            "_model_module": "@jupyter-widgets/base",
            "top": null,
            "grid_column": null,
            "overflow_y": null,
            "overflow_x": null,
            "grid_auto_flow": null,
            "grid_area": null,
            "grid_template_columns": null,
            "flex": null,
            "_model_name": "LayoutModel",
            "justify_items": null,
            "grid_row": null,
            "max_height": null,
            "align_content": null,
            "visibility": null,
            "align_self": null,
            "height": null,
            "min_height": null,
            "padding": null,
            "grid_auto_rows": null,
            "grid_gap": null,
            "max_width": null,
            "order": null,
            "_view_module_version": "1.2.0",
            "grid_template_areas": null,
            "object_position": null,
            "object_fit": null,
            "grid_auto_columns": null,
            "margin": null,
            "display": null,
            "left": null
          }
        },
        "e67792f03f634036949c2f8fb0d31e90": {
          "model_module": "@jupyter-widgets/controls",
          "model_name": "FloatProgressModel",
          "state": {
            "_view_name": "ProgressView",
            "style": "IPY_MODEL_1773c63f21ee4c948f00f5bba84fc1b0",
            "_dom_classes": [],
            "description": "Downloading: 100%",
            "_model_name": "FloatProgressModel",
            "bar_style": "success",
            "max": 230,
            "_view_module": "@jupyter-widgets/controls",
            "_model_module_version": "1.5.0",
            "value": 230,
            "_view_count": null,
            "_view_module_version": "1.5.0",
            "orientation": "horizontal",
            "min": 0,
            "description_tooltip": null,
            "_model_module": "@jupyter-widgets/controls",
            "layout": "IPY_MODEL_7c963378a58e490782c03a70dc3a4d79"
          }
        },
        "052c6d00fe09421f8f8266629c699253": {
          "model_module": "@jupyter-widgets/controls",
          "model_name": "HTMLModel",
          "state": {
            "_view_name": "HTMLView",
            "style": "IPY_MODEL_df1b4a87dc6048aa84ae7ddf217f2500",
            "_dom_classes": [],
            "description": "",
            "_model_name": "HTMLModel",
            "placeholder": "​",
            "_view_module": "@jupyter-widgets/controls",
            "_model_module_version": "1.5.0",
            "value": " 230/230 [00:00&lt;00:00, 231B/s]",
            "_view_count": null,
            "_view_module_version": "1.5.0",
            "description_tooltip": null,
            "_model_module": "@jupyter-widgets/controls",
            "layout": "IPY_MODEL_ad5a077cce1e4e2db9c61151b2491c2e"
          }
        },
        "1773c63f21ee4c948f00f5bba84fc1b0": {
          "model_module": "@jupyter-widgets/controls",
          "model_name": "ProgressStyleModel",
          "state": {
            "_view_name": "StyleView",
            "_model_name": "ProgressStyleModel",
            "description_width": "initial",
            "_view_module": "@jupyter-widgets/base",
            "_model_module_version": "1.5.0",
            "_view_count": null,
            "_view_module_version": "1.2.0",
            "bar_color": null,
            "_model_module": "@jupyter-widgets/controls"
          }
        },
        "7c963378a58e490782c03a70dc3a4d79": {
          "model_module": "@jupyter-widgets/base",
          "model_name": "LayoutModel",
          "state": {
            "_view_name": "LayoutView",
            "grid_template_rows": null,
            "right": null,
            "justify_content": null,
            "_view_module": "@jupyter-widgets/base",
            "overflow": null,
            "_model_module_version": "1.2.0",
            "_view_count": null,
            "flex_flow": null,
            "width": null,
            "min_width": null,
            "border": null,
            "align_items": null,
            "bottom": null,
            "_model_module": "@jupyter-widgets/base",
            "top": null,
            "grid_column": null,
            "overflow_y": null,
            "overflow_x": null,
            "grid_auto_flow": null,
            "grid_area": null,
            "grid_template_columns": null,
            "flex": null,
            "_model_name": "LayoutModel",
            "justify_items": null,
            "grid_row": null,
            "max_height": null,
            "align_content": null,
            "visibility": null,
            "align_self": null,
            "height": null,
            "min_height": null,
            "padding": null,
            "grid_auto_rows": null,
            "grid_gap": null,
            "max_width": null,
            "order": null,
            "_view_module_version": "1.2.0",
            "grid_template_areas": null,
            "object_position": null,
            "object_fit": null,
            "grid_auto_columns": null,
            "margin": null,
            "display": null,
            "left": null
          }
        },
        "df1b4a87dc6048aa84ae7ddf217f2500": {
          "model_module": "@jupyter-widgets/controls",
          "model_name": "DescriptionStyleModel",
          "state": {
            "_view_name": "StyleView",
            "_model_name": "DescriptionStyleModel",
            "description_width": "",
            "_view_module": "@jupyter-widgets/base",
            "_model_module_version": "1.5.0",
            "_view_count": null,
            "_view_module_version": "1.2.0",
            "_model_module": "@jupyter-widgets/controls"
          }
        },
        "ad5a077cce1e4e2db9c61151b2491c2e": {
          "model_module": "@jupyter-widgets/base",
          "model_name": "LayoutModel",
          "state": {
            "_view_name": "LayoutView",
            "grid_template_rows": null,
            "right": null,
            "justify_content": null,
            "_view_module": "@jupyter-widgets/base",
            "overflow": null,
            "_model_module_version": "1.2.0",
            "_view_count": null,
            "flex_flow": null,
            "width": null,
            "min_width": null,
            "border": null,
            "align_items": null,
            "bottom": null,
            "_model_module": "@jupyter-widgets/base",
            "top": null,
            "grid_column": null,
            "overflow_y": null,
            "overflow_x": null,
            "grid_auto_flow": null,
            "grid_area": null,
            "grid_template_columns": null,
            "flex": null,
            "_model_name": "LayoutModel",
            "justify_items": null,
            "grid_row": null,
            "max_height": null,
            "align_content": null,
            "visibility": null,
            "align_self": null,
            "height": null,
            "min_height": null,
            "padding": null,
            "grid_auto_rows": null,
            "grid_gap": null,
            "max_width": null,
            "order": null,
            "_view_module_version": "1.2.0",
            "grid_template_areas": null,
            "object_position": null,
            "object_fit": null,
            "grid_auto_columns": null,
            "margin": null,
            "display": null,
            "left": null
          }
        },
        "eb963e2859844f98808771600e9ee27b": {
          "model_module": "@jupyter-widgets/controls",
          "model_name": "HBoxModel",
          "state": {
            "_view_name": "HBoxView",
            "_dom_classes": [],
            "_model_name": "HBoxModel",
            "_view_module": "@jupyter-widgets/controls",
            "_model_module_version": "1.5.0",
            "_view_count": null,
            "_view_module_version": "1.5.0",
            "box_style": "",
            "layout": "IPY_MODEL_ca844dfb863b4c0298c59087ab051d42",
            "_model_module": "@jupyter-widgets/controls",
            "children": [
              "IPY_MODEL_5e33cbe1d4054a3eb84d403316c6a2d8",
              "IPY_MODEL_ddf874ab6e79456e874fa40850c79a1d"
            ]
          }
        },
        "ca844dfb863b4c0298c59087ab051d42": {
          "model_module": "@jupyter-widgets/base",
          "model_name": "LayoutModel",
          "state": {
            "_view_name": "LayoutView",
            "grid_template_rows": null,
            "right": null,
            "justify_content": null,
            "_view_module": "@jupyter-widgets/base",
            "overflow": null,
            "_model_module_version": "1.2.0",
            "_view_count": null,
            "flex_flow": null,
            "width": null,
            "min_width": null,
            "border": null,
            "align_items": null,
            "bottom": null,
            "_model_module": "@jupyter-widgets/base",
            "top": null,
            "grid_column": null,
            "overflow_y": null,
            "overflow_x": null,
            "grid_auto_flow": null,
            "grid_area": null,
            "grid_template_columns": null,
            "flex": null,
            "_model_name": "LayoutModel",
            "justify_items": null,
            "grid_row": null,
            "max_height": null,
            "align_content": null,
            "visibility": null,
            "align_self": null,
            "height": null,
            "min_height": null,
            "padding": null,
            "grid_auto_rows": null,
            "grid_gap": null,
            "max_width": null,
            "order": null,
            "_view_module_version": "1.2.0",
            "grid_template_areas": null,
            "object_position": null,
            "object_fit": null,
            "grid_auto_columns": null,
            "margin": null,
            "display": null,
            "left": null
          }
        },
        "5e33cbe1d4054a3eb84d403316c6a2d8": {
          "model_module": "@jupyter-widgets/controls",
          "model_name": "FloatProgressModel",
          "state": {
            "_view_name": "ProgressView",
            "style": "IPY_MODEL_27172218695a41dcb11a1070f601ba5e",
            "_dom_classes": [],
            "description": "Downloading: 100%",
            "_model_name": "FloatProgressModel",
            "bar_style": "success",
            "max": 230,
            "_view_module": "@jupyter-widgets/controls",
            "_model_module_version": "1.5.0",
            "value": 230,
            "_view_count": null,
            "_view_module_version": "1.5.0",
            "orientation": "horizontal",
            "min": 0,
            "description_tooltip": null,
            "_model_module": "@jupyter-widgets/controls",
            "layout": "IPY_MODEL_d16567bf3a1d46f4b0f983975d84ef93"
          }
        },
        "ddf874ab6e79456e874fa40850c79a1d": {
          "model_module": "@jupyter-widgets/controls",
          "model_name": "HTMLModel",
          "state": {
            "_view_name": "HTMLView",
            "style": "IPY_MODEL_24f1304a4dc4469588632762b7f0ce00",
            "_dom_classes": [],
            "description": "",
            "_model_name": "HTMLModel",
            "placeholder": "​",
            "_view_module": "@jupyter-widgets/controls",
            "_model_module_version": "1.5.0",
            "value": " 230/230 [00:00&lt;00:00, 312B/s]",
            "_view_count": null,
            "_view_module_version": "1.5.0",
            "description_tooltip": null,
            "_model_module": "@jupyter-widgets/controls",
            "layout": "IPY_MODEL_557ebaf9475748eeae2d960c245c5cc6"
          }
        },
        "27172218695a41dcb11a1070f601ba5e": {
          "model_module": "@jupyter-widgets/controls",
          "model_name": "ProgressStyleModel",
          "state": {
            "_view_name": "StyleView",
            "_model_name": "ProgressStyleModel",
            "description_width": "initial",
            "_view_module": "@jupyter-widgets/base",
            "_model_module_version": "1.5.0",
            "_view_count": null,
            "_view_module_version": "1.2.0",
            "bar_color": null,
            "_model_module": "@jupyter-widgets/controls"
          }
        },
        "d16567bf3a1d46f4b0f983975d84ef93": {
          "model_module": "@jupyter-widgets/base",
          "model_name": "LayoutModel",
          "state": {
            "_view_name": "LayoutView",
            "grid_template_rows": null,
            "right": null,
            "justify_content": null,
            "_view_module": "@jupyter-widgets/base",
            "overflow": null,
            "_model_module_version": "1.2.0",
            "_view_count": null,
            "flex_flow": null,
            "width": null,
            "min_width": null,
            "border": null,
            "align_items": null,
            "bottom": null,
            "_model_module": "@jupyter-widgets/base",
            "top": null,
            "grid_column": null,
            "overflow_y": null,
            "overflow_x": null,
            "grid_auto_flow": null,
            "grid_area": null,
            "grid_template_columns": null,
            "flex": null,
            "_model_name": "LayoutModel",
            "justify_items": null,
            "grid_row": null,
            "max_height": null,
            "align_content": null,
            "visibility": null,
            "align_self": null,
            "height": null,
            "min_height": null,
            "padding": null,
            "grid_auto_rows": null,
            "grid_gap": null,
            "max_width": null,
            "order": null,
            "_view_module_version": "1.2.0",
            "grid_template_areas": null,
            "object_position": null,
            "object_fit": null,
            "grid_auto_columns": null,
            "margin": null,
            "display": null,
            "left": null
          }
        },
        "24f1304a4dc4469588632762b7f0ce00": {
          "model_module": "@jupyter-widgets/controls",
          "model_name": "DescriptionStyleModel",
          "state": {
            "_view_name": "StyleView",
            "_model_name": "DescriptionStyleModel",
            "description_width": "",
            "_view_module": "@jupyter-widgets/base",
            "_model_module_version": "1.5.0",
            "_view_count": null,
            "_view_module_version": "1.2.0",
            "_model_module": "@jupyter-widgets/controls"
          }
        },
        "557ebaf9475748eeae2d960c245c5cc6": {
          "model_module": "@jupyter-widgets/base",
          "model_name": "LayoutModel",
          "state": {
            "_view_name": "LayoutView",
            "grid_template_rows": null,
            "right": null,
            "justify_content": null,
            "_view_module": "@jupyter-widgets/base",
            "overflow": null,
            "_model_module_version": "1.2.0",
            "_view_count": null,
            "flex_flow": null,
            "width": null,
            "min_width": null,
            "border": null,
            "align_items": null,
            "bottom": null,
            "_model_module": "@jupyter-widgets/base",
            "top": null,
            "grid_column": null,
            "overflow_y": null,
            "overflow_x": null,
            "grid_auto_flow": null,
            "grid_area": null,
            "grid_template_columns": null,
            "flex": null,
            "_model_name": "LayoutModel",
            "justify_items": null,
            "grid_row": null,
            "max_height": null,
            "align_content": null,
            "visibility": null,
            "align_self": null,
            "height": null,
            "min_height": null,
            "padding": null,
            "grid_auto_rows": null,
            "grid_gap": null,
            "max_width": null,
            "order": null,
            "_view_module_version": "1.2.0",
            "grid_template_areas": null,
            "object_position": null,
            "object_fit": null,
            "grid_auto_columns": null,
            "margin": null,
            "display": null,
            "left": null
          }
        },
        "4690450320f8457da4c6748a114f9983": {
          "model_module": "@jupyter-widgets/controls",
          "model_name": "HBoxModel",
          "state": {
            "_view_name": "HBoxView",
            "_dom_classes": [],
            "_model_name": "HBoxModel",
            "_view_module": "@jupyter-widgets/controls",
            "_model_module_version": "1.5.0",
            "_view_count": null,
            "_view_module_version": "1.5.0",
            "box_style": "",
            "layout": "IPY_MODEL_9744fe42c2b14047b579ea236d492c4e",
            "_model_module": "@jupyter-widgets/controls",
            "children": [
              "IPY_MODEL_0451b0abd6f44de4a271ba8a6e5bdb0c",
              "IPY_MODEL_602471463a244f87aa83e5d50c0ea853"
            ]
          }
        },
        "9744fe42c2b14047b579ea236d492c4e": {
          "model_module": "@jupyter-widgets/base",
          "model_name": "LayoutModel",
          "state": {
            "_view_name": "LayoutView",
            "grid_template_rows": null,
            "right": null,
            "justify_content": null,
            "_view_module": "@jupyter-widgets/base",
            "overflow": null,
            "_model_module_version": "1.2.0",
            "_view_count": null,
            "flex_flow": null,
            "width": null,
            "min_width": null,
            "border": null,
            "align_items": null,
            "bottom": null,
            "_model_module": "@jupyter-widgets/base",
            "top": null,
            "grid_column": null,
            "overflow_y": null,
            "overflow_x": null,
            "grid_auto_flow": null,
            "grid_area": null,
            "grid_template_columns": null,
            "flex": null,
            "_model_name": "LayoutModel",
            "justify_items": null,
            "grid_row": null,
            "max_height": null,
            "align_content": null,
            "visibility": null,
            "align_self": null,
            "height": null,
            "min_height": null,
            "padding": null,
            "grid_auto_rows": null,
            "grid_gap": null,
            "max_width": null,
            "order": null,
            "_view_module_version": "1.2.0",
            "grid_template_areas": null,
            "object_position": null,
            "object_fit": null,
            "grid_auto_columns": null,
            "margin": null,
            "display": null,
            "left": null
          }
        },
        "0451b0abd6f44de4a271ba8a6e5bdb0c": {
          "model_module": "@jupyter-widgets/controls",
          "model_name": "FloatProgressModel",
          "state": {
            "_view_name": "ProgressView",
            "style": "IPY_MODEL_2cd78525fd1149728678ff0d47dcebcc",
            "_dom_classes": [],
            "description": "Downloading: 100%",
            "_model_name": "FloatProgressModel",
            "bar_style": "success",
            "max": 230,
            "_view_module": "@jupyter-widgets/controls",
            "_model_module_version": "1.5.0",
            "value": 230,
            "_view_count": null,
            "_view_module_version": "1.5.0",
            "orientation": "horizontal",
            "min": 0,
            "description_tooltip": null,
            "_model_module": "@jupyter-widgets/controls",
            "layout": "IPY_MODEL_16fde0f3227e45e18603eae097d7a076"
          }
        },
        "602471463a244f87aa83e5d50c0ea853": {
          "model_module": "@jupyter-widgets/controls",
          "model_name": "HTMLModel",
          "state": {
            "_view_name": "HTMLView",
            "style": "IPY_MODEL_9f49b2bd0a23426cb22b260c595cac04",
            "_dom_classes": [],
            "description": "",
            "_model_name": "HTMLModel",
            "placeholder": "​",
            "_view_module": "@jupyter-widgets/controls",
            "_model_module_version": "1.5.0",
            "value": " 230/230 [00:00&lt;00:00, 352B/s]",
            "_view_count": null,
            "_view_module_version": "1.5.0",
            "description_tooltip": null,
            "_model_module": "@jupyter-widgets/controls",
            "layout": "IPY_MODEL_998d9174e3b948e2a8cc30dbe17636ed"
          }
        },
        "2cd78525fd1149728678ff0d47dcebcc": {
          "model_module": "@jupyter-widgets/controls",
          "model_name": "ProgressStyleModel",
          "state": {
            "_view_name": "StyleView",
            "_model_name": "ProgressStyleModel",
            "description_width": "initial",
            "_view_module": "@jupyter-widgets/base",
            "_model_module_version": "1.5.0",
            "_view_count": null,
            "_view_module_version": "1.2.0",
            "bar_color": null,
            "_model_module": "@jupyter-widgets/controls"
          }
        },
        "16fde0f3227e45e18603eae097d7a076": {
          "model_module": "@jupyter-widgets/base",
          "model_name": "LayoutModel",
          "state": {
            "_view_name": "LayoutView",
            "grid_template_rows": null,
            "right": null,
            "justify_content": null,
            "_view_module": "@jupyter-widgets/base",
            "overflow": null,
            "_model_module_version": "1.2.0",
            "_view_count": null,
            "flex_flow": null,
            "width": null,
            "min_width": null,
            "border": null,
            "align_items": null,
            "bottom": null,
            "_model_module": "@jupyter-widgets/base",
            "top": null,
            "grid_column": null,
            "overflow_y": null,
            "overflow_x": null,
            "grid_auto_flow": null,
            "grid_area": null,
            "grid_template_columns": null,
            "flex": null,
            "_model_name": "LayoutModel",
            "justify_items": null,
            "grid_row": null,
            "max_height": null,
            "align_content": null,
            "visibility": null,
            "align_self": null,
            "height": null,
            "min_height": null,
            "padding": null,
            "grid_auto_rows": null,
            "grid_gap": null,
            "max_width": null,
            "order": null,
            "_view_module_version": "1.2.0",
            "grid_template_areas": null,
            "object_position": null,
            "object_fit": null,
            "grid_auto_columns": null,
            "margin": null,
            "display": null,
            "left": null
          }
        },
        "9f49b2bd0a23426cb22b260c595cac04": {
          "model_module": "@jupyter-widgets/controls",
          "model_name": "DescriptionStyleModel",
          "state": {
            "_view_name": "StyleView",
            "_model_name": "DescriptionStyleModel",
            "description_width": "",
            "_view_module": "@jupyter-widgets/base",
            "_model_module_version": "1.5.0",
            "_view_count": null,
            "_view_module_version": "1.2.0",
            "_model_module": "@jupyter-widgets/controls"
          }
        },
        "998d9174e3b948e2a8cc30dbe17636ed": {
          "model_module": "@jupyter-widgets/base",
          "model_name": "LayoutModel",
          "state": {
            "_view_name": "LayoutView",
            "grid_template_rows": null,
            "right": null,
            "justify_content": null,
            "_view_module": "@jupyter-widgets/base",
            "overflow": null,
            "_model_module_version": "1.2.0",
            "_view_count": null,
            "flex_flow": null,
            "width": null,
            "min_width": null,
            "border": null,
            "align_items": null,
            "bottom": null,
            "_model_module": "@jupyter-widgets/base",
            "top": null,
            "grid_column": null,
            "overflow_y": null,
            "overflow_x": null,
            "grid_auto_flow": null,
            "grid_area": null,
            "grid_template_columns": null,
            "flex": null,
            "_model_name": "LayoutModel",
            "justify_items": null,
            "grid_row": null,
            "max_height": null,
            "align_content": null,
            "visibility": null,
            "align_self": null,
            "height": null,
            "min_height": null,
            "padding": null,
            "grid_auto_rows": null,
            "grid_gap": null,
            "max_width": null,
            "order": null,
            "_view_module_version": "1.2.0",
            "grid_template_areas": null,
            "object_position": null,
            "object_fit": null,
            "grid_auto_columns": null,
            "margin": null,
            "display": null,
            "left": null
          }
        },
        "09d55b7b915d4b7fbd8554591b8b9b19": {
          "model_module": "@jupyter-widgets/controls",
          "model_name": "HBoxModel",
          "state": {
            "_view_name": "HBoxView",
            "_dom_classes": [],
            "_model_name": "HBoxModel",
            "_view_module": "@jupyter-widgets/controls",
            "_model_module_version": "1.5.0",
            "_view_count": null,
            "_view_module_version": "1.5.0",
            "box_style": "",
            "layout": "IPY_MODEL_d1c2c88416f8474f8d5ed4feef9d79a6",
            "_model_module": "@jupyter-widgets/controls",
            "children": [
              "IPY_MODEL_af4e1803f1184733a443ba95d2436d3d",
              "IPY_MODEL_4cf27c43121b456e895b1c35274edc09"
            ]
          }
        },
        "d1c2c88416f8474f8d5ed4feef9d79a6": {
          "model_module": "@jupyter-widgets/base",
          "model_name": "LayoutModel",
          "state": {
            "_view_name": "LayoutView",
            "grid_template_rows": null,
            "right": null,
            "justify_content": null,
            "_view_module": "@jupyter-widgets/base",
            "overflow": null,
            "_model_module_version": "1.2.0",
            "_view_count": null,
            "flex_flow": null,
            "width": null,
            "min_width": null,
            "border": null,
            "align_items": null,
            "bottom": null,
            "_model_module": "@jupyter-widgets/base",
            "top": null,
            "grid_column": null,
            "overflow_y": null,
            "overflow_x": null,
            "grid_auto_flow": null,
            "grid_area": null,
            "grid_template_columns": null,
            "flex": null,
            "_model_name": "LayoutModel",
            "justify_items": null,
            "grid_row": null,
            "max_height": null,
            "align_content": null,
            "visibility": null,
            "align_self": null,
            "height": null,
            "min_height": null,
            "padding": null,
            "grid_auto_rows": null,
            "grid_gap": null,
            "max_width": null,
            "order": null,
            "_view_module_version": "1.2.0",
            "grid_template_areas": null,
            "object_position": null,
            "object_fit": null,
            "grid_auto_columns": null,
            "margin": null,
            "display": null,
            "left": null
          }
        },
        "af4e1803f1184733a443ba95d2436d3d": {
          "model_module": "@jupyter-widgets/controls",
          "model_name": "FloatProgressModel",
          "state": {
            "_view_name": "ProgressView",
            "style": "IPY_MODEL_147541e96c4e4759a1bd96f90aae432b",
            "_dom_classes": [],
            "description": "Downloading: 100%",
            "_model_name": "FloatProgressModel",
            "bar_style": "success",
            "max": 230,
            "_view_module": "@jupyter-widgets/controls",
            "_model_module_version": "1.5.0",
            "value": 230,
            "_view_count": null,
            "_view_module_version": "1.5.0",
            "orientation": "horizontal",
            "min": 0,
            "description_tooltip": null,
            "_model_module": "@jupyter-widgets/controls",
            "layout": "IPY_MODEL_27bb621e7f524fc289cfa4331d93c482"
          }
        },
        "4cf27c43121b456e895b1c35274edc09": {
          "model_module": "@jupyter-widgets/controls",
          "model_name": "HTMLModel",
          "state": {
            "_view_name": "HTMLView",
            "style": "IPY_MODEL_bccaa5fade8c4571a6399c2a3ff70453",
            "_dom_classes": [],
            "description": "",
            "_model_name": "HTMLModel",
            "placeholder": "​",
            "_view_module": "@jupyter-widgets/controls",
            "_model_module_version": "1.5.0",
            "value": " 230/230 [00:01&lt;00:00, 200B/s]",
            "_view_count": null,
            "_view_module_version": "1.5.0",
            "description_tooltip": null,
            "_model_module": "@jupyter-widgets/controls",
            "layout": "IPY_MODEL_014979d849764ad196e51e09fb4de0f4"
          }
        },
        "147541e96c4e4759a1bd96f90aae432b": {
          "model_module": "@jupyter-widgets/controls",
          "model_name": "ProgressStyleModel",
          "state": {
            "_view_name": "StyleView",
            "_model_name": "ProgressStyleModel",
            "description_width": "initial",
            "_view_module": "@jupyter-widgets/base",
            "_model_module_version": "1.5.0",
            "_view_count": null,
            "_view_module_version": "1.2.0",
            "bar_color": null,
            "_model_module": "@jupyter-widgets/controls"
          }
        },
        "27bb621e7f524fc289cfa4331d93c482": {
          "model_module": "@jupyter-widgets/base",
          "model_name": "LayoutModel",
          "state": {
            "_view_name": "LayoutView",
            "grid_template_rows": null,
            "right": null,
            "justify_content": null,
            "_view_module": "@jupyter-widgets/base",
            "overflow": null,
            "_model_module_version": "1.2.0",
            "_view_count": null,
            "flex_flow": null,
            "width": null,
            "min_width": null,
            "border": null,
            "align_items": null,
            "bottom": null,
            "_model_module": "@jupyter-widgets/base",
            "top": null,
            "grid_column": null,
            "overflow_y": null,
            "overflow_x": null,
            "grid_auto_flow": null,
            "grid_area": null,
            "grid_template_columns": null,
            "flex": null,
            "_model_name": "LayoutModel",
            "justify_items": null,
            "grid_row": null,
            "max_height": null,
            "align_content": null,
            "visibility": null,
            "align_self": null,
            "height": null,
            "min_height": null,
            "padding": null,
            "grid_auto_rows": null,
            "grid_gap": null,
            "max_width": null,
            "order": null,
            "_view_module_version": "1.2.0",
            "grid_template_areas": null,
            "object_position": null,
            "object_fit": null,
            "grid_auto_columns": null,
            "margin": null,
            "display": null,
            "left": null
          }
        },
        "bccaa5fade8c4571a6399c2a3ff70453": {
          "model_module": "@jupyter-widgets/controls",
          "model_name": "DescriptionStyleModel",
          "state": {
            "_view_name": "StyleView",
            "_model_name": "DescriptionStyleModel",
            "description_width": "",
            "_view_module": "@jupyter-widgets/base",
            "_model_module_version": "1.5.0",
            "_view_count": null,
            "_view_module_version": "1.2.0",
            "_model_module": "@jupyter-widgets/controls"
          }
        },
        "014979d849764ad196e51e09fb4de0f4": {
          "model_module": "@jupyter-widgets/base",
          "model_name": "LayoutModel",
          "state": {
            "_view_name": "LayoutView",
            "grid_template_rows": null,
            "right": null,
            "justify_content": null,
            "_view_module": "@jupyter-widgets/base",
            "overflow": null,
            "_model_module_version": "1.2.0",
            "_view_count": null,
            "flex_flow": null,
            "width": null,
            "min_width": null,
            "border": null,
            "align_items": null,
            "bottom": null,
            "_model_module": "@jupyter-widgets/base",
            "top": null,
            "grid_column": null,
            "overflow_y": null,
            "overflow_x": null,
            "grid_auto_flow": null,
            "grid_area": null,
            "grid_template_columns": null,
            "flex": null,
            "_model_name": "LayoutModel",
            "justify_items": null,
            "grid_row": null,
            "max_height": null,
            "align_content": null,
            "visibility": null,
            "align_self": null,
            "height": null,
            "min_height": null,
            "padding": null,
            "grid_auto_rows": null,
            "grid_gap": null,
            "max_width": null,
            "order": null,
            "_view_module_version": "1.2.0",
            "grid_template_areas": null,
            "object_position": null,
            "object_fit": null,
            "grid_auto_columns": null,
            "margin": null,
            "display": null,
            "left": null
          }
        },
        "287b7cec889641f8a6a7bc8fde2006db": {
          "model_module": "@jupyter-widgets/controls",
          "model_name": "HBoxModel",
          "state": {
            "_view_name": "HBoxView",
            "_dom_classes": [],
            "_model_name": "HBoxModel",
            "_view_module": "@jupyter-widgets/controls",
            "_model_module_version": "1.5.0",
            "_view_count": null,
            "_view_module_version": "1.5.0",
            "box_style": "",
            "layout": "IPY_MODEL_0bbe0571bc6c44f5a3e60ba7cee12885",
            "_model_module": "@jupyter-widgets/controls",
            "children": [
              "IPY_MODEL_22f5f1f43bee4534a70f5ff4a7fe35f1",
              "IPY_MODEL_b46de1ff9aab4f0a9c1d36519bd55514"
            ]
          }
        },
        "0bbe0571bc6c44f5a3e60ba7cee12885": {
          "model_module": "@jupyter-widgets/base",
          "model_name": "LayoutModel",
          "state": {
            "_view_name": "LayoutView",
            "grid_template_rows": null,
            "right": null,
            "justify_content": null,
            "_view_module": "@jupyter-widgets/base",
            "overflow": null,
            "_model_module_version": "1.2.0",
            "_view_count": null,
            "flex_flow": null,
            "width": null,
            "min_width": null,
            "border": null,
            "align_items": null,
            "bottom": null,
            "_model_module": "@jupyter-widgets/base",
            "top": null,
            "grid_column": null,
            "overflow_y": null,
            "overflow_x": null,
            "grid_auto_flow": null,
            "grid_area": null,
            "grid_template_columns": null,
            "flex": null,
            "_model_name": "LayoutModel",
            "justify_items": null,
            "grid_row": null,
            "max_height": null,
            "align_content": null,
            "visibility": null,
            "align_self": null,
            "height": null,
            "min_height": null,
            "padding": null,
            "grid_auto_rows": null,
            "grid_gap": null,
            "max_width": null,
            "order": null,
            "_view_module_version": "1.2.0",
            "grid_template_areas": null,
            "object_position": null,
            "object_fit": null,
            "grid_auto_columns": null,
            "margin": null,
            "display": null,
            "left": null
          }
        },
        "22f5f1f43bee4534a70f5ff4a7fe35f1": {
          "model_module": "@jupyter-widgets/controls",
          "model_name": "FloatProgressModel",
          "state": {
            "_view_name": "ProgressView",
            "style": "IPY_MODEL_ff62098374fd4414a521da7c5c0c2d97",
            "_dom_classes": [],
            "description": "Downloading: 100%",
            "_model_name": "FloatProgressModel",
            "bar_style": "success",
            "max": 230,
            "_view_module": "@jupyter-widgets/controls",
            "_model_module_version": "1.5.0",
            "value": 230,
            "_view_count": null,
            "_view_module_version": "1.5.0",
            "orientation": "horizontal",
            "min": 0,
            "description_tooltip": null,
            "_model_module": "@jupyter-widgets/controls",
            "layout": "IPY_MODEL_cbee8c5003304304b42a16222b7ef8b1"
          }
        },
        "b46de1ff9aab4f0a9c1d36519bd55514": {
          "model_module": "@jupyter-widgets/controls",
          "model_name": "HTMLModel",
          "state": {
            "_view_name": "HTMLView",
            "style": "IPY_MODEL_eb50df505e284217996383082b873533",
            "_dom_classes": [],
            "description": "",
            "_model_name": "HTMLModel",
            "placeholder": "​",
            "_view_module": "@jupyter-widgets/controls",
            "_model_module_version": "1.5.0",
            "value": " 230/230 [00:00&lt;00:00, 277B/s]",
            "_view_count": null,
            "_view_module_version": "1.5.0",
            "description_tooltip": null,
            "_model_module": "@jupyter-widgets/controls",
            "layout": "IPY_MODEL_77a84ded4d404b279878de0e9293f1cf"
          }
        },
        "ff62098374fd4414a521da7c5c0c2d97": {
          "model_module": "@jupyter-widgets/controls",
          "model_name": "ProgressStyleModel",
          "state": {
            "_view_name": "StyleView",
            "_model_name": "ProgressStyleModel",
            "description_width": "initial",
            "_view_module": "@jupyter-widgets/base",
            "_model_module_version": "1.5.0",
            "_view_count": null,
            "_view_module_version": "1.2.0",
            "bar_color": null,
            "_model_module": "@jupyter-widgets/controls"
          }
        },
        "cbee8c5003304304b42a16222b7ef8b1": {
          "model_module": "@jupyter-widgets/base",
          "model_name": "LayoutModel",
          "state": {
            "_view_name": "LayoutView",
            "grid_template_rows": null,
            "right": null,
            "justify_content": null,
            "_view_module": "@jupyter-widgets/base",
            "overflow": null,
            "_model_module_version": "1.2.0",
            "_view_count": null,
            "flex_flow": null,
            "width": null,
            "min_width": null,
            "border": null,
            "align_items": null,
            "bottom": null,
            "_model_module": "@jupyter-widgets/base",
            "top": null,
            "grid_column": null,
            "overflow_y": null,
            "overflow_x": null,
            "grid_auto_flow": null,
            "grid_area": null,
            "grid_template_columns": null,
            "flex": null,
            "_model_name": "LayoutModel",
            "justify_items": null,
            "grid_row": null,
            "max_height": null,
            "align_content": null,
            "visibility": null,
            "align_self": null,
            "height": null,
            "min_height": null,
            "padding": null,
            "grid_auto_rows": null,
            "grid_gap": null,
            "max_width": null,
            "order": null,
            "_view_module_version": "1.2.0",
            "grid_template_areas": null,
            "object_position": null,
            "object_fit": null,
            "grid_auto_columns": null,
            "margin": null,
            "display": null,
            "left": null
          }
        },
        "eb50df505e284217996383082b873533": {
          "model_module": "@jupyter-widgets/controls",
          "model_name": "DescriptionStyleModel",
          "state": {
            "_view_name": "StyleView",
            "_model_name": "DescriptionStyleModel",
            "description_width": "",
            "_view_module": "@jupyter-widgets/base",
            "_model_module_version": "1.5.0",
            "_view_count": null,
            "_view_module_version": "1.2.0",
            "_model_module": "@jupyter-widgets/controls"
          }
        },
        "77a84ded4d404b279878de0e9293f1cf": {
          "model_module": "@jupyter-widgets/base",
          "model_name": "LayoutModel",
          "state": {
            "_view_name": "LayoutView",
            "grid_template_rows": null,
            "right": null,
            "justify_content": null,
            "_view_module": "@jupyter-widgets/base",
            "overflow": null,
            "_model_module_version": "1.2.0",
            "_view_count": null,
            "flex_flow": null,
            "width": null,
            "min_width": null,
            "border": null,
            "align_items": null,
            "bottom": null,
            "_model_module": "@jupyter-widgets/base",
            "top": null,
            "grid_column": null,
            "overflow_y": null,
            "overflow_x": null,
            "grid_auto_flow": null,
            "grid_area": null,
            "grid_template_columns": null,
            "flex": null,
            "_model_name": "LayoutModel",
            "justify_items": null,
            "grid_row": null,
            "max_height": null,
            "align_content": null,
            "visibility": null,
            "align_self": null,
            "height": null,
            "min_height": null,
            "padding": null,
            "grid_auto_rows": null,
            "grid_gap": null,
            "max_width": null,
            "order": null,
            "_view_module_version": "1.2.0",
            "grid_template_areas": null,
            "object_position": null,
            "object_fit": null,
            "grid_auto_columns": null,
            "margin": null,
            "display": null,
            "left": null
          }
        }
      }
    }
  },
  "cells": [
    {
      "cell_type": "markdown",
      "metadata": {
        "id": "kAWvqAjMvNAE"
      },
      "source": [
        "# **NLP Tasks with Transformers using HuggingFace**\n",
        "- Sentiment analysis\n",
        "- Text generation\n",
        "- Name entity recognition (NER)\n",
        "- Question answering\n",
        "- Filling masked text\n",
        "- Summarization\n",
        "- Translation\n",
        "- Feature extraction"
      ]
    },
    {
      "cell_type": "code",
      "metadata": {
        "id": "fkMisJewrjlS",
        "colab": {
          "base_uri": "https://localhost:8080/"
        },
        "outputId": "4cab254b-5126-4c55-8c97-2b211d567c26"
      },
      "source": [
        "!pip install torch===1.5.0 torchvision===0.6.0 -f https://download.pytorch.org/whl/torch_stable.html\n",
        "!pip install transformers\n",
        "!pip install TensorFlow\n",
        "!pip install HuggingFace\n",
        "\n",
        "from transformers import pipeline   ,AutoTokenizer, AutoModelForSequenceClassification"
      ],
      "execution_count": 20,
      "outputs": [
        {
          "output_type": "stream",
          "text": [
            "Looking in links: https://download.pytorch.org/whl/torch_stable.html\n",
            "Requirement already satisfied: torch===1.5.0 in /usr/local/lib/python3.7/dist-packages (1.5.0)\n",
            "Requirement already satisfied: torchvision===0.6.0 in /usr/local/lib/python3.7/dist-packages (0.6.0)\n",
            "Requirement already satisfied: numpy in /usr/local/lib/python3.7/dist-packages (from torch===1.5.0) (1.19.5)\n",
            "Requirement already satisfied: future in /usr/local/lib/python3.7/dist-packages (from torch===1.5.0) (0.16.0)\n",
            "Requirement already satisfied: pillow>=4.1.1 in /usr/local/lib/python3.7/dist-packages (from torchvision===0.6.0) (7.1.2)\n",
            "Requirement already satisfied: transformers in /usr/local/lib/python3.7/dist-packages (2.9.1)\n",
            "Requirement already satisfied: filelock in /usr/local/lib/python3.7/dist-packages (from transformers) (3.0.12)\n",
            "Requirement already satisfied: requests in /usr/local/lib/python3.7/dist-packages (from transformers) (2.23.0)\n",
            "Requirement already satisfied: sentencepiece in /usr/local/lib/python3.7/dist-packages (from transformers) (0.1.91)\n",
            "Requirement already satisfied: numpy in /usr/local/lib/python3.7/dist-packages (from transformers) (1.19.5)\n",
            "Requirement already satisfied: regex!=2019.12.17 in /usr/local/lib/python3.7/dist-packages (from transformers) (2019.12.20)\n",
            "Requirement already satisfied: tqdm>=4.27 in /usr/local/lib/python3.7/dist-packages (from transformers) (4.41.1)\n",
            "Requirement already satisfied: tokenizers==0.7.0 in /usr/local/lib/python3.7/dist-packages (from transformers) (0.7.0)\n",
            "Requirement already satisfied: sacremoses in /usr/local/lib/python3.7/dist-packages (from transformers) (0.0.45)\n",
            "Requirement already satisfied: idna<3,>=2.5 in /usr/local/lib/python3.7/dist-packages (from requests->transformers) (2.10)\n",
            "Requirement already satisfied: urllib3!=1.25.0,!=1.25.1,<1.26,>=1.21.1 in /usr/local/lib/python3.7/dist-packages (from requests->transformers) (1.24.3)\n",
            "Requirement already satisfied: certifi>=2017.4.17 in /usr/local/lib/python3.7/dist-packages (from requests->transformers) (2021.5.30)\n",
            "Requirement already satisfied: chardet<4,>=3.0.2 in /usr/local/lib/python3.7/dist-packages (from requests->transformers) (3.0.4)\n",
            "Requirement already satisfied: click in /usr/local/lib/python3.7/dist-packages (from sacremoses->transformers) (7.1.2)\n",
            "Requirement already satisfied: joblib in /usr/local/lib/python3.7/dist-packages (from sacremoses->transformers) (1.0.1)\n",
            "Requirement already satisfied: six in /usr/local/lib/python3.7/dist-packages (from sacremoses->transformers) (1.15.0)\n",
            "Requirement already satisfied: TensorFlow in /usr/local/lib/python3.7/dist-packages (2.5.0)\n",
            "Requirement already satisfied: h5py~=3.1.0 in /usr/local/lib/python3.7/dist-packages (from TensorFlow) (3.1.0)\n",
            "Requirement already satisfied: wrapt~=1.12.1 in /usr/local/lib/python3.7/dist-packages (from TensorFlow) (1.12.1)\n",
            "Requirement already satisfied: wheel~=0.35 in /usr/local/lib/python3.7/dist-packages (from TensorFlow) (0.36.2)\n",
            "Requirement already satisfied: google-pasta~=0.2 in /usr/local/lib/python3.7/dist-packages (from TensorFlow) (0.2.0)\n",
            "Requirement already satisfied: keras-preprocessing~=1.1.2 in /usr/local/lib/python3.7/dist-packages (from TensorFlow) (1.1.2)\n",
            "Requirement already satisfied: tensorboard~=2.5 in /usr/local/lib/python3.7/dist-packages (from TensorFlow) (2.5.0)\n",
            "Requirement already satisfied: tensorflow-estimator<2.6.0,>=2.5.0rc0 in /usr/local/lib/python3.7/dist-packages (from TensorFlow) (2.5.0)\n",
            "Requirement already satisfied: six~=1.15.0 in /usr/local/lib/python3.7/dist-packages (from TensorFlow) (1.15.0)\n",
            "Requirement already satisfied: gast==0.4.0 in /usr/local/lib/python3.7/dist-packages (from TensorFlow) (0.4.0)\n",
            "Requirement already satisfied: absl-py~=0.10 in /usr/local/lib/python3.7/dist-packages (from TensorFlow) (0.12.0)\n",
            "Requirement already satisfied: termcolor~=1.1.0 in /usr/local/lib/python3.7/dist-packages (from TensorFlow) (1.1.0)\n",
            "Requirement already satisfied: keras-nightly~=2.5.0.dev in /usr/local/lib/python3.7/dist-packages (from TensorFlow) (2.5.0.dev2021032900)\n",
            "Requirement already satisfied: grpcio~=1.34.0 in /usr/local/lib/python3.7/dist-packages (from TensorFlow) (1.34.1)\n",
            "Requirement already satisfied: astunparse~=1.6.3 in /usr/local/lib/python3.7/dist-packages (from TensorFlow) (1.6.3)\n",
            "Requirement already satisfied: protobuf>=3.9.2 in /usr/local/lib/python3.7/dist-packages (from TensorFlow) (3.17.3)\n",
            "Requirement already satisfied: typing-extensions~=3.7.4 in /usr/local/lib/python3.7/dist-packages (from TensorFlow) (3.7.4.3)\n",
            "Requirement already satisfied: opt-einsum~=3.3.0 in /usr/local/lib/python3.7/dist-packages (from TensorFlow) (3.3.0)\n",
            "Requirement already satisfied: numpy~=1.19.2 in /usr/local/lib/python3.7/dist-packages (from TensorFlow) (1.19.5)\n",
            "Requirement already satisfied: flatbuffers~=1.12.0 in /usr/local/lib/python3.7/dist-packages (from TensorFlow) (1.12)\n",
            "Requirement already satisfied: cached-property in /usr/local/lib/python3.7/dist-packages (from h5py~=3.1.0->TensorFlow) (1.5.2)\n",
            "Requirement already satisfied: tensorboard-data-server<0.7.0,>=0.6.0 in /usr/local/lib/python3.7/dist-packages (from tensorboard~=2.5->TensorFlow) (0.6.1)\n",
            "Requirement already satisfied: google-auth-oauthlib<0.5,>=0.4.1 in /usr/local/lib/python3.7/dist-packages (from tensorboard~=2.5->TensorFlow) (0.4.4)\n",
            "Requirement already satisfied: tensorboard-plugin-wit>=1.6.0 in /usr/local/lib/python3.7/dist-packages (from tensorboard~=2.5->TensorFlow) (1.8.0)\n",
            "Requirement already satisfied: werkzeug>=0.11.15 in /usr/local/lib/python3.7/dist-packages (from tensorboard~=2.5->TensorFlow) (1.0.1)\n",
            "Requirement already satisfied: setuptools>=41.0.0 in /usr/local/lib/python3.7/dist-packages (from tensorboard~=2.5->TensorFlow) (57.2.0)\n",
            "Requirement already satisfied: markdown>=2.6.8 in /usr/local/lib/python3.7/dist-packages (from tensorboard~=2.5->TensorFlow) (3.3.4)\n",
            "Requirement already satisfied: requests<3,>=2.21.0 in /usr/local/lib/python3.7/dist-packages (from tensorboard~=2.5->TensorFlow) (2.23.0)\n",
            "Requirement already satisfied: google-auth<2,>=1.6.3 in /usr/local/lib/python3.7/dist-packages (from tensorboard~=2.5->TensorFlow) (1.32.1)\n",
            "Requirement already satisfied: cachetools<5.0,>=2.0.0 in /usr/local/lib/python3.7/dist-packages (from google-auth<2,>=1.6.3->tensorboard~=2.5->TensorFlow) (4.2.2)\n",
            "Requirement already satisfied: pyasn1-modules>=0.2.1 in /usr/local/lib/python3.7/dist-packages (from google-auth<2,>=1.6.3->tensorboard~=2.5->TensorFlow) (0.2.8)\n",
            "Requirement already satisfied: rsa<5,>=3.1.4 in /usr/local/lib/python3.7/dist-packages (from google-auth<2,>=1.6.3->tensorboard~=2.5->TensorFlow) (4.7.2)\n",
            "Requirement already satisfied: requests-oauthlib>=0.7.0 in /usr/local/lib/python3.7/dist-packages (from google-auth-oauthlib<0.5,>=0.4.1->tensorboard~=2.5->TensorFlow) (1.3.0)\n",
            "Requirement already satisfied: importlib-metadata in /usr/local/lib/python3.7/dist-packages (from markdown>=2.6.8->tensorboard~=2.5->TensorFlow) (2.1.1)\n",
            "Requirement already satisfied: pyasn1<0.5.0,>=0.4.6 in /usr/local/lib/python3.7/dist-packages (from pyasn1-modules>=0.2.1->google-auth<2,>=1.6.3->tensorboard~=2.5->TensorFlow) (0.4.8)\n",
            "Requirement already satisfied: chardet<4,>=3.0.2 in /usr/local/lib/python3.7/dist-packages (from requests<3,>=2.21.0->tensorboard~=2.5->TensorFlow) (3.0.4)\n",
            "Requirement already satisfied: idna<3,>=2.5 in /usr/local/lib/python3.7/dist-packages (from requests<3,>=2.21.0->tensorboard~=2.5->TensorFlow) (2.10)\n",
            "Requirement already satisfied: certifi>=2017.4.17 in /usr/local/lib/python3.7/dist-packages (from requests<3,>=2.21.0->tensorboard~=2.5->TensorFlow) (2021.5.30)\n",
            "Requirement already satisfied: urllib3!=1.25.0,!=1.25.1,<1.26,>=1.21.1 in /usr/local/lib/python3.7/dist-packages (from requests<3,>=2.21.0->tensorboard~=2.5->TensorFlow) (1.24.3)\n",
            "Requirement already satisfied: oauthlib>=3.0.0 in /usr/local/lib/python3.7/dist-packages (from requests-oauthlib>=0.7.0->google-auth-oauthlib<0.5,>=0.4.1->tensorboard~=2.5->TensorFlow) (3.1.1)\n",
            "Requirement already satisfied: zipp>=0.5 in /usr/local/lib/python3.7/dist-packages (from importlib-metadata->markdown>=2.6.8->tensorboard~=2.5->TensorFlow) (3.5.0)\n",
            "Requirement already satisfied: HuggingFace in /usr/local/lib/python3.7/dist-packages (0.0.1)\n"
          ],
          "name": "stdout"
        }
      ]
    },
    {
      "cell_type": "markdown",
      "metadata": {
        "id": "O1rQZY6ByN3P"
      },
      "source": [
        "# **Sentiment analysis** \n"
      ]
    },
    {
      "cell_type": "code",
      "metadata": {
        "colab": {
          "base_uri": "https://localhost:8080/"
        },
        "id": "NKEwt7WWvtAR",
        "outputId": "2774baf0-b840-4bf0-d2c7-0749b5fa8e32"
      },
      "source": [
        "model_name = \"distilbert-base-uncased-finetuned-sst-2-english\"\n",
        "#model=\"nlptown/bert-base-multilingual-uncased-sentiment\"\n",
        "\n",
        "model = AutoModelForSequenceClassification.from_pretrained(model_name)\n",
        "tokenizer = AutoTokenizer.from_pretrained(model_name)\n",
        "\n",
        "\n",
        "classifier = pipeline('sentiment-analysis',model=model,tokenizer = tokenizer) # By default, the model downloaded for this pipeline is called “distilbert-base-uncased-finetuned-sst-2-english”\n",
        "results = classifier([\"We are very happy to show you the Transformers library.\",\"We hope you don't hate it.\",'انا سعيد اليوم','انا حزين','je suis heureux ',\"je suis très triste\"])\n",
        "results\n"
      ],
      "execution_count": 5,
      "outputs": [
        {
          "output_type": "execute_result",
          "data": {
            "text/plain": [
              "[{'label': 'POSITIVE', 'score': 0.999799370765686},\n",
              " {'label': 'NEGATIVE', 'score': 0.5308594107627869},\n",
              " {'label': 'NEGATIVE', 'score': 0.620414137840271},\n",
              " {'label': 'NEGATIVE', 'score': 0.5622567534446716},\n",
              " {'label': 'POSITIVE', 'score': 0.9116100072860718},\n",
              " {'label': 'NEGATIVE', 'score': 0.9617950916290283}]"
            ]
          },
          "metadata": {
            "tags": []
          },
          "execution_count": 5
        }
      ]
    },
    {
      "cell_type": "markdown",
      "metadata": {
        "id": "9h0RIA4O2cQA"
      },
      "source": [
        "# **Text generation**"
      ]
    },
    {
      "cell_type": "code",
      "metadata": {
        "colab": {
          "base_uri": "https://localhost:8080/",
          "height": 188,
          "referenced_widgets": [
            "569144ce146d4d6fbb268a2937f3c2de",
            "f6e10f745ba94df9bf634da7a7e73695",
            "d32f220a53154152be07760bf62e7698",
            "fcec02caf47c437f98f538fd7024947f",
            "21a009a434b94b2aa5c32b6fe5e0e287",
            "9e4e9ae2558a49969210ad5a2d219264",
            "9a61ed4a17e54f9b87213d2094675941",
            "7fadc51294d643cba56fa27169e3223b"
          ]
        },
        "id": "q1EomDgP2idX",
        "outputId": "d1c37b40-974f-4184-e146-93ebfbfa442a"
      },
      "source": [
        "\n",
        "generator_text = pipeline('text-generation')\n",
        "\n",
        "print(generator_text(\"hello how are\",max_length=100, do_sample=False))\n",
        "print(generator_text('comment jouer avec  ',max_length=100,do_sample=False))\n",
        "print(generator_text(\"مرحبا كيف\",max_length=100, do_sample=False))\n"
      ],
      "execution_count": 6,
      "outputs": [
        {
          "output_type": "display_data",
          "data": {
            "application/vnd.jupyter.widget-view+json": {
              "model_id": "569144ce146d4d6fbb268a2937f3c2de",
              "version_minor": 0,
              "version_major": 2
            },
            "text/plain": [
              "HBox(children=(FloatProgress(value=0.0, description='Downloading', max=230.0, style=ProgressStyle(description_…"
            ]
          },
          "metadata": {
            "tags": []
          }
        },
        {
          "output_type": "stream",
          "text": [
            "\n"
          ],
          "name": "stdout"
        },
        {
          "output_type": "stream",
          "text": [
            "Setting `pad_token_id` to 50256 (first `eos_token_id`) to generate sequence\n",
            "Setting `pad_token_id` to 50256 (first `eos_token_id`) to generate sequence\n"
          ],
          "name": "stderr"
        },
        {
          "output_type": "stream",
          "text": [
            "[{'generated_text': \"hello how are you doing?\\n\\nI'm doing great. I'm doing great. I'm doing great. I'm doing great. I'm doing great. I'm doing great. I'm doing great. I'm doing great. I'm doing great. I'm doing great. I'm doing great. I'm doing great. I'm doing great. I'm doing great. I'm doing great. I'm doing great. I'm doing great. I'm doing great. I'm\"}]\n"
          ],
          "name": "stdout"
        },
        {
          "output_type": "stream",
          "text": [
            "Setting `pad_token_id` to 50256 (first `eos_token_id`) to generate sequence\n"
          ],
          "name": "stderr"
        },
        {
          "output_type": "stream",
          "text": [
            "[{'generated_text': 'comment jouer avec   une répondit de la répondit de la répondit de la répondit de la répondit de la répondit de la répondit de la répondit de la répondit de la répondit de la répondit de la répondit de la répondit de la répondit de la répondit de la répond'}]\n",
            "[{'generated_text': 'مرحبا كيفته بن بن بن بن بن بن بن بن بن بن بن بن بن بن بن بن بن بن بن بن بن بن بن بن بن بن بن بن بن'}]\n"
          ],
          "name": "stdout"
        }
      ]
    },
    {
      "cell_type": "markdown",
      "metadata": {
        "id": "0stS1jVd8Wxc"
      },
      "source": [
        " # **Name entity recognition**"
      ]
    },
    {
      "cell_type": "markdown",
      "metadata": {
        "id": "cUrOF08-84cn"
      },
      "source": [
        "O, Outside of a named entity\n",
        "\n",
        "B-MIS, Beginning of a miscellaneous entity right after another miscellaneous entity\n",
        "\n",
        "I-MIS, Miscellaneous entity\n",
        "\n",
        "B-PER, Beginning of a person’s name right after another person’s name\n",
        "\n",
        "I-PER, Person’s name\n",
        "\n",
        "B-ORG, Beginning of an organisation right after another organisation\n",
        "\n",
        "I-ORG, Organisation\n",
        "\n",
        "B-LOC, Beginning of a location right after another location\n",
        "\n",
        "I-LOC, Location"
      ]
    },
    {
      "cell_type": "code",
      "metadata": {
        "colab": {
          "base_uri": "https://localhost:8080/",
          "height": 185,
          "referenced_widgets": [
            "22c2dabe103442919ab97d06937bef53",
            "9a5ed5744e424e098430c7d5716e811d",
            "f048674e6afb4a5dbcafa51a270ef0b8",
            "20842a43bc84490485d42df96f6699a6",
            "16bddee0438e4c20a96731f5ea6ea6ac",
            "bd5d930287b447d2ab4d78ace0ffcf4a",
            "4ae85f713f4947b58e19fb3883849c56",
            "4446e547799a489ea9b0b76025a7bd85"
          ]
        },
        "id": "IoHw7lpl8csE",
        "outputId": "74ce4e77-2689-40a4-81c3-4e2b1446dc62"
      },
      "source": [
        "ner = pipeline(\"ner\")\n",
        "\n",
        "sequence_en = \"linkedIn est un réseau social professionnel en ligne créé en 2002 à Mountain View en Californie. L'entreprise est valorisée à 20 milliards de dollars en 2015.Le 13 juin 2016, Microsoft annonce le rachat du réseau social pour un montant de 26,2 milliards de dollars américains soit 23,4 milliards d'euros\"\n",
        "ner(sequence_en)\n",
        "\n"
      ],
      "execution_count": 7,
      "outputs": [
        {
          "output_type": "display_data",
          "data": {
            "application/vnd.jupyter.widget-view+json": {
              "model_id": "22c2dabe103442919ab97d06937bef53",
              "version_minor": 0,
              "version_major": 2
            },
            "text/plain": [
              "HBox(children=(FloatProgress(value=0.0, description='Downloading', max=230.0, style=ProgressStyle(description_…"
            ]
          },
          "metadata": {
            "tags": []
          }
        },
        {
          "output_type": "stream",
          "text": [
            "\n"
          ],
          "name": "stdout"
        },
        {
          "output_type": "execute_result",
          "data": {
            "text/plain": [
              "[{'entity': 'I-LOC', 'score': 0.9985359907150269, 'word': 'Mountain'},\n",
              " {'entity': 'I-LOC', 'score': 0.9992014169692993, 'word': 'View'},\n",
              " {'entity': 'I-LOC', 'score': 0.998285710811615, 'word': 'Cal'},\n",
              " {'entity': 'I-LOC', 'score': 0.948521614074707, 'word': '##if'},\n",
              " {'entity': 'I-LOC', 'score': 0.8773481845855713, 'word': '##orn'},\n",
              " {'entity': 'I-LOC', 'score': 0.8995317220687866, 'word': '##ie'},\n",
              " {'entity': 'I-ORG', 'score': 0.9989840984344482, 'word': 'Microsoft'}]"
            ]
          },
          "metadata": {
            "tags": []
          },
          "execution_count": 7
        }
      ]
    },
    {
      "cell_type": "markdown",
      "metadata": {
        "id": "kCccSrlg-hv5"
      },
      "source": [
        "# **Question answering**"
      ]
    },
    {
      "cell_type": "code",
      "metadata": {
        "colab": {
          "base_uri": "https://localhost:8080/",
          "height": 100,
          "referenced_widgets": [
            "cd2f9aa34a9542e9ad20a50741a97fe7",
            "dfbe62acc4504e74bb5c264e1e351a23",
            "e67792f03f634036949c2f8fb0d31e90",
            "052c6d00fe09421f8f8266629c699253",
            "1773c63f21ee4c948f00f5bba84fc1b0",
            "7c963378a58e490782c03a70dc3a4d79",
            "df1b4a87dc6048aa84ae7ddf217f2500",
            "ad5a077cce1e4e2db9c61151b2491c2e"
          ]
        },
        "id": "BUKLJjMT-k03",
        "outputId": "7c771bf8-e1c4-4c24-f71e-7422614ddc87"
      },
      "source": [
        "\n",
        "question_answerer = pipeline('question-answering')\n",
        "\n",
        "context = \"Extractive Question Answering is the task of extracting an answer from a text given a question. An example of a question answering dataset is the SQuAD dataset, which is entirely based on that task.\"\n",
        "\n",
        "# testing questions\n",
        "question_1 = \"What is extractive question answering ?\"\n",
        "question_2 = \"What is a good example of a question answering dataset?\"\n",
        "\n",
        "# Generating answers\n",
        "print(question_answerer(question=question_1, context=context))\n",
        "print(question_answerer(question=question_2, context=context))\n"
      ],
      "execution_count": 8,
      "outputs": [
        {
          "output_type": "display_data",
          "data": {
            "application/vnd.jupyter.widget-view+json": {
              "model_id": "cd2f9aa34a9542e9ad20a50741a97fe7",
              "version_minor": 0,
              "version_major": 2
            },
            "text/plain": [
              "HBox(children=(FloatProgress(value=0.0, description='Downloading', max=230.0, style=ProgressStyle(description_…"
            ]
          },
          "metadata": {
            "tags": []
          }
        },
        {
          "output_type": "stream",
          "text": [
            "\n",
            "{'score': 0.5899808892383618, 'start': 33, 'end': 95, 'answer': 'the task of extracting an answer from a text given a question.'}\n",
            "{'score': 0.4760158088718782, 'start': 146, 'end': 160, 'answer': 'SQuAD dataset,'}\n"
          ],
          "name": "stdout"
        }
      ]
    },
    {
      "cell_type": "code",
      "metadata": {
        "colab": {
          "base_uri": "https://localhost:8080/"
        },
        "id": "Q0L1w8orCHlL",
        "outputId": "417dfd7f-7bc7-4df5-b0ef-eb59890808a5"
      },
      "source": [
        "context_ar = \"الحج هو الركن الخامس من أركان الإسلام، لقول النبي محمد: 'بني الإسلام على خمس: شهادة أن لا إله إلا الله وأن محمداً رسول الله، وإقام الصلاة، وإيتاء الزكاة، وصوم رمضان، وحج البيت من استطاع إليه سبيلاً'\"\n",
        "\n",
        "answer_question_ar = question_answerer(question = \"ما هو الحج ؟\", context = context_ar)\n",
        "answer_question_ar\n"
      ],
      "execution_count": 9,
      "outputs": [
        {
          "output_type": "execute_result",
          "data": {
            "text/plain": [
              "{'answer': 'هو الركن الخامس',\n",
              " 'end': 20,\n",
              " 'score': 0.005503810875175097,\n",
              " 'start': 5}"
            ]
          },
          "metadata": {
            "tags": []
          },
          "execution_count": 9
        }
      ]
    },
    {
      "cell_type": "code",
      "metadata": {
        "colab": {
          "base_uri": "https://localhost:8080/"
        },
        "id": "d8dS9b75FZ_H",
        "outputId": "168edfe1-5df3-4721-f90f-578eff7cf26d"
      },
      "source": [
        "context_fr = \"Wikipédia en français est l'édition de Wikipédia en langue française. Elle est fondée le 23 mars 2001, deux mois après la création officielle de Wikipédia.\"\n",
        "\n",
        "answer_question_fr = question_answerer(question = \"Quand est ce que la wikipédia a été fondée ?\", context = context_fr)\n",
        "answer_question_fr"
      ],
      "execution_count": 10,
      "outputs": [
        {
          "output_type": "execute_result",
          "data": {
            "text/plain": [
              "{'answer': 'le 23 mars 2001,',\n",
              " 'end': 102,\n",
              " 'score': 0.35677178492711903,\n",
              " 'start': 86}"
            ]
          },
          "metadata": {
            "tags": []
          },
          "execution_count": 10
        }
      ]
    },
    {
      "cell_type": "markdown",
      "metadata": {
        "id": "UD1WweNNFevd"
      },
      "source": [
        "# **Translation**"
      ]
    },
    {
      "cell_type": "code",
      "metadata": {
        "id": "fXNfBY_9F1ij",
        "colab": {
          "base_uri": "https://localhost:8080/",
          "height": 83,
          "referenced_widgets": [
            "eb963e2859844f98808771600e9ee27b",
            "ca844dfb863b4c0298c59087ab051d42",
            "5e33cbe1d4054a3eb84d403316c6a2d8",
            "ddf874ab6e79456e874fa40850c79a1d",
            "27172218695a41dcb11a1070f601ba5e",
            "d16567bf3a1d46f4b0f983975d84ef93",
            "24f1304a4dc4469588632762b7f0ce00",
            "557ebaf9475748eeae2d960c245c5cc6"
          ]
        },
        "outputId": "352033fc-021d-454f-bfe2-1f22aa0185fb"
      },
      "source": [
        "\n",
        "en_to_fr = pipeline(\"translation_en_to_fr\")\n",
        "result_fr = en_to_fr(\"Hugging Face is a technology company based in New York and Paris\", max_length=40)\n",
        "result_fr"
      ],
      "execution_count": 11,
      "outputs": [
        {
          "output_type": "display_data",
          "data": {
            "application/vnd.jupyter.widget-view+json": {
              "model_id": "eb963e2859844f98808771600e9ee27b",
              "version_minor": 0,
              "version_major": 2
            },
            "text/plain": [
              "HBox(children=(FloatProgress(value=0.0, description='Downloading', max=230.0, style=ProgressStyle(description_…"
            ]
          },
          "metadata": {
            "tags": []
          }
        },
        {
          "output_type": "stream",
          "text": [
            "\n"
          ],
          "name": "stdout"
        },
        {
          "output_type": "execute_result",
          "data": {
            "text/plain": [
              "[{'translation_text': 'Hugging Face est une entreprise technologique basée à New York et à Paris.'}]"
            ]
          },
          "metadata": {
            "tags": []
          },
          "execution_count": 11
        }
      ]
    },
    {
      "cell_type": "code",
      "metadata": {
        "id": "EZzCJ7SgGB0C",
        "colab": {
          "base_uri": "https://localhost:8080/",
          "height": 100,
          "referenced_widgets": [
            "4690450320f8457da4c6748a114f9983",
            "9744fe42c2b14047b579ea236d492c4e",
            "0451b0abd6f44de4a271ba8a6e5bdb0c",
            "602471463a244f87aa83e5d50c0ea853",
            "2cd78525fd1149728678ff0d47dcebcc",
            "16fde0f3227e45e18603eae097d7a076",
            "9f49b2bd0a23426cb22b260c595cac04",
            "998d9174e3b948e2a8cc30dbe17636ed"
          ]
        },
        "outputId": "1450e0ac-45f9-4feb-9b3b-3295e860d72e"
      },
      "source": [
        "# translation from english to romanian\n",
        "translator = pipeline(\"translation_en_to_ro\")\n",
        "print(translator(\"Wikipédia est un projet d’encyclopédie collective en ligne, universelle, multilingue et fonctionnant sur le principe du wiki. Ce projet vise à offrir un contenu librement réutilisable, objectif et vérifiable, que chacun peut modifier et améliorer.\", max_length=86))"
      ],
      "execution_count": 12,
      "outputs": [
        {
          "output_type": "display_data",
          "data": {
            "application/vnd.jupyter.widget-view+json": {
              "model_id": "4690450320f8457da4c6748a114f9983",
              "version_minor": 0,
              "version_major": 2
            },
            "text/plain": [
              "HBox(children=(FloatProgress(value=0.0, description='Downloading', max=230.0, style=ProgressStyle(description_…"
            ]
          },
          "metadata": {
            "tags": []
          }
        },
        {
          "output_type": "stream",
          "text": [
            "\n"
          ],
          "name": "stdout"
        },
        {
          "output_type": "stream",
          "text": [
            "Your input_length: 85 is bigger than 0.9 * max_length: 86. You might consider increasing your max_length manually, e.g. translator('...', max_length=400)\n"
          ],
          "name": "stderr"
        },
        {
          "output_type": "stream",
          "text": [
            "[{'translation_text': 'Wikipédia este un proiect d’encyclopédie collective en ligne, universelle, multilingue şi fonctionnant sur le principe du wiki.'}]\n"
          ],
          "name": "stdout"
        }
      ]
    },
    {
      "cell_type": "markdown",
      "metadata": {
        "id": "f7C6ZoZRVE_7"
      },
      "source": [
        "# **Summarization**"
      ]
    },
    {
      "cell_type": "code",
      "metadata": {
        "id": "TvDYg95AVDek"
      },
      "source": [
        "summarizer = pipeline(\"summarization\")\n",
        "ARTICLE=\"Wikipédia est un projet d’encyclopédie collective en ligne, universelle, multilingue et fonctionnant sur le principe du wiki. Ce projet vise à offrir un contenu librement réutilisable, objectif et vérifiable, que chacun peut modifier et améliorer.\"\n",
        "print(summarizer(ARTICLE, max_length=84, min_length=30, do_sample=False))"
      ],
      "execution_count": null,
      "outputs": []
    },
    {
      "cell_type": "markdown",
      "metadata": {
        "id": "6GLiWuPhVz6B"
      },
      "source": [
        "# **Feature extraction**"
      ]
    },
    {
      "cell_type": "code",
      "metadata": {
        "id": "s8Y4cRTeV2Bj",
        "colab": {
          "base_uri": "https://localhost:8080/",
          "height": 120,
          "referenced_widgets": [
            "09d55b7b915d4b7fbd8554591b8b9b19",
            "d1c2c88416f8474f8d5ed4feef9d79a6",
            "af4e1803f1184733a443ba95d2436d3d",
            "4cf27c43121b456e895b1c35274edc09",
            "147541e96c4e4759a1bd96f90aae432b",
            "27bb621e7f524fc289cfa4331d93c482",
            "bccaa5fade8c4571a6399c2a3ff70453",
            "014979d849764ad196e51e09fb4de0f4"
          ]
        },
        "outputId": "1240543d-51ae-4696-d23e-a9ef8e121a65"
      },
      "source": [
        "feature_extraction = pipeline('feature-extraction', model=\"distilroberta-base\", tokenizer=\"distilroberta-base\")\n",
        "features = feature_extraction(\"i am Phd Student.\")\n",
        "\n",
        "print(features[0])\n",
        "print(len(features[0])) "
      ],
      "execution_count": 14,
      "outputs": [
        {
          "output_type": "display_data",
          "data": {
            "application/vnd.jupyter.widget-view+json": {
              "model_id": "09d55b7b915d4b7fbd8554591b8b9b19",
              "version_minor": 0,
              "version_major": 2
            },
            "text/plain": [
              "HBox(children=(FloatProgress(value=0.0, description='Downloading', max=230.0, style=ProgressStyle(description_…"
            ]
          },
          "metadata": {
            "tags": []
          }
        },
        {
          "output_type": "stream",
          "text": [
            "\n",
            "[[-0.034597571939229965, 0.10583612322807312, 0.01171906478703022, -0.09092150628566742, 0.09974636137485504, -0.06182561814785004, -0.03564837574958801, 0.08272474259138107, 0.07069457322359085, -0.06833191215991974, -0.06463196873664856, 0.05068853870034218, 0.04042191058397293, -0.03432275727391243, 0.050665538758039474, -0.008323732763528824, -0.016973381862044334, 0.03395700827240944, -0.02754192240536213, -0.020276982337236404, -0.05156334862112999, 0.004505281336605549, -0.0370616689324379, 0.11891534179449081, -0.008486563339829445, 0.06446423381567001, 0.1302662044763565, 0.04592787101864815, -0.03173253685235977, 0.01429057028144598, -0.0048749735578894615, -0.06148260086774826, 0.02869199775159359, 0.05718902871012688, -0.010263791307806969, 0.0694044828414917, 0.05215027555823326, 0.05615502968430519, -0.02472902461886406, 0.09541488438844681, -0.0025344309397041798, 0.046452272683382034, 0.05056187883019447, -0.00900201965123415, -0.029209813103079796, -0.012391334399580956, -0.04038175195455551, 0.04453261196613312, 0.03373659402132034, 0.014093133620917797, 0.060918524861335754, 0.09158182889223099, -0.06773324310779572, 0.11892160773277283, -0.16410115361213684, -0.034610722213983536, 0.013340561650693417, 0.03295743092894554, 0.030451640486717224, -0.08331765979528427, -0.05123486742377281, -0.2520025372505188, -0.11166919767856598, -0.051412876695394516, 0.02753189206123352, -0.07671260833740234, -0.0789068192243576, -0.0363350547850132, 0.07484731823205948, 0.0526607446372509, 0.10668309032917023, -0.010331242345273495, 0.03928789123892784, -0.025693442672491074, 0.011827771551907063, 0.015325471758842468, 0.017362408339977264, 0.7306010127067566, 0.0072266291826963425, -0.06018988415598869, 0.03670693561434746, -0.08448539674282074, 0.4136614501476288, 0.0878327414393425, -0.01187817007303238, 0.001511462265625596, 0.15995609760284424, 0.03566316142678261, 0.006313986610621214, 0.055442847311496735, -0.03404491767287254, 0.07600582391023636, -0.015946920961141586, 0.018674321472644806, 0.06912428885698318, 0.012150213122367859, -0.005120489746332169, 0.05343976244330406, -0.08890014886856079, -0.08660689741373062, -0.043802615255117416, -0.08880145847797394, 0.09408315271139145, 0.07196801900863647, -0.008408279158174992, -0.0025098680052906275, 0.05117914825677872, -0.08733738958835602, 0.03664622828364372, 0.010255824774503708, -0.0004127681895624846, -0.01511091273277998, 0.08290357142686844, 0.04570838436484337, -0.010673275217413902, -0.03339651599526405, 0.018431145697832108, 0.08694468438625336, -0.039929989725351334, -0.06689085066318512, 0.011767805553972721, 0.09268513321876526, 0.10925392806529999, -0.09626515954732895, -0.02218369022011757, 4.3361920688766986e-05, -0.03467089682817459, 0.0023429107386618853, 0.04209331423044205, 0.02105260081589222, -0.006157348398119211, -0.17007680237293243, -0.05650800094008446, 0.08729472756385803, 0.06297261267900467, 0.03339562192559242, 0.10613872855901718, -0.02840237319469452, 0.041386716067790985, -0.03130597248673439, 0.0029200464487075806, 0.019897211343050003, 0.07084488868713379, 0.0769752636551857, 0.06477879732847214, 0.03855617344379425, 0.0009765239083208144, 0.022174356505274773, 0.11852643638849258, -0.020418565720319748, 0.0827241837978363, -0.13470518589019775, -0.044707540422677994, 0.004221051465719938, -0.10054849088191986, 0.9187942743301392, 0.19633899629116058, 0.08600655198097229, 0.013010786846280098, 0.023540833964943886, 0.27306506037712097, 0.011372438631951809, 0.05062351003289223, 0.0025992710143327713, -0.03428753465414047, -0.0073441858403384686, -0.03503086417913437, -0.02906309999525547, -0.011609336361289024, 0.0448220893740654, 0.031712647527456284, -0.028458351269364357, 0.023876529186964035, -0.07550898939371109, -0.06568366289138794, -0.1519133448600769, 0.07378603518009186, 0.02212066948413849, -0.05349671468138695, -0.007817086763679981, 0.008615675382316113, 0.10303506255149841, -0.08797334879636765, 0.034130509942770004, 0.010357007384300232, 0.09559153765439987, 0.07093531638383865, -0.003925378900021315, 0.02582756243646145, 0.10804731398820877, 0.06733869016170502, 0.004588133189827204, -0.042876068502664566, -0.0015784651041030884, -0.009988698177039623, 0.06032566353678703, -0.07977886497974396, -0.03481803089380264, 0.010533037595450878, -0.023791007697582245, 0.055175818502902985, -0.07787609100341797, 0.1054292544722557, -0.11138278245925903, 0.081462562084198, -0.033678553998470306, 0.028629044070839882, 0.09671755880117416, 0.07990675419569016, -0.1033201590180397, -0.04953322932124138, 0.05961092561483383, 0.024127041921019554, 0.08833110332489014, 0.04036922752857208, -0.0005721404450014234, -0.0018952531972900033, 0.3118642270565033, -0.009834703989326954, 0.05904685705900192, 0.03056526370346546, 0.05399865657091141, -0.04586699232459068, 0.0897757038474083, -0.05081599950790405, 0.003281824290752411, 0.027129344642162323, -0.027648329734802246, 0.0158121045678854, -0.024310408160090446, -0.06260284036397934, 0.07205995917320251, -0.019039280712604523, -0.013600129634141922, 0.08680020272731781, -0.1531345695257187, -0.08128958195447922, 0.039815131574869156, 0.042838454246520996, 0.0447685606777668, -0.15946723520755768, 0.08896785974502563, 0.032708048820495605, 0.09302327781915665, 0.06661245226860046, 0.11583614349365234, 0.08158290386199951, 0.06652474403381348, 0.05473710596561432, 0.03598092868924141, -0.05107541009783745, -0.04225646331906319, 0.08701874315738678, -0.023173509165644646, 0.06060287728905678, -0.10998953878879547, -0.07307786494493484, 0.009829718619585037, -0.07016903907060623, -0.19082894921302795, -0.019063418731093407, -0.029188353568315506, 0.017896290868520737, -0.07977572828531265, -0.13278265297412872, -0.020482903346419334, -0.13110336661338806, 0.015963099896907806, 0.031986601650714874, 0.035498909652233124, -0.016741177067160606, -0.08999697118997574, -0.048335492610931396, -0.029951173812150955, 0.04555390030145645, -0.03180842101573944, -0.10538800060749054, 0.005539006553590298, -0.04872497171163559, 0.025244761258363724, 0.02877064049243927, -0.004547704942524433, -0.05086925998330116, 0.03726997599005699, 0.05909840390086174, -0.04591565951704979, -0.0686626061797142, -0.037092436105012894, 0.02869637869298458, 0.10721508413553238, 0.11235588043928146, -0.016581686213612556, -0.14630140364170074, 0.04857576638460159, -0.01621771790087223, 0.04791944473981857, 0.1349148452281952, -0.02641087956726551, 0.06373599171638489, 0.0898151695728302, -0.018739482387900352, -0.09940183162689209, -0.09006419032812119, -0.018173780292272568, -0.0009191403514705598, -0.08136329054832458, -0.0049268039874732494, -0.007611751556396484, 0.06369251012802124, 0.015410303138196468, -0.08056564629077911, 0.04099225252866745, -0.10615260154008865, 0.1747417151927948, 0.07755986601114273, 0.015086591243743896, 0.10963217169046402, -0.04970787465572357, 0.08653882145881653, 0.050996825098991394, -0.0038041642401367426, -0.01953262835741043, -0.0020651998929679394, 0.01696981117129326, -0.012960442341864109, 0.0792844370007515, -0.029467646032571793, -0.018873203545808792, 0.08232690393924713, 0.6865405440330505, -0.507585346698761, 0.015610650181770325, 0.10474781692028046, 0.04257630929350853, 0.03406955674290657, 0.008548883721232414, 0.032454878091812134, 0.07385631650686264, 0.1308596432209015, 0.14990262687206268, -0.04225827381014824, -0.04336731880903244, -0.02228977344930172, 0.04928560554981232, 0.11420642584562302, -0.02326984703540802, 0.027829520404338837, -0.09176484495401382, -0.06742515414953232, 0.11385006457567215, -0.0321212038397789, -0.09805052727460861, 0.020636284723877907, -0.02621903456747532, 0.03970922529697418, 0.04177315905690193, 0.03738683462142944, -0.08180982619524002, 0.02127787470817566, -0.007456446066498756, 0.06208153814077377, 0.01996949315071106, -0.030857952311635017, -0.0348278172314167, -0.008778934367001057, -0.03999614343047142, -0.12722021341323853, 0.18849998712539673, -0.007214410230517387, 0.010350427590310574, 0.054444458335638046, -0.05697779729962349, 0.028225990012288094, -0.010789019986987114, 0.012686558067798615, -0.037495341151952744, 0.05535270273685455, 0.0014284541830420494, 0.028059547767043114, 0.14836564660072327, 0.039680786430835724, 0.06381780654191971, -0.11916210502386093, 0.02408662438392639, 0.14769962430000305, -0.10867470502853394, 0.027137747034430504, 0.007584490813314915, 0.029192548245191574, 0.018108274787664413, -0.07489855587482452, -0.10946155339479446, -0.045210838317871094, -0.01781887747347355, 0.16187666356563568, 0.01863860711455345, -0.012526266276836395, -0.16681842505931854, -0.0002952444483526051, 0.016621774062514305, 0.010365625843405724, 0.00729102548211813, -0.011618254706263542, 0.10623948276042938, -0.00781556498259306, -0.019385015591979027, -0.012516967952251434, -0.05011771619319916, 0.018835201859474182, -0.07889898866415024, 0.012283498421311378, 0.030742309987545013, 0.05329376086592674, -0.008011243306100368, 0.023775702342391014, -0.03596301004290581, 0.07611364126205444, -0.07357203960418701, -0.01232592947781086, -0.0344792939722538, -0.10312707722187042, 0.08143728971481323, 0.019354959949851036, 0.01428225263953209, -0.03277977555990219, -0.05046747997403145, 0.07652195543050766, -0.07053341716527939, -0.04086483642458916, 0.032106779515743256, -0.03861365467309952, 0.10120076686143875, 0.008470181375741959, -0.07834100723266602, -0.055042169988155365, -0.08153284341096878, -0.00942431204020977, -0.07059651613235474, -0.08622153103351593, -0.09277601540088654, -0.003128839423879981, -0.023944061249494553, 0.13623294234275818, -0.0021249353885650635, -0.10843867808580399, 0.025156648829579353, 0.07674997299909592, 0.05961790308356285, -0.040958236902952194, 0.08105656504631042, -0.04765026271343231, 0.008667384274303913, -0.0915163978934288, -1.0555124282836914, 0.13482537865638733, 0.024292852729558945, -0.007328907027840614, 0.018311576917767525, -0.08309978991746902, 0.07475262880325317, 0.009637637995183468, 0.046566493809223175, -0.0032267554197460413, -0.006987644359469414, 0.0333482101559639, -0.02893429435789585, -0.07114093005657196, 0.07841856777667999, -0.028343241661787033, -0.010126220993697643, 0.10000497847795486, -0.048042990267276764, -0.049526818096637726, -0.11083465069532394, 0.06071906164288521, -0.024504605680704117, -0.0037719490937888622, 0.04427199810743332, -0.05369573086500168, -0.035424310714006424, -0.008962433785200119, 0.09861774742603302, 0.04561459273099899, 0.048333559185266495, -0.09375175833702087, -0.03860766440629959, -0.00306512787938118, 0.059999607503414154, 0.13300065696239471, -0.0791940689086914, -0.027028823271393776, -0.052620064467191696, 0.0745367556810379, 0.05901264026761055, 0.14868174493312836, -0.012019890360534191, 0.4632318615913391, 0.007650828454643488, 0.010737599804997444, 0.05359743535518646, -0.028163926675915718, -0.07061878591775894, 0.013615435920655727, 0.05555145442485809, 0.014715863391757011, 0.03145170584321022, -0.0751948431134224, -0.06045558676123619, 0.05718335136771202, 0.018184473738074303, 0.010024376213550568, 0.06265968084335327, 0.19019824266433716, -0.03733981028199196, 0.05945670232176781, 0.018554333597421646, 0.06617296487092972, -0.03978186100721359, -0.0253074299544096, 0.03174629434943199, -0.007600398268550634, -0.026233920827507973, 0.03589129447937012, -0.0218904297798872, -0.10023526847362518, -0.06333412230014801, -0.014598889276385307, 0.11297546327114105, 0.0976291224360466, -0.10021040588617325, 0.07648672163486481, -0.08380749821662903, 0.0713256224989891, 0.031822942197322845, -0.01763424463570118, 0.046487364917993546, 0.12733660638332367, 0.07152042537927628, -0.02377167157828808, -0.04886459931731224, -0.016307616606354713, 0.011481880210340023, 0.14476342499256134, -0.02902176044881344, 0.06675470620393753, 0.03725573793053627, 0.050401099026203156, -0.12770050764083862, 0.03464736044406891, -0.01566530019044876, 0.03899461403489113, -1.1655834913253784, -0.06493112444877625, 0.1042412668466568, 0.0027288859710097313, -0.005309745669364929, -0.010778526775538921, -0.02965540438890457, -0.03319774568080902, 0.023873943835496902, -0.06093153357505798, 0.04600293189287186, 0.036915916949510574, 0.068979412317276, -0.05919076129794121, -0.050286103039979935, 0.07959326356649399, -0.0569390170276165, -0.05272708460688591, 0.10559137165546417, -0.4166693389415741, 0.03159394487738609, -0.08759520202875137, 0.058336563408374786, 0.030315667390823364, 0.04749327152967453, 0.07787413150072098, -0.010221322067081928, -0.010877614840865135, 0.04771404713392258, 0.03504211828112602, 0.11290250718593597, 0.07902837544679642, 0.02864833176136017, 0.09175997972488403, 0.09647068381309509, 0.04932674020528793, -0.007724421098828316, 14.708098411560059, -0.04789978265762329, 0.09290517866611481, -0.013470674864947796, 0.04321078583598137, -0.10708696395158768, 0.023266486823558807, -0.17560628056526184, 0.0050992961041629314, 0.1518096774816513, -0.06359294801950455, -0.038607336580753326, -0.1106945350766182, -0.06930951774120331, 0.12476746737957001, 0.05530602112412453, -0.025217505171895027, -0.034416139125823975, 0.01867668703198433, -0.04754287376999855, 0.09534864872694016, 0.06286423653364182, -0.029607931151986122, 0.052445169538259506, -0.11131295561790466, 0.02694343402981758, 0.08568746596574783, 0.02876521460711956, 0.005127681419253349, 0.07598615437746048, 0.010584760457277298, 0.020267635583877563, 0.019843392074108124, 0.01464428286999464, 0.1270962506532669, 0.040118977427482605, 0.010834494605660439, 0.09071589261293411, 0.10407671332359314, 0.0927920714020729, 0.07482028007507324, 0.05064725875854492, 0.039934154599905014, -0.043905749917030334, 0.11125178635120392, 0.06105141341686249, 0.0025586774572730064, 0.15204469859600067, 0.06383055448532104, 0.08137599378824234, 0.13297607004642487, -0.010927054099738598, 0.11240686476230621, 0.08146201074123383, 0.007237193174660206, 0.0633489266037941, -0.0546572208404541, 0.0505460649728775, 0.060050491243600845, -0.004265131428837776, -0.014068099670112133, 0.09988566488027573, -0.014358675107359886, 0.035797446966171265, -0.03323302045464516, 0.16076494753360748, 0.14077812433242798, 0.07323708385229111, -0.11214031279087067, -0.004269835539162159, -0.03842172399163246, -0.02145075611770153, -0.08746089786291122, 0.007340576034039259, 0.004778249189257622, -0.030143868178129196, -0.08902644366025925, -0.006741942837834358, -0.021598421037197113, -0.030176328495144844, 0.009057147428393364, 0.0027968776412308216, -0.03967529162764549, -0.022332625463604927, 0.09200058877468109, 0.05287698656320572, 0.03055533953011036, 0.07875648885965347, -0.05366929620504379, -0.015292873606085777, -0.048545219004154205, -0.022452227771282196, 0.03047381527721882, -0.053963012993335724, 0.0403372198343277, -0.004392303992062807, -0.03181497007608414, -0.13321520388126373, 0.10063274949789047, 0.07380148768424988, -0.09934532642364502, 0.024968475103378296, 0.001901675364933908, 0.16098655760288239, 0.03308188170194626, 0.06533952057361603, -0.024217508733272552, 0.008398172445595264, 0.055751774460077286, 0.03760669752955437, -0.0582694336771965, -0.008027088828384876, 0.05292683467268944, -0.004727630876004696, -0.014868627302348614, 0.04720277711749077, -0.022705568000674248, 0.004604554735124111, 0.03432227298617363, 0.09081324934959412, -0.11221209168434143, 0.014321018010377884, 0.04422459378838539, -0.028823314234614372, -0.05510619282722473, -0.03216259554028511, -0.028800709173083305, -0.05949254706501961, -0.04228261113166809, 0.006655383389443159, -0.04085773974657059, 0.08023080974817276, 0.005712320562452078, -0.09328421950340271, 0.055168140679597855, -0.04323340952396393, -0.020547669380903244, 0.1401277482509613, 0.05038227513432503, 0.016810676082968712, -0.01640321873128414, -0.03816273808479309, 0.03677103668451309, -0.15322959423065186, 0.002331153489649296, -0.022890236228704453, 0.03774024173617363, 0.038193222135305405, 0.12496975809335709, -0.12382093816995621, 0.009648370556533337, 0.030579974874854088, 0.07853332161903381, 0.0026103449054062366, 0.027452846989035606, -0.052801575511693954, -0.07719095051288605, 0.07115887850522995, 0.005040349904447794, 0.0610697902739048, 0.06142532825469971, -0.007704433519393206, 0.04135335609316826, -0.010703775100409985, 0.04688504338264465, 0.0020838628988713026, 0.01774575002491474, 0.13733750581741333, 0.007966851815581322, -0.05830850452184677, 0.034653861075639725, -0.012455012649297714, -0.0751304179430008, -0.0737651139497757, -0.04074930399656296, 0.0944184809923172, 0.07110106199979782, -0.03512721136212349, -0.031373679637908936, -0.027767954394221306], [0.09020917117595673, -0.04930979385972023, -0.0893750861287117, -0.02422286570072174, 0.3274441659450531, -0.07410573959350586, 0.03690527752041817, 0.08419885486364365, 0.030915144830942154, -0.08933509886264801, -0.03551769629120827, -0.025673050433397293, -0.10279813408851624, 0.10568062216043472, -0.07633661478757858, 0.4325855076313019, 0.14617395401000977, 0.012303006835281849, 0.03251459449529648, -0.03952954709529877, -0.13373249769210815, 0.010253691114485264, -0.00994272343814373, 0.09405090659856796, 0.15968556702136993, 0.16683842241764069, 0.13894207775592804, -0.1221238523721695, 0.08047042787075043, 0.02473490685224533, 0.06898882985115051, 0.08833843469619751, -0.08058860152959824, 0.1308499574661255, -0.17589329183101654, -0.11281636357307434, 0.12071357667446136, 0.08008965104818344, -0.18661309778690338, 0.019317450001835823, -0.18981844186782837, -0.3476281762123108, 0.010260607115924358, 0.09067732840776443, -0.21397188305854797, 0.13837294280529022, -0.2525942027568817, 0.13376177847385406, 0.0671408474445343, -0.06651018559932709, 0.09524106234312057, -0.09478459507226944, -0.006606213748455048, 0.1463879942893982, -0.05652012303471565, 0.13627415895462036, 0.07656200975179672, -0.28953805565834045, -0.05321275815367699, -0.021690908819437027, -0.031654708087444305, 0.8370890617370605, -0.2105751484632492, 0.07284850627183914, 0.17155955731868744, 0.05367632210254669, -0.009977431036531925, -0.26420724391937256, 0.11526605486869812, 0.08829338103532791, 0.14853736758232117, 0.31655505299568176, 0.10518191754817963, -0.3203897774219513, 0.06590121984481812, 0.20213595032691956, 0.06990685313940048, -4.675731658935547, 0.017585646361112595, 0.11733809858560562, -0.10208697617053986, -0.23547229170799255, 1.118418574333191, 0.18662847578525543, 0.34639623761177063, -0.06689707934856415, 0.024178484454751015, 0.14071135222911835, -0.14693526923656464, 0.022790804505348206, 0.16795916855335236, 0.05810290947556496, -0.05059473216533661, -0.07653335481882095, -0.05313372611999512, -0.3358047604560852, 0.07250809669494629, -0.3841649293899536, 0.08366844803094864, -0.19145050644874573, -0.2124326080083847, -0.15366201102733612, 0.35515522956848145, 0.05937415733933449, 0.10531571507453918, 0.1153225228190422, -0.11853613704442978, -0.14647462964057922, -0.02664213813841343, 0.10036428272724152, -0.03562536835670471, 0.1116458997130394, 0.08040503412485123, -0.11135134100914001, -0.02590836025774479, -0.061299946159124374, 0.330302894115448, 0.22688551247119904, -0.1650361716747284, -0.08341726660728455, 0.1578007936477661, 0.06987196952104568, 0.10710421949625015, 0.1461786925792694, 0.001998741878196597, 0.08134673535823822, 0.1182117909193039, -0.16529704630374908, -0.008639744482934475, 0.09419456124305725, 0.08243965357542038, -0.7506697177886963, -0.05823998525738716, -0.09640903025865555, 0.11655344069004059, -0.08332819491624832, 0.005670088343322277, -0.0664358139038086, -0.043539781123399734, 0.06839797645807266, 0.12611694633960724, -0.2876061499118805, 0.21037201583385468, -0.13956812024116516, -0.15127471089363098, 0.08489334583282471, 0.06946813315153122, 0.11206276714801788, -0.1298801302909851, 0.08547763526439667, 0.24164293706417084, -0.007611064240336418, -0.2899318039417267, 0.06429897248744965, -0.19614540040493011, -0.3338974118232727, 0.2519235610961914, -0.04691668227314949, 0.26411765813827515, 0.21867786347866058, 0.2162044197320938, -0.27816322445869446, 0.27014562487602234, 0.14132145047187805, 0.10133571922779083, -0.1072077676653862, -0.09143134951591492, -0.06423582881689072, 0.020213736221194267, 0.12092673033475876, 0.06493882834911346, -0.30215728282928467, -0.1092354953289032, -0.05596580728888512, 0.057276319712400436, -0.02525811269879341, -0.17587128281593323, 0.09650148451328278, 0.1691100299358368, 0.008807742968201637, -0.2220674455165863, 0.01899978518486023, 0.017971673980355263, 0.14580704271793365, 0.12545686960220337, -0.16703695058822632, 0.16100051999092102, -0.08200202137231827, 0.18007010221481323, 0.056533362716436386, 0.06459424644708633, 0.24952201545238495, -0.07105128467082977, -0.3441099226474762, -0.019165610894560814, 0.15287774801254272, -0.029279645532369614, -0.08331716060638428, 0.2665959298610687, -0.11921700090169907, -0.030468877404928207, 0.22642335295677185, 0.07250291109085083, 0.05212708190083504, 0.07096364349126816, 0.08504703640937805, 0.13698521256446838, 0.05786752700805664, -0.08513569831848145, 0.014117992483079433, 0.04333941638469696, 0.08597701042890549, 0.028573237359523773, -0.10479971021413803, 0.06023392081260681, -0.14809982478618622, -0.04751688614487648, -0.98868727684021, 0.2271088808774948, -0.3859926164150238, 0.07494432479143143, 0.10318212956190109, -0.10931599140167236, -0.10534090548753738, -0.25327277183532715, 0.12884777784347534, -0.09864916652441025, -0.1654275804758072, 0.07750751823186874, 0.20437534153461456, -0.09879938513040543, 0.08271865546703339, -0.10420896112918854, 0.06666149944067001, 0.054215483367443085, -0.3810538649559021, 0.009006824344396591, 0.035752151161432266, 0.04025476053357124, 0.09897955507040024, 0.052652038633823395, 0.06725028157234192, 0.036903366446495056, 0.06652103364467621, 0.1426231563091278, -0.13860420882701874, -0.04071282222867012, 0.377011775970459, -0.029990945011377335, 0.15979893505573273, 0.00705986563116312, 0.014119860716164112, -0.03471297398209572, -0.09204689413309097, 0.04777707904577255, -0.010904226452112198, 0.07586483657360077, 0.010735373012721539, -0.004852354992181063, 0.3147805333137512, 0.08275222778320312, 0.25887325406074524, -0.07947270572185516, -0.08612095564603806, -0.10611679404973984, -0.029220012947916985, 0.022871671244502068, -0.014086340554058552, 0.12294433265924454, 0.12687906622886658, 0.08066392689943314, -0.08399413526058197, -0.025857185944914818, -0.0010176755022257566, 0.005933265667408705, -0.15918920934200287, 0.3335253596305847, 0.002158050425350666, -0.2382204681634903, -0.03147537261247635, -0.09443111717700958, 0.18848519027233124, 0.5608981251716614, 0.12829117476940155, -0.014606618322432041, -0.2387530654668808, 0.22424845397472382, -0.15861037373542786, 0.11856605112552643, -0.0864332839846611, 0.19831407070159912, 0.057189371436834335, -0.016585269942879677, 0.1764976680278778, 0.005823118612170219, 0.06396974623203278, 0.03586285188794136, -0.11177583038806915, 0.10436773300170898, -0.13320957124233246, 0.184897318482399, 0.1613837033510208, -0.12599751353263855, -0.26366692781448364, 0.060961104929447174, 0.28646546602249146, -0.03633470460772514, 0.08314637094736099, -0.1291557103395462, 0.13428717851638794, 0.11947774142026901, 0.2382609099149704, 0.08886083960533142, 0.10195797681808472, 0.1493571549654007, 0.06002425774931908, -0.11172010004520416, -0.09867016971111298, 0.21199028193950653, 0.172078475356102, -0.06373602151870728, -0.1634410172700882, -0.11108805984258652, 0.1752290278673172, -0.2939753234386444, 0.0746249109506607, 0.31278061866760254, 0.19648373126983643, 0.11064261943101883, 0.029233699664473534, 0.20223163068294525, 0.6846453547477722, -0.12519530951976776, 0.011507225222885609, -0.017145879566669464, 0.1228480413556099, -0.0992276519536972, 0.0991758331656456, 0.052800845354795456, -0.017143603414297104, -0.05613940954208374, -0.11371082812547684, -0.020482661202549934, -0.008249703794717789, 0.048610374331474304, 0.242925226688385, 0.24050888419151306, -0.18513965606689453, -0.04881288856267929, 0.06301695853471756, -0.12852118909358978, 0.024972911924123764, 0.06654153764247894, -0.20721201598644257, -0.0640648752450943, 0.01232784241437912, 0.05497831106185913, 0.01196229550987482, 0.029387926682829857, 0.06957947462797165, -0.05173458158969879, 0.5699161291122437, 0.04060312360525131, 0.12563733756542206, 0.10184940695762634, -0.19257329404354095, -0.5064433813095093, 0.06362597644329071, -0.10924822837114334, 0.15912723541259766, 0.05582607537508011, 0.10638682544231415, 0.16519850492477417, -0.06140797957777977, -0.07559050619602203, 0.01295442320406437, -0.08217942714691162, 0.17516690492630005, 0.09495364874601364, -0.05809805914759636, 0.12342513352632523, 0.05093322694301605, 0.06826688349246979, 0.10331900417804718, -0.003293660469353199, 0.005572621710598469, -0.21467408537864685, 0.07984935492277145, 0.10304679721593857, 0.02780916355550289, -0.2078125774860382, -0.14095282554626465, -0.09473437070846558, -0.019157225266098976, 0.10851360857486725, 0.16482675075531006, -0.052454765886068344, 1.2616760730743408, -0.05507389083504677, 0.16206508874893188, -0.00963748712092638, -0.046912115067243576, 0.04892046004533768, 0.19667108356952667, 0.1068100780248642, -0.22295089066028595, 0.0699477270245552, -0.044966716319322586, -0.15773123502731323, -0.36636683344841003, 0.1109088882803917, 0.121582992374897, 0.028531547635793686, -0.21294233202934265, -0.07490870356559753, 0.1250869184732437, -0.003584291785955429, -0.0851571336388588, -0.05398760735988617, 0.16447202861309052, 0.2254108488559723, 0.078822560608387, -0.019471166655421257, 0.1297760307788849, -0.31249386072158813, -0.07316214591264725, 0.2242099791765213, 0.02954941615462303, -0.04367232322692871, 0.043452344834804535, 0.143063485622406, -0.03281412273645401, 0.29598382115364075, 0.11298177391290665, -0.07322031259536743, -0.20610839128494263, -0.06478969752788544, -0.125497967004776, -0.14910349249839783, -0.009642574936151505, 0.11931849271059036, -0.09857014566659927, 0.018417876213788986, 0.004595308564603329, 0.024167895317077637, -0.0016161910025402904, -0.1836680918931961, 0.12162268906831741, 0.010526837781071663, -0.08834432810544968, -0.056312885135412216, 0.22554641962051392, -0.054270610213279724, -2.6503984928131104, 0.19516558945178986, 0.09152653813362122, 0.00906027015298605, 0.1382790505886078, 0.07081420719623566, 0.08121621608734131, 0.12577171623706818, 0.2022630274295807, -0.11367816478013992, -0.010310505516827106, 0.02939373441040516, -0.09961790591478348, -0.022741908207535744, 0.0727481096982956, -0.030279193073511124, 0.10464676469564438, 0.13348941504955292, -0.0178426131606102, -0.022494040429592133, 0.06594935059547424, -0.04160698875784874, -0.09093351662158966, -0.03315628692507744, -0.4023588001728058, -0.03703748807311058, -0.04212905466556549, 0.07289112359285355, 0.0840650126338005, 0.08542197942733765, 0.0018572196131572127, 0.07476375997066498, 0.059349123388528824, -0.08170804381370544, 0.08445802330970764, 0.15991097688674927, -0.06306950747966766, -0.15818527340888977, -0.16007916629314423, -0.03146842494606972, 0.13906337320804596, 0.17981339991092682, 0.11373849213123322, -0.13648651540279388, 0.14320583641529083, 0.3950323462486267, -0.07179343700408936, 0.0506502203643322, 0.07907174527645111, 0.027544599026441574, -0.014884252101182938, 0.07438694685697556, -0.052804239094257355, -0.10801255702972412, 0.08875762671232224, 0.1917102038860321, 0.10062999278306961, -0.0057366290129721165, 0.054834216833114624, -0.1725691556930542, 0.023058632388710976, 0.03939223662018776, 0.11296548694372177, 0.1288229376077652, 0.06377514451742172, -0.5677179098129272, 0.2584684491157532, -0.024970579892396927, -0.15913720428943634, 0.2564590871334076, -0.03785279020667076, -0.04846048727631569, -0.05391599237918854, -0.13867135345935822, -0.03582242876291275, 0.10249187797307968, -0.2887149751186371, 0.3882443606853485, -0.07950567454099655, 0.10501531511545181, 0.17980031669139862, 0.16592253744602203, 0.05118614807724953, 0.0065119825303554535, -0.0857938826084137, -0.13051366806030273, 0.055756017565727234, 0.08651162683963776, 0.029960820451378822, -0.015170655213296413, -0.11471148580312729, -0.004432241432368755, -0.09103498607873917, 0.3702946603298187, -0.10466069728136063, 0.15796899795532227, 0.17953044176101685, -0.10396398603916168, -1.1352958679199219, 0.016863146796822548, 0.19847284257411957, -0.04903055727481842, -0.09791318327188492, -0.0843341127038002, 0.07825542241334915, 0.1113080382347107, 0.29765310883522034, 0.06896620243787766, 0.10771813988685608, 0.10194092243909836, -0.01993594691157341, -0.45296019315719604, -0.022905586287379265, 0.18465493619441986, 0.027782034128904343, 0.1733751893043518, 0.08387190848588943, -0.03992057964205742, -0.031320102512836456, -0.1497790366411209, -0.030476603657007217, 0.2415996938943863, 0.06715551763772964, -0.02935607172548771, 0.09562709182500839, 0.01974622532725334, 0.15000176429748535, 0.2543393671512604, 0.19484533369541168, -0.009808763861656189, -0.0564146563410759, -0.05651846528053284, 0.14718124270439148, 0.33313605189323425, 0.2386987805366516, 11.092406272888184, 0.06656017154455185, 0.030064886435866356, -0.05879493057727814, 0.03870800882577896, -0.06249210983514786, 0.09156900644302368, 0.03281188756227493, 0.17487654089927673, 0.04282943904399872, 0.0371883288025856, -0.025808172300457954, -0.06740675866603851, 0.12768608331680298, 0.012651524506509304, 0.023478718474507332, 0.19064682722091675, 0.1402738392353058, 0.0820150300860405, 0.2839556038379669, 0.19600032269954681, -0.054565101861953735, -0.011058310978114605, -0.02416098117828369, -0.09561684727668762, 0.017942799255251884, 0.04383715242147446, 0.19562089443206787, -0.12203308939933777, 0.14214441180229187, 0.037687741219997406, 0.10650315880775452, -0.06766413152217865, 0.12246761471033096, 0.04143968224525452, 0.26838383078575134, -0.8324640393257141, -0.07387591153383255, 0.030583711341023445, -0.08423677086830139, -0.04052652791142464, -0.08369950205087662, -0.06078270077705383, -0.12050250172615051, 0.05112762376666069, 0.23905739188194275, 0.2683543860912323, 0.1928388774394989, 0.0623428151011467, -0.054649919271469116, 0.031417183578014374, 0.007927185855805874, 0.26788729429244995, 0.13139498233795166, 0.021861230954527855, -0.08136527240276337, 0.15312686562538147, 0.07173953205347061, -0.05916977673768997, 0.028321368619799614, 0.06420683860778809, -0.04481148719787598, 0.06571455299854279, -0.024352284148335457, 0.3645745813846588, 0.08719568699598312, -0.06831354647874832, 0.03252016380429268, -0.1753080040216446, 0.12048744410276413, 0.07526388019323349, -0.04898254573345184, 0.03548664599657059, 0.030234746634960175, -0.2579805850982666, -0.06786473095417023, -0.30882027745246887, -0.11238402873277664, -0.09992128610610962, -0.14650395512580872, 0.0068498896434903145, 0.20596171915531158, -0.01087217777967453, 0.1608920693397522, -0.13772723078727722, 0.09938304126262665, 0.12970632314682007, 0.04529111459851265, 0.0016046268865466118, 0.1535375416278839, -0.05176996812224388, 0.1089102253317833, 0.16263650357723236, -0.07279319316148758, 0.05080879479646683, -0.0602131150662899, -0.07600680738687515, 0.12503895163536072, 0.04412155970931053, -0.25089380145072937, 0.024875136092305183, 0.09358345717191696, -0.04607909545302391, 0.1539430469274521, 0.06450880318880081, 0.02567124180495739, -0.08269278705120087, 0.10290869325399399, 0.012243315577507019, 0.1156952828168869, -0.05070871859788895, 0.07633668929338455, -0.07438469678163528, 0.026563702151179314, -0.12385167181491852, -0.026744846254587173, 0.044524554163217545, 0.13378094136714935, -0.008058656938374043, 0.14622600376605988, -0.05463415011763573, 0.1446257382631302, 0.14042173326015472, 0.10803312808275223, -0.07407908141613007, -0.09932782500982285, 0.044371478259563446, -0.19460797309875488, -0.09068374335765839, 0.05237868055701256, -0.1020859107375145, 0.012267461977899075, 0.2614968419075012, 0.044983819127082825, -0.12268819659948349, 0.11356457322835922, -0.05543702468276024, 0.18377113342285156, -0.2347099930047989, 0.09501119703054428, -0.09387793391942978, -0.12791255116462708, 0.06856389343738556, -0.39331963658332825, -0.0786471888422966, 0.006579759065061808, 0.18233722448349, 0.1881834864616394, 0.009780386462807655, 0.03728131204843521, 0.021684158593416214, -0.06176155433058739, 0.06250499933958054, -0.19195885956287384, 0.011204979382455349, 0.17889057099819183, -0.12807656824588776, -0.1419798880815506, 0.04883817583322525, 0.07564973831176758, 0.10766317695379257, -1.3817602396011353, -0.11000755429267883, -0.20853661000728607, -0.015074610710144043, -0.033633626997470856, 0.045628342777490616, 0.08165890723466873, 0.05506882816553116, -0.04203711077570915, 0.07101956754922867, 0.17450568079948425, -0.019645394757390022, -0.09604231268167496, -0.2513786852359772, -0.0247667133808136, 0.2105088084936142, 0.002795940963551402, -0.09949778765439987, -0.12031055986881256], [0.1457013636827469, 0.22748883068561554, 0.06119708716869354, -0.07201296091079712, 0.4824887216091156, 0.08528080582618713, 0.033819857984781265, -0.06092257425189018, -0.0014265686040744185, -0.03695914149284363, -0.042151711881160736, 0.2957846522331238, 0.023245029151439667, 0.13766299188137054, 0.0501103512942791, -0.03250324726104736, 0.16308818757534027, 0.04082878306508064, 0.14104658365249634, 0.07628530263900757, -0.17285436391830444, 0.10967250168323517, 0.0185786671936512, 0.05147052928805351, -0.054321322590112686, 0.36089906096458435, -0.28742387890815735, -0.0731012150645256, 0.22774654626846313, 0.03787504881620407, -0.11167778074741364, 0.1633232831954956, -0.09991976618766785, 0.14593197405338287, -0.09150730818510056, -0.03505679592490196, 0.0022375474218279123, 0.04910161718726158, 0.6081321835517883, 0.08543724566698074, 0.08601392805576324, -0.5043542981147766, 0.1826799213886261, -0.042752254754304886, -0.1388656497001648, 0.07979992032051086, -0.04053308069705963, 0.19908630847930908, 0.141625314950943, -0.007325093261897564, -0.10731218010187149, 0.03421173244714737, -0.17856405675411224, 0.23004305362701416, -0.16400843858718872, 0.1475057452917099, 0.09307845681905746, -0.10860314965248108, -0.19121025502681732, -0.04851796478033066, -0.2679222524166107, -0.15542064607143402, -0.32571783661842346, -0.2532429099082947, 0.14849796891212463, -0.071038618683815, -0.030800404027104378, 0.11646302789449692, 0.14814025163650513, 0.09683100134134293, 0.12449035793542862, 0.46609148383140564, -0.02066168561577797, -0.230590358376503, 0.11945043504238129, -0.019577255472540855, 0.18610580265522003, -6.674289703369141, -0.04621599614620209, -0.09060061722993851, -0.05176568403840065, -0.3424159586429596, 1.6547715663909912, 0.336350679397583, 0.012036120519042015, -0.006434254348278046, 0.18309280276298523, 0.005696625914424658, -0.008479501120746136, -0.13205192983150482, 0.3237815499305725, -0.024000875651836395, 0.021801307797431946, -0.06657049059867859, 0.030029313638806343, -0.09383590519428253, 0.01406801212579012, 0.836891770362854, 0.01576128602027893, -0.23700688779354095, -0.035421907901763916, -0.0582689568400383, 0.26095137000083923, 0.16555245220661163, -0.01408139057457447, -0.018725436180830002, 0.05020146071910858, -0.25272977352142334, 0.09101159125566483, 0.10715217888355255, 0.00015092034300323576, 0.09140102565288544, -0.17722074687480927, 0.06792689859867096, -0.0036883950233459473, -0.12457412481307983, 0.18780697882175446, 0.0818781927227974, -0.06023011729121208, -0.014600271359086037, 0.05480207875370979, -0.19101284444332123, -0.08765039592981339, -0.11555429548025131, 0.1323910504579544, -0.31074267625808716, 0.0051199886947870255, -0.022296953946352005, 0.09037080407142639, 0.14970090985298157, 0.16494418680667877, -0.5989689230918884, -0.14008751511573792, -0.25569626688957214, 0.15794706344604492, -0.21933212876319885, -0.024735625833272934, 0.06669428199529648, -0.052368227392435074, -0.09361232817173004, 0.07068813592195511, -0.2807573974132538, 0.2528773546218872, 0.0798199251294136, 0.2910686731338501, 0.18383054435253143, 0.008377843536436558, 0.22950494289398193, 0.16483497619628906, 0.37911468744277954, 0.13103681802749634, -0.0037134333979338408, -0.003419215325266123, 0.08812494575977325, -0.26202964782714844, 0.09090568870306015, 0.1253967583179474, -0.12393758445978165, 0.18590663373470306, -0.1351408064365387, 0.31611767411231995, -0.15054862201213837, 0.10335835814476013, 0.029005663469433784, -0.17983250319957733, -0.26614782214164734, -0.1158757135272026, -0.09893906116485596, -0.14593833684921265, 0.3595849275588989, 0.0761929303407669, 0.08051495254039764, 0.07824655622243881, -0.1052483394742012, 0.013185584917664528, -0.0248646829277277, 0.22710858285427094, 0.24322298169136047, 0.1283290982246399, 0.04833830147981644, -0.1568952351808548, -0.05832976475358009, -0.0039153676480054855, -0.15137027204036713, 0.05832559987902641, 0.2840465009212494, 0.10827144235372543, -0.2806859612464905, 0.20923759043216705, 0.11319156736135483, -0.014015981927514076, 0.09825599193572998, -0.023019539192318916, -0.06109454855322838, 0.0986890122294426, -0.0023287853691726923, -0.13658878207206726, -0.036817919462919235, 0.23881980776786804, -0.10927555710077286, -0.12923112511634827, 0.19628947973251343, 0.23349805176258087, 0.13845273852348328, -0.10042066872119904, 0.055089376866817474, -0.06172225624322891, 0.10412973165512085, 0.16509194672107697, 0.057293590158224106, -0.1373010128736496, 0.35182419419288635, -0.12587790191173553, -0.03730453923344612, 0.12992992997169495, -0.21253977715969086, -0.1753484308719635, -0.3867376744747162, 0.07715237140655518, 0.13024768233299255, 0.19635941088199615, 0.29039260745048523, -0.0949164405465126, -0.1849740594625473, -0.2777737081050873, 0.12173078954219818, 0.07325274497270584, -0.1240585520863533, 0.11348863691091537, 0.039735253900289536, -0.13653816282749176, -0.12530237436294556, -0.3035660982131958, 0.14441841840744019, 0.17707973718643188, 0.004226296208798885, 0.12392499297857285, 0.3375284969806671, 0.1560315191745758, 0.06399805098772049, -0.6834683418273926, 0.09756088256835938, 0.10569580644369125, 0.19687744975090027, 0.1741524487733841, -0.29190316796302795, 0.021407367661595345, 0.39851248264312744, 0.20516350865364075, 0.01151843462139368, -0.06129792705178261, -0.10156363993883133, 0.11376962810754776, -0.14769968390464783, -0.0198054239153862, -0.1378849595785141, -0.03868264704942703, 0.08607896417379379, -0.2846693992614746, 0.05469536408782005, 0.007480880711227655, 0.20735065639019012, -0.023722345009446144, -0.06178312748670578, -0.1732192039489746, -0.024048101156949997, 0.039485495537519455, 0.036933206021785736, 0.1508786380290985, 0.11506929248571396, -0.11614754050970078, -0.07317334413528442, -0.05004142224788666, 0.10527322441339493, 0.03494171053171158, -0.1611810028553009, 0.06381623446941376, -0.16358566284179688, -0.2888617515563965, -0.0018225362291559577, -0.017289895564317703, 0.14525941014289856, 0.24568882584571838, -0.06896139681339264, -0.019673461094498634, -0.34596383571624756, -0.7480131387710571, -0.02650204300880432, 0.1537787765264511, -0.051675956696271896, 0.1340966373682022, -0.05904315039515495, -0.15955427289009094, -0.09733718633651733, 0.16923749446868896, -0.10712316632270813, 0.09243279695510864, 0.26882490515708923, 0.06873471289873123, 0.4753111004829407, 0.3405555188655853, 0.20393331348896027, 0.012644979171454906, -0.19389207661151886, -0.01540304534137249, -0.002897844882681966, 0.24019524455070496, -0.0824839398264885, -0.06091001257300377, 0.12093402445316315, 0.12602078914642334, 0.14473287761211395, 0.19663240015506744, 0.03884061053395271, -0.023691367357969284, 0.17559528350830078, 0.16876870393753052, -0.011403126642107964, 0.18020378053188324, -0.058266423642635345, -0.005179202184081078, 0.02206331491470337, -0.2382570207118988, 0.06751110404729843, 0.044628534466028214, 0.12166733294725418, -0.09223699569702148, -0.18352864682674408, 0.19635219871997833, 0.11276392638683319, 0.5153889656066895, 1.4700143337249756, 0.039998024702072144, -0.4164256751537323, -0.1245567798614502, -0.09805095195770264, -0.02723156474530697, 0.15837281942367554, 0.3356829285621643, -0.015389126725494862, 0.025675363838672638, -0.07072139531373978, -0.12096742540597916, -0.12447785586118698, -0.0017142475116997957, 0.11648634821176529, 0.03434547781944275, -0.007740661036223173, -0.07659072428941727, 0.11253754794597626, 0.11270684748888016, -0.004956232849508524, 0.26095932722091675, -0.05157863348722458, -0.20406706631183624, -0.036347370594739914, 0.01845056749880314, -0.09934637695550919, 0.15153148770332336, 0.1279028207063675, -0.04196537286043167, 0.6602725982666016, 0.04937112331390381, -0.004407494328916073, -0.09461381286382675, 0.14128316938877106, -0.07608165591955185, 0.2050621509552002, -0.057812247425317764, 0.12567737698554993, 0.15210816264152527, 0.042465537786483765, -0.12216264009475708, -0.3034624755382538, -0.029183408245444298, -0.03990739956498146, 0.061373889446258545, 0.0291890986263752, 0.28632989525794983, 0.05101756006479263, 0.2656894326210022, 0.13709715008735657, -0.15717534720897675, -0.12211664021015167, 0.0020905432756990194, -0.1512172520160675, -0.272033154964447, -0.026436978951096535, 0.0809318795800209, -0.1292375922203064, -0.015040143392980099, 0.11888612806797028, -0.17035865783691406, 0.150915265083313, -0.04925362393260002, 0.10867512226104736, -0.03921988233923912, 0.3374601900577545, 0.3240162432193756, 0.13005681335926056, -0.08055445551872253, 0.12885849177837372, 0.029671771451830864, 0.3842618465423584, 0.00022487361275125295, -0.09021272510290146, -0.1623910367488861, -0.10585955530405045, -0.03503430634737015, 0.08249547332525253, -0.13352333009243011, -0.32003700733184814, -0.1442110389471054, -0.1369137167930603, -0.17760294675827026, 0.1231861338019371, -0.2619679272174835, 0.2818232476711273, -0.014256068505346775, -0.05277949199080467, 0.2489735186100006, -0.04626738280057907, 0.05430483818054199, -0.025821926072239876, 0.3350488841533661, 0.1620543748140335, 0.12316472828388214, -0.09671919047832489, -0.19019395112991333, 0.15254299342632294, -0.1521052122116089, -0.0517803393304348, 0.3407212495803833, 0.07362743467092514, -0.22182698547840118, -0.18969880044460297, -0.012826116755604744, 0.0051764873787760735, -0.014191331341862679, -0.12885090708732605, 0.10392295569181442, 0.13242194056510925, 0.2054421454668045, -0.07040903717279434, -0.013104142621159554, 0.05721432715654373, 0.08458425849676132, 0.20792734622955322, 0.060841258615255356, -0.08071866631507874, -0.042380571365356445, -0.0001731240190565586, -0.0971934124827385, -2.6576719284057617, -0.01576860249042511, 0.08304110914468765, -0.033034346997737885, 0.06292061507701874, -0.02778533846139908, 0.045721665024757385, -0.1464821845293045, 0.04137472063302994, -0.029548702761530876, -0.04187776893377304, 0.004170570056885481, -0.08065307885408401, 0.11972676217556, 0.04415874183177948, 0.40686067938804626, 0.28885170817375183, 0.08162901550531387, -0.056425921618938446, 0.001993252895772457, -0.020295584574341774, 0.01231273915618658, -0.006630788091570139, -0.19154644012451172, -0.09510927647352219, 0.05656595155596733, 0.2209620326757431, 0.10987641662359238, -0.03420789912343025, -0.050756197422742844, 0.11328037828207016, 0.08969617635011673, 0.012555561028420925, 0.0986858531832695, 0.11022992432117462, 0.3054886758327484, -0.0770631954073906, -0.1071096882224083, 0.07650317251682281, 0.16260284185409546, 0.2364388108253479, 0.15323735773563385, 0.16830888390541077, -0.7830678224563599, -0.058149706572294235, 0.1042274683713913, 0.021080337464809418, 0.10474473237991333, 0.11883159726858139, 0.0364609993994236, 0.18935832381248474, 0.017476776614785194, 0.018843011930584908, 0.03935233876109123, 0.1166718453168869, 0.19344580173492432, 0.15330126881599426, -0.16881953179836273, 0.004628819413483143, -0.13241474330425262, 0.06780578941106796, 0.1127825528383255, 0.2707643210887909, 0.040137920528650284, 0.09679756313562393, -0.36131373047828674, -0.07538679987192154, -0.06415712088346481, -0.11438517272472382, -0.010684039443731308, -0.014832720160484314, 0.18992306292057037, 0.020000722259283066, -0.007913858629763126, 0.0859898179769516, 0.1316247135400772, -0.2665301263332367, 0.2747665047645569, -0.026518890634179115, 0.23039284348487854, 0.2626549005508423, -0.13372308015823364, -0.01752229407429695, 0.034077659249305725, -0.15740469098091125, -0.1367395520210266, -0.09998025000095367, 0.07921237498521805, -0.007222456391900778, 0.1799820512533188, 0.04115212336182594, 0.012460269965231419, -0.11649036407470703, 0.17709749937057495, -0.27330926060676575, 0.14646075665950775, 0.05965671315789223, -0.013083106838166714, -0.4929217994213104, 0.010998417623341084, -0.02563200332224369, 0.11072629690170288, 0.03855765983462334, -0.10661116987466812, 0.10211888700723648, -0.024462586268782616, 0.14107468724250793, -0.06667879223823547, -0.2458156794309616, -0.07198136299848557, 0.06704819947481155, 0.08625193685293198, -0.16726532578468323, 0.011833544820547104, -0.07824238389730453, 0.20051124691963196, -0.059800755232572556, -0.6503925323486328, -0.15747268497943878, -0.0683426558971405, -0.19074632227420807, 0.3318597376346588, -0.10466660559177399, -0.10430354624986649, -0.04997456073760986, -0.2854436933994293, 0.10326698422431946, -0.07722362130880356, 0.12292584776878357, -0.11193862557411194, 0.15920177102088928, 0.14365528523921967, 0.356846421957016, -0.2613355219364166, 0.2554745078086853, 11.815783500671387, 0.12197709083557129, -0.06004757806658745, 0.00610339967533946, 0.12872859835624695, 0.026267657056450844, 0.03539540618658066, 0.18122896552085876, 0.2364664375782013, 0.1576487272977829, 0.006472432054579258, -0.20424909889698029, -0.10316947847604752, -0.13172905147075653, 0.030651699751615524, 0.0032583645079284906, -0.19260473549365997, 0.04803096875548363, -0.2242535799741745, 0.026321418583393097, 0.44139552116394043, 0.2735542953014374, 0.04513978213071823, -0.5588905811309814, -0.17127163708209991, 0.12981650233268738, 0.15417975187301636, 0.007594802416861057, 0.06725192070007324, 0.11104331165552139, -0.21787679195404053, -0.05949465557932854, -0.09062596410512924, -0.046146146953105927, 0.16347192227840424, 0.0908869281411171, 0.24718843400478363, -0.017568254843354225, 0.12250100821256638, -0.05351896956562996, -0.015987519174814224, 0.029179982841014862, 0.020209375768899918, 0.16396676003932953, 0.005760051775723696, 0.13185378909111023, 0.09292671084403992, 0.14105480909347534, 0.07602255046367645, 0.07094679027795792, 0.029826980084180832, 0.08475153893232346, 0.14824877679347992, 0.366093248128891, 0.15261439979076385, 0.056674774736166, 0.06450796127319336, 0.21707476675510406, 0.11436744779348373, 0.1357860267162323, 0.14378267526626587, 0.1225275844335556, 0.03505435585975647, 0.09326452761888504, 0.06817203760147095, 0.2574181854724884, -0.09639638662338257, 0.10768091678619385, 0.019841516390442848, 0.34075725078582764, -0.00583080668002367, -0.08746833354234695, -0.02261062152683735, 0.1351441591978073, -0.15271247923374176, -0.09568607062101364, -0.8068541884422302, 0.0060748085379600525, -0.07448505610227585, -0.06938306242227554, 0.05085080489516258, 0.09432432055473328, 0.03040872886776924, -0.08014816790819168, 0.016514183953404427, 0.020625567063689232, 0.2506551444530487, 0.12148052453994751, 0.2344224601984024, -0.11230488866567612, -0.014238297007977962, -0.11052977293729782, 0.15915939211845398, -0.12736062705516815, -0.0025925145018845797, -0.1586989164352417, 0.0040915305726230145, 0.09991641342639923, -0.0019502511713653803, -0.08679024875164032, 0.1818823665380478, -0.1385095715522766, 0.07066766172647476, 0.16455183923244476, -0.010114775039255619, 0.13866575062274933, 0.04477957263588905, 0.22612714767456055, -0.016242045909166336, 0.25355324149131775, 0.006412595510482788, 0.07925160974264145, 0.07457146048545837, -0.11429273337125778, -0.13411079347133636, -0.09405869990587234, -0.15817861258983612, 0.061722029000520706, -0.19025813043117523, 0.08011328428983688, -0.11744942516088486, 0.17279723286628723, -0.05710820481181145, 0.13562710583209991, -0.14230921864509583, -0.09626588970422745, 0.02594767138361931, -0.06229166314005852, -0.2622818350791931, 0.34479978680610657, 0.10815934836864471, 0.0641535297036171, -0.28816333413124084, -0.05037366598844528, 0.08808434754610062, 0.028137436136603355, -0.020731806755065918, -0.06428799033164978, -0.00449725054204464, 0.1840469092130661, -0.15039508044719696, -0.03366779163479805, 0.04153185710310936, -0.7413321137428284, -0.13530650734901428, -0.22035221755504608, 0.1533375084400177, 0.25352075695991516, -0.07824483513832092, 0.17152392864227295, -0.03747975453734398, 0.08531814068555832, 0.1975005567073822, -0.24377314746379852, 0.1656273454427719, 0.10187559574842453, -0.15225131809711456, 0.17985297739505768, 0.031044311821460724, -0.11801867932081223, -0.09271862357854843, -0.9187650680541992, -0.03992537409067154, -0.1478719264268875, -0.13280853629112244, 0.009094973094761372, 0.16767223179340363, 0.21637049317359924, 0.019545553252100945, -0.08834049105644226, -0.21079228818416595, 0.018664803355932236, 0.16065125167369843, -0.22461017966270447, -0.11523211747407913, -0.05541357398033142, 0.5578781962394714, 0.14539845287799835, 0.05399991199374199, -0.15473683178424835], [0.06324148923158646, 0.08902595937252045, -0.11769946664571762, -0.08935268968343735, -0.23513582348823547, 0.4883541762828827, -0.047731898725032806, -0.22146616876125336, -0.062081776559352875, 0.023279661312699318, -0.2386307567358017, -0.17284569144248962, -0.044840388000011444, 0.7600361704826355, -0.09251026064157486, -0.2501992881298065, 0.6831696033477783, 0.020435692742466927, -0.12009049952030182, 0.2337965965270996, -0.16142335534095764, 0.18499329686164856, 0.053667809814214706, 0.12660643458366394, 0.026860227808356285, 0.21214412152767181, -0.03504393249750137, 0.047023821622133255, 0.1298605501651764, -0.2505149841308594, 0.010180976241827011, -0.048343341797590256, -0.11761417239904404, -0.003730196040123701, 0.1924607753753662, 0.013845916837453842, -0.017984390258789062, 0.21733158826828003, -0.41185230016708374, -0.09265498071908951, 0.3405332863330841, -0.15032123029232025, 0.06341592222452164, -0.1055714339017868, -0.168540358543396, 0.021876083686947823, -0.1316777616739273, 0.33633339405059814, 0.1702972799539566, -0.08103062212467194, 0.2646315395832062, 0.11918716132640839, 0.04699902608990669, 0.08291283994913101, -0.11746601015329361, -0.2884327471256256, 0.08539441972970963, 0.030135776847600937, -0.12124200910329819, -0.12090632319450378, -0.3887042701244354, 1.8141324520111084, -0.2813330292701721, 0.4244138300418854, 0.10902909189462662, -0.00805368460714817, 0.057989247143268585, -0.18385854363441467, -0.02092057093977928, 0.07871776074171066, 0.11834453046321869, 0.3530149757862091, 0.046992138028144836, -0.4686749279499054, 0.16493193805217743, 0.13803547620773315, 0.03914160653948784, -5.644601345062256, 0.1797863095998764, -0.029511841014027596, 0.07952270656824112, -0.2751530706882477, 0.9873817563056946, 0.35251548886299133, -0.05284138023853302, 0.39861875772476196, 0.023587357252836227, 0.18301557004451752, 0.060017384588718414, 0.10370094329118729, 0.13526320457458496, 0.19463852047920227, 0.1291826367378235, 0.07558641582727432, -0.043862540274858475, -0.11257077008485794, 0.24011090397834778, 1.3778660297393799, 0.007654998451471329, 0.32399311661720276, -0.14095565676689148, -0.08541268855333328, 0.345500111579895, 0.09890846163034439, -0.11489218473434448, 0.05990729108452797, -0.12060409784317017, -0.09006933122873306, 0.15722769498825073, -0.03193347528576851, 0.22854265570640564, -0.2507151961326599, -0.14788633584976196, 0.1642722487449646, -0.05031823739409447, -0.01586148329079151, -0.20338265597820282, 0.14024026691913605, -0.07235988229513168, 0.3845379054546356, 0.06362755596637726, -0.08452049642801285, 0.1743975579738617, 0.240242600440979, -0.07643192261457443, 0.30521145462989807, 0.09704963862895966, 0.1232001855969429, 0.13038046658039093, 0.22110606729984283, 0.020186560228466988, -0.4291306138038635, -0.17264822125434875, 0.16050755977630615, 0.023223282769322395, -0.09558171033859253, 0.09378064423799515, -0.05433531850576401, 0.002750806976109743, -0.010014577768743038, -0.1535089612007141, -0.07898535579442978, 0.05692720785737038, -0.017826339229941368, 0.1569206714630127, 0.031360212713479996, -0.021106652915477753, 0.07931176573038101, 0.16547100245952606, 0.1799290031194687, 0.15389657020568848, -0.07830005139112473, -0.29226431250572205, -0.03963160142302513, 0.05892262980341911, 0.013842573389410973, 0.17966823279857635, -0.1333918571472168, 0.23785562813282013, -0.2369181215763092, 0.3097844123840332, 0.10516326874494553, -0.15494824945926666, 0.1690749078989029, 0.04667864739894867, -0.20369216799736023, -0.14842556416988373, -0.020502541214227676, -0.05655309185385704, 0.34950631856918335, 0.004972193390130997, 0.1131543517112732, 0.046685270965099335, -0.08213240653276443, 0.045242730528116226, -0.11704371124505997, 0.1616118997335434, 0.08677062392234802, -0.0023679272271692753, 0.07887713611125946, -0.011918177828192711, -0.04452149569988251, -0.01717614196240902, 0.16762927174568176, 0.08238246291875839, 0.025664638727903366, 0.030993333086371422, -0.2244664877653122, 0.20414139330387115, -0.019232939928770065, 0.04992303252220154, 0.1587979793548584, -0.06287895143032074, 0.01786760427057743, 0.19888469576835632, -0.21590662002563477, -0.027957744896411896, 0.062414634972810745, -0.2560020387172699, -0.0983758419752121, 0.13488125801086426, -0.10418889671564102, 0.11776631325483322, -0.06549271196126938, -0.041812557727098465, -0.12224175035953522, -0.09117908030748367, 0.10740212351083755, 0.12391074001789093, 0.23165607452392578, -0.06430371850728989, 0.2843511402606964, 0.17518728971481323, 0.036954183131456375, 0.45814090967178345, 0.07861349731683731, -0.2770823836326599, -1.2558541297912598, 0.10618988424539566, -0.4040396809577942, 0.042790915817022324, 0.0132866520434618, 0.05046325922012329, -0.18423424661159515, 0.07337610423564911, -0.0808023065328598, -0.06737495213747025, 0.021544640883803368, -0.09114107489585876, -0.17367064952850342, 0.03038606606423855, 0.1506885588169098, -0.2671833038330078, -0.21693001687526703, 0.12524494528770447, 0.010927954688668251, -0.07055556774139404, 0.12234979122877121, 0.1481648087501526, 0.17425934970378876, -1.5952430963516235, 0.03466391563415527, 0.05855210870504379, 0.2463160902261734, 0.14531195163726807, -0.001222796505317092, -0.11852475255727768, 0.11959203332662582, 0.04391353949904442, -0.12400155514478683, -0.05445479601621628, 0.13583920896053314, 0.18570269644260406, -0.11597879976034164, -0.16181528568267822, -0.07894237339496613, 0.07980284839868546, 0.1220238134264946, -0.22231309115886688, 0.09901817888021469, 0.06161048635840416, 0.025631360709667206, -0.051549095660448074, -0.15235298871994019, -0.0017616978147998452, -0.16646164655685425, 0.08052902668714523, -0.008073297329246998, 0.081562340259552, 0.07676313072443008, 0.030052844434976578, -0.002446149243041873, -0.09091111272573471, 0.11941371858119965, -0.09101666510105133, -0.05204217508435249, -0.44018951058387756, 0.09141841530799866, -0.11650015413761139, -0.20053069293498993, 0.07386209815740585, -0.04981230944395065, 0.031065944582223892, 0.31271058320999146, 0.11408434808254242, -0.20425625145435333, -0.9077274203300476, 0.2235460877418518, 0.17317569255828857, -0.08608107268810272, 0.1628180593252182, 0.005622100550681353, -0.36737295985221863, 0.059780303388834, 0.03656310960650444, -0.06560797244310379, 0.28090041875839233, 0.053999658674001694, 0.11346733570098877, 0.047550857067108154, 0.0989808440208435, -0.2178158313035965, -0.4536750912666321, -0.008422131650149822, -0.037121035158634186, -0.03357543796300888, 0.27325382828712463, 0.062188614159822464, 0.0613151453435421, 0.08461661636829376, -0.053337376564741135, 0.10692146420478821, 0.10801878571510315, 0.05946405977010727, 0.030211379751563072, 0.2045862376689911, 0.013979271054267883, 0.05810035392642021, 0.08802530169487, 0.28964757919311523, 0.053963012993335724, -0.07856152206659317, -0.1600928008556366, 0.20353467762470245, 0.07935003191232681, 2.1109312001499347e-05, 0.2532420754432678, 0.10141588002443314, -0.05376080796122551, 0.16776637732982635, 0.39503857493400574, 1.2030285596847534, -0.03546859696507454, -0.2862747609615326, 0.04954758286476135, 0.06836243718862534, -0.05501371994614601, 0.024089420214295387, 0.06928036361932755, 0.19139669835567474, 0.08483851701021194, 0.06797995418310165, -0.35009512305259705, -0.02959897741675377, 0.08398234844207764, 0.013341865502297878, -0.04054531455039978, 0.030813170596957207, -0.0745217353105545, 0.10273420065641403, 0.1241423711180687, 0.08329562097787857, 0.14261288940906525, -0.02093278430402279, 0.019011760130524635, -0.014294763095676899, -0.1018398329615593, -0.17055608332157135, -0.04678985849022865, -0.40644535422325134, 0.18075525760650635, 0.49897071719169617, 0.0755639374256134, 0.0943402424454689, 0.002014362020418048, -0.08535543084144592, 0.31464895606040955, -0.03899479657411575, -0.18918809294700623, -0.06614868342876434, 0.03343453258275986, 0.25905999541282654, 0.008390525355935097, 0.11778730899095535, 0.15472672879695892, 0.04408065974712372, 0.1257413923740387, 0.025363316759467125, 0.04549183323979378, 0.12553025782108307, 0.21200624108314514, -0.008564446121454239, 0.00470041623339057, -0.13448047637939453, 0.2694692611694336, -0.18082541227340698, -0.12121633440256119, 0.17417967319488525, -0.07582263648509979, 0.11848912388086319, 0.07587351649999619, 0.17536897957324982, -0.10957968235015869, -0.0375664122402668, 0.04429936781525612, 0.057352740317583084, 0.1257907897233963, 0.671186089515686, 0.030353408306837082, 0.08206735551357269, 0.05172538757324219, 0.257935106754303, 0.18160921335220337, 0.3720013499259949, -0.037360019981861115, 0.08716309815645218, -0.10650942474603653, 0.02895285375416279, 0.09258393198251724, -0.020525403320789337, 0.1484220176935196, 0.019922850653529167, -0.09330832213163376, 0.03624173253774643, -0.0685025304555893, 0.0016294191591441631, 0.056727033108472824, -0.4129822850227356, 0.02280285768210888, -0.07163068652153015, -0.13180486857891083, 0.1541748046875, -0.06898584216833115, 0.05583333224058151, -0.4038492739200592, -0.014719600789248943, 0.21284425258636475, 0.06946507096290588, 0.23354193568229675, 0.08839651197195053, 0.024772699922323227, -0.11003530025482178, 0.10413069278001785, -0.02526284195482731, -0.017982251942157745, -0.14553764462471008, 0.02566705457866192, 0.03811097517609596, -0.018073996528983116, -0.13718993961811066, 0.06157708540558815, -0.031238146126270294, 0.11159709095954895, 0.08972620964050293, 0.008389730006456375, -0.009781323373317719, 0.23082710802555084, -0.0010342104360461235, -0.12270229309797287, 0.24461360275745392, -0.016120286658406258, 0.22013446688652039, -0.11250431835651398, -1.1244418621063232, 0.07946848124265671, 0.07630285620689392, -0.06520997732877731, 0.077457495033741, -0.10047226399183273, 0.13076211512088776, 0.014771939255297184, 0.20649246871471405, 0.11046135425567627, -0.07873985171318054, 0.20721395313739777, -0.2600438892841339, 0.09930168092250824, -0.05869470164179802, 0.3518567979335785, 0.022394461557269096, 0.19847777485847473, 0.009339559823274612, -0.05855320021510124, -0.09423620253801346, -0.07791654020547867, 0.09775993227958679, -0.07629165798425674, 0.15730640292167664, 0.09410194307565689, 0.009400179609656334, -0.00554680684581399, -0.06420203298330307, 0.05025731399655342, 0.07864893972873688, -0.010260299779474735, -0.005608348175883293, 0.00848350953310728, -0.10676435381174088, 0.11903853714466095, 0.033499058336019516, -0.2949320077896118, 0.005277866963297129, -0.034214697778224945, -0.003604746190831065, 0.17410744726657867, -0.044757336378097534, -0.1806713342666626, 0.08266166597604752, -0.4936896860599518, 0.0440627858042717, -0.009064950980246067, 0.27717354893684387, 0.15676552057266235, 0.11903712898492813, 0.037422001361846924, -0.009389197453856468, -0.07021838426589966, -0.0150013891980052, 0.08439411222934723, 0.12169361114501953, -0.085283063352108, 0.565772533416748, -0.09495329111814499, 0.0022402561735361814, 0.005408832803368568, -0.060597777366638184, 0.12099728733301163, -0.1120743453502655, -0.30062440037727356, -0.23757760226726532, -0.08470176160335541, -0.10509234666824341, 0.06067894026637077, -0.1285455822944641, -0.05423177033662796, 0.003952609375119209, -0.12247443199157715, -0.10845121741294861, 0.12034713476896286, -0.07537955045700073, -0.038611482828855515, -0.2910047173500061, 0.11996205896139145, 0.037982843816280365, 0.07855301350355148, -0.20176738500595093, 0.0317043699324131, 0.04652506858110428, -0.19845452904701233, -0.13417769968509674, -0.15178006887435913, -0.0337618812918663, 0.1012493148446083, 0.012102331034839153, -0.061918701976537704, 0.17033222317695618, 0.23472891747951508, -0.09878931194543839, 0.08508314192295074, -0.33437395095825195, 0.04061608016490936, -0.298378050327301, -0.25006169080734253, -0.052733760327100754, 0.07888209819793701, 0.010482278652489185, -0.11371177434921265, -0.15931686758995056, -0.018543267622590065, 0.13624943792819977, -0.16483697295188904, 0.4686163663864136, -0.08156077563762665, -0.009202047251164913, 0.03276721015572548, -0.009164245799183846, -0.05504930019378662, -0.23375681042671204, 0.0008301884518004954, 0.1221042051911354, -1.031241536140442, -0.12365630269050598, 0.059448547661304474, 0.072178415954113, 0.1570473611354828, 0.028438756242394447, -0.037852607667446136, 0.2198154330253601, -0.25022822618484497, 0.10694512724876404, -0.42127344012260437, 0.3082277774810791, 0.19747227430343628, -0.08668871223926544, 0.04774627462029457, 0.20496703684329987, -0.329377144575119, -0.09134270995855331, 10.804336547851562, 0.07106555253267288, 0.0640772357583046, 0.034296441823244095, -0.1916104555130005, 0.1711265593767166, 0.08388332277536392, 0.10857038199901581, 0.2155362218618393, 0.21633478999137878, -0.06435909867286682, 0.10477082431316376, 0.019802909344434738, -0.24233770370483398, -0.00048455389332957566, -0.013627407141029835, -0.12959694862365723, 0.023146195337176323, -0.16086284816265106, 0.05455528572201729, 0.23971538245677948, 0.4745904505252838, 0.1648622304201126, 0.2725135087966919, -0.06815829128026962, -0.2053561955690384, -0.06674015522003174, 0.019836585968732834, -0.014818240888416767, 0.27996063232421875, 0.09226997941732407, 0.20476888120174408, 0.018935350701212883, 0.028029678389430046, 0.15689153969287872, -0.03427376225590706, 0.35373401641845703, -0.013481935486197472, 0.1503724604845047, 0.10481537878513336, 0.09868259727954865, -0.085404172539711, -0.09813131392002106, -0.1098676547408104, 0.14826975762844086, 0.3493822515010834, 0.3760474622249603, 0.19253873825073242, -0.10820365697145462, 0.14015527069568634, -0.1388000100851059, 0.07028160244226456, 0.08051776140928268, -0.04334859922528267, 0.02455158159136772, 0.02756728231906891, -0.05766446143388748, 0.08600906282663345, 0.09413354098796844, -0.42961740493774414, -0.018095729872584343, -0.03168818727135658, -0.08301105350255966, 0.10433700680732727, 0.0555710643529892, 0.2983294129371643, -0.17002639174461365, 0.2099396139383316, 0.0945342630147934, 0.17552126944065094, 0.021721381694078445, 0.15894509851932526, 0.2108464539051056, -0.030531562864780426, 0.08296428620815277, 0.23456421494483948, 0.5064380168914795, -0.01494811661541462, -0.12502595782279968, 0.06395988911390305, 0.0659426748752594, 0.08737418800592422, 0.12009954452514648, 0.24078530073165894, -0.11221960932016373, 0.043750494718551636, 0.11560457944869995, 0.040684450417757034, 0.16287489235401154, 0.05627920478582382, 0.04266245663166046, -0.27380362153053284, 0.05937928706407547, 0.05739375576376915, -0.14232727885246277, -0.050418201833963394, -0.44349345564842224, -0.03209490701556206, 0.000260296423221007, 0.13661076128482819, -0.24478693306446075, -0.3201894462108612, 0.15317393839359283, 0.14666247367858887, -0.0766599103808403, 0.06475798785686493, 0.1485441029071808, -0.06723850220441818, 0.00766350794583559, 0.018772395327687263, 0.035554684698581696, 0.151729553937912, -0.005757941398769617, 0.001866787439212203, -0.03464336320757866, 0.008581371046602726, -0.006217277143150568, -0.08213400095701218, -0.08171524852514267, -0.14542615413665771, 0.04708762839436531, -0.049372363835573196, -0.08589373528957367, 0.1591164618730545, -0.06636804342269897, 0.05236281827092171, -0.0069689215160906315, -0.10834643244743347, -0.3279591500759125, 0.07672776281833649, -0.15602809190750122, -0.017009954899549484, -0.6426008939743042, 0.10132628679275513, 0.06342560797929764, -0.06208577752113342, 0.04309765249490738, 0.16410043835639954, 0.22038887441158295, 0.018111344426870346, -0.3164045810699463, 0.07172540575265884, 0.13390643894672394, -0.3420940637588501, -0.20166067779064178, 0.10941431671380997, 0.02623514086008072, -0.2961563766002655, 0.17237110435962677, 0.09119091182947159, 0.025355778634548187, -0.08969433605670929, -0.1914360672235489, -0.21862420439720154, 0.11707315593957901, 0.07358916103839874, -0.024315698072314262, 0.3130037486553192, 0.0612979419529438, 0.009192648343741894, 0.123700812458992, -0.5012221336364746, 0.02594289556145668, -0.5792109966278076, -0.19531908631324768, -0.057955726981163025, 0.1486574411392212, 0.07725545763969421, 0.10121887177228928, -0.008735920302569866, 0.03426164388656616, -0.1079045832157135, -0.037630509585142136, -0.1356356143951416, -0.1486714631319046, -0.10056889057159424, 0.09109868109226227, 0.05419478565454483, -0.013127794489264488, -0.06103595346212387], [0.11825182288885117, -0.06368610262870789, -0.08055202662944794, 0.10155609250068665, 0.2981577515602112, 0.4493602216243744, -0.11050674319267273, -0.23167608678340912, 0.09607385098934174, 0.03455810993909836, -0.24468350410461426, 0.13074223697185516, -0.007188071496784687, 0.5070264339447021, 0.041986383497714996, 0.4543391466140747, 0.34142643213272095, -0.07108398526906967, -0.1458120048046112, 0.2530447244644165, -0.1918552666902542, 0.0007511826697736979, -0.021847380325198174, 0.1175667941570282, 0.0907316580414772, 0.2821926474571228, 0.011202736757695675, -0.0144312409684062, 0.2589649558067322, -0.05208339914679527, -0.14038340747356415, 0.044121481478214264, -0.11700992286205292, 0.17381756007671356, -0.10583849251270294, -0.03977490961551666, 0.1211600974202156, 0.25980788469314575, -0.3415762186050415, -0.0020681931637227535, 0.14396856725215912, -0.9540154337882996, 0.21596448123455048, -0.15635254979133606, 0.04239994287490845, 0.04695001617074013, -0.02306060492992401, -0.041535500437021255, 0.015158195979893208, -0.0954921543598175, 0.19325584173202515, 0.24918872117996216, -0.07383091002702713, 0.3310357630252838, -0.11310357600450516, -0.17871959507465363, 0.010054472833871841, 0.10594438761472702, -0.1954021006822586, 0.0867539793252945, -0.13951212167739868, 1.0286005735397339, -0.4319134056568146, 0.2211197465658188, -0.008252538740634918, -0.05288268253207207, 0.07408563047647476, -0.30067044496536255, 0.11769954860210419, 0.0904446691274643, 0.10393211990594864, 0.2793046236038208, 0.10043419897556305, -0.718037486076355, 0.17642109096050262, 0.1352325975894928, 0.09959112107753754, -5.853940486907959, 0.05882344767451286, -0.23548483848571777, -0.02987893857061863, -0.3210228383541107, 1.6213940382003784, 0.08158539980649948, 0.24473035335540771, 0.009693343192338943, 0.09873536229133606, -0.5310162901878357, -0.030985437333583832, 0.20013688504695892, 0.1639847606420517, -0.048397839069366455, 0.16209347546100616, 0.2644379138946533, 0.16070792078971863, -0.30584126710891724, 0.1947910487651825, 0.5928787589073181, -0.10320567339658737, 0.030449215322732925, -0.130222886800766, 0.0083075612783432, 0.40452849864959717, 0.0012255904730409384, -0.028226949274539948, -0.0914527103304863, -0.07151342928409576, -0.13800227642059326, 0.14428819715976715, 0.07099269330501556, 0.09237276017665863, -0.08799881488084793, -0.006151858251541853, 0.11666037142276764, -0.11267155408859253, -0.29586631059646606, -0.2005787342786789, 0.35145092010498047, -0.23369690775871277, -0.8064557909965515, -0.05885899066925049, 0.20787598192691803, -0.16149508953094482, 0.11253642290830612, 0.028785519301891327, 0.13430488109588623, 0.07219859957695007, 0.23156997561454773, 0.0969318225979805, -0.05934542044997215, -0.0028856999706476927, -0.422495037317276, -0.19526855647563934, 0.07118628919124603, 0.19729316234588623, -0.017694320529699326, 0.11823266744613647, 0.04787936806678772, -0.02289283461868763, 0.17726340889930725, -0.08574999868869781, -0.11813964694738388, -0.05250884220004082, -0.11686497926712036, -0.3739568293094635, 0.23360532522201538, 0.04413800686597824, 0.09974370896816254, -0.06045272573828697, 0.004940775688737631, 0.06450851261615753, -0.05035432428121567, -0.06978028267621994, -0.16397954523563385, -0.1331726312637329, -0.16842038929462433, 0.3762713074684143, 0.16259558498859406, 0.1166694164276123, -0.17244413495063782, 0.3040338456630707, -0.1627170741558075, -0.2087155431509018, 0.12006582319736481, 0.044102832674980164, -0.16947831213474274, 0.006199337542057037, 0.14309392869472504, -0.2037561982870102, 0.17410694062709808, 0.11065665632486343, -0.22708259522914886, -0.028019046410918236, 0.07921690493822098, 0.03998347371816635, -0.1939898133277893, 0.2923409342765808, 0.05054982379078865, 0.046670518815517426, 0.08027077466249466, -0.30134180188179016, -0.02284136228263378, -0.07456407696008682, 0.4006311893463135, 0.2753863036632538, -0.09234702587127686, 0.027246979996562004, 0.21835336089134216, 0.3565928339958191, -0.20155885815620422, -0.059529151767492294, 0.14502659440040588, 0.10401515662670135, 0.5072638392448425, 0.0870337188243866, 0.0459023043513298, -0.20263101160526276, -0.2186708152294159, 0.13864287734031677, -0.037985388189554214, 0.055821266025304794, 0.0549883209168911, 0.16636154055595398, 0.08988037705421448, -0.12419775128364563, 0.11017681658267975, 0.08771614730358124, 0.020702039822936058, 0.04782972112298012, 0.1831544190645218, -0.031697265803813934, -0.22720558941364288, -0.08568910509347916, -0.08513414114713669, 0.2019743174314499, 0.23471440374851227, 0.008546514436602592, -0.9115970730781555, 0.12806130945682526, -0.060463741421699524, -0.006328694988042116, 0.05144330486655235, -0.15668931603431702, -0.05401121452450752, -0.05069632828235626, -0.009205152280628681, 0.016183141618967056, 0.14395737648010254, -0.04189125448465347, 0.20964829623699188, -0.06583087891340256, 0.11448240280151367, -0.21434105932712555, -0.20384812355041504, 0.09187726676464081, 0.1886855959892273, -0.016793182119727135, 0.051112767308950424, 0.1269422024488449, 0.22525210678577423, -0.20914652943611145, 0.17346227169036865, 0.08637426048517227, 0.23566852509975433, 0.1014719307422638, 0.2855822741985321, 0.03977660834789276, 0.44460606575012207, -0.0184270441532135, -0.1192995235323906, -0.11687307804822922, -0.2724249064922333, 0.13690900802612305, -0.21216267347335815, -0.12037070095539093, -0.1504102498292923, -0.03722852095961571, 0.14425410330295563, -0.2806793749332428, -1.7443490028381348, 0.13320577144622803, -0.13576281070709229, -0.17425958812236786, -0.2722163200378418, -0.36046281456947327, 0.4696609079837799, 0.00499572092667222, -0.11302071064710617, 0.06742329150438309, 0.12150102108716965, 0.09628645330667496, -0.12104690074920654, -0.12252601981163025, 0.004413318354636431, -0.0387253575026989, 0.04707028344273567, -0.2986759841442108, 0.08552403002977371, 0.4798165261745453, -0.01132657378911972, 0.06960485875606537, -0.15304870903491974, -0.19500115513801575, 0.12099947780370712, 0.16304513812065125, -0.3736778497695923, -0.2661111354827881, -0.06222525238990784, 0.06926263123750687, 0.02394152246415615, 0.30826833844184875, -0.07497982680797577, -0.6558306813240051, -0.03641120344400406, 0.1656673103570938, -0.16943196952342987, 0.24369476735591888, 0.16430538892745972, -0.0036885635927319527, 0.08816488087177277, 0.004632964730262756, -0.03687194734811783, -0.22480368614196777, -0.06993722915649414, 0.10472675412893295, 0.13033762574195862, 0.2810421288013458, 0.07647565752267838, -0.10862333327531815, -0.11404836177825928, -0.19483232498168945, 0.04800111800432205, 0.1191275343298912, 0.08109542727470398, -0.1315697878599167, 0.19305001199245453, -0.0718170553445816, -0.04538362845778465, 0.12493843585252762, 0.30697888135910034, 0.13940811157226562, -0.03859427571296692, -0.08239781856536865, 0.22336339950561523, -0.06720737367868423, 0.1081598773598671, 0.02677185833454132, 0.38408324122428894, 0.023045670241117477, 0.24471338093280792, 0.8494274616241455, 0.8653539419174194, -0.2135944664478302, -0.17795318365097046, -0.062038008123636246, 0.3227284550666809, 0.0021370146423578262, 0.2665354013442993, 0.17448441684246063, 0.05045720562338829, -0.06675922125577927, 0.016801945865154266, -0.3374071717262268, -0.09038792550563812, 0.09491602331399918, -0.061852555721998215, -0.06641415506601334, -0.0708002969622612, -0.07033810019493103, 0.016525154933333397, 0.01824846677482128, -0.03471316397190094, 0.10268189013004303, -0.009492670185863972, 0.04434404894709587, -0.004399894271045923, -0.09813044220209122, 0.040890172123909, -0.23605304956436157, 0.19979830086231232, 0.2969352602958679, 0.3297611474990845, -0.04876520857214928, -0.08702290058135986, -0.07635507732629776, -0.3259047567844391, -0.2314758598804474, -0.1427389681339264, -0.003736451966688037, 0.0292530320584774, -0.06840743124485016, 0.3184847831726074, -0.03724021464586258, 0.09198902547359467, 0.2787077724933624, -0.0011906983563676476, 0.02988744154572487, -0.0880303904414177, -0.0858917236328125, 0.13985665142536163, 0.19739145040512085, -0.006965165957808495, -0.0231668408960104, -0.2085660994052887, 0.34430089592933655, -0.261416494846344, 0.003293490270152688, 0.22884292900562286, -0.06970927864313126, 0.038254667073488235, 0.18884827196598053, 0.07368733733892441, -0.09842559695243835, -0.0632307380437851, -0.0729614645242691, 0.04455007612705231, 0.1694619059562683, -0.03328557312488556, 0.19663798809051514, -0.05410715937614441, -0.08969995379447937, 0.12412872910499573, 0.17184309661388397, 0.37045446038246155, 0.0788201093673706, -0.25893571972846985, 0.0036667287349700928, 0.07298184186220169, -0.09233754873275757, -0.5253273248672485, 0.09328434616327286, -0.050981856882572174, -0.12812282145023346, 0.1323918253183365, -0.18629367649555206, -0.11500942707061768, 0.0877499133348465, 0.18775081634521484, -0.037685826420784, 0.24058593809604645, -0.11570767313241959, -0.039793431758880615, 0.2047700732946396, -0.03362589329481125, 0.04235681891441345, 0.04356030374765396, 0.1994018405675888, -0.06393784284591675, -0.385987788438797, 0.14110183715820312, -0.10334005206823349, -0.1564866602420807, 0.01130263414233923, 0.07164844870567322, -0.0960051491856575, -0.09014742076396942, -0.07560644298791885, -0.08043207973241806, 0.0780860111117363, -0.04191192239522934, 0.2758939564228058, -0.02801631949841976, 0.100584015250206, 0.16832196712493896, 0.1732752025127411, -0.13515426218509674, 0.13525985181331635, 0.10520870238542557, -0.08498300611972809, 0.07160688936710358, -0.21111322939395905, 0.318346232175827, -0.08210039883852005, -1.1994720697402954, 0.0948677584528923, -0.17433521151542664, 0.1119895875453949, 0.2553504407405853, -0.036307401955127716, 0.11505380272865295, -0.10176035016775131, 0.2787160575389862, 0.10401137173175812, -0.009880829602479935, -0.08966274559497833, -0.19529983401298523, 0.08041363954544067, -0.003311576321721077, 0.029175935313105583, 0.030115731060504913, 0.19626539945602417, -0.04760494455695152, -0.10244952887296677, -0.2230442762374878, -0.14210838079452515, 0.10733987390995026, 0.04058222845196724, 0.16894982755184174, 0.08477512001991272, -0.14550155401229858, -0.012912895530462265, 0.06816865503787994, 0.07456081360578537, -0.006350285839289427, 0.13088349997997284, 0.04851050302386284, -0.2808247208595276, -0.14002066850662231, 0.10362659394741058, 0.005261204205453396, -0.24989618360996246, -0.602370023727417, 0.17516237497329712, 0.1272648721933365, 0.17306865751743317, -0.010454894974827766, -0.23473848402500153, 0.07217644155025482, -0.18739186227321625, -0.07230500876903534, 0.09857836365699768, 0.16144676506519318, 0.16294090449810028, 0.29257890582084656, 0.01323209423571825, -0.0688922256231308, -0.075180783867836, -0.011940443888306618, 0.1520308256149292, 0.2522141933441162, -0.22953061759471893, 0.18926489353179932, 0.10287383198738098, 0.08176518231630325, 0.010516753420233727, -0.00221055350266397, 0.2098873406648636, 0.05127223581075668, -0.13355396687984467, -0.18798261880874634, -0.04464541748166084, -0.03345714136958122, 0.06692449748516083, -0.23912322521209717, -0.14453263580799103, -0.007862169295549393, -0.22101359069347382, -0.14474429190158844, 0.10680819302797318, -0.44548317790031433, 0.36025211215019226, -0.254315584897995, 0.12930087745189667, 0.0669701099395752, -0.12592200934886932, -0.07110573351383209, 0.09524466842412949, 0.041920583695173264, 0.05301225185394287, -0.07211791723966599, 0.3665151000022888, 0.04661182686686516, 0.2867477238178253, 0.005344105418771505, 0.02835056744515896, 0.07594829797744751, 0.1180025041103363, -0.029625821858644485, 0.16172528266906738, -0.4091099500656128, 0.04780682921409607, 0.28514885902404785, -0.33593282103538513, -0.1820823699235916, 0.024774909019470215, 0.09183880686759949, -0.15317878127098083, -0.01665537618100643, 0.020030969753861427, 0.6548629403114319, -0.07270055264234543, -0.18929287791252136, -0.20040515065193176, 0.038603104650974274, -0.286225825548172, -0.02370508201420307, 0.04983368515968323, -0.08531379699707031, 0.16382426023483276, 0.04818456992506981, 0.6861030459403992, -0.008485822007060051, 0.025416472926735878, 0.22939454019069672, 0.17161376774311066, -0.010174044407904148, 0.09270990639925003, 0.29335489869117737, -0.17100687325000763, -0.14955444633960724, -0.1899515837430954, 0.23898546397686005, 0.20356518030166626, 0.1178026795387268, 0.13574111461639404, 0.34461960196495056, -0.12281957268714905, -0.13169080018997192, 10.495659828186035, 0.1638759970664978, 0.021923843771219254, 0.12329558283090591, 0.03081493265926838, -0.16055847704410553, 0.06084642559289932, -0.013196699321269989, 0.07919680327177048, 0.0872352197766304, 0.1016511470079422, 0.21859878301620483, 0.1690243035554886, -0.1372833251953125, 0.011432088911533356, -0.20861518383026123, 0.12148156762123108, 0.26736482977867126, -0.10773015767335892, 0.0658576563000679, 0.17200632393360138, 0.31698793172836304, 0.25733548402786255, 0.030042676255106926, -0.1907016783952713, 0.026193469762802124, -0.013990645296871662, -0.22798337042331696, -0.011567692272365093, 0.2221529185771942, 0.09258905053138733, 0.17619606852531433, 0.07528571039438248, 0.0018906791228801012, 0.17883005738258362, -0.10745828598737717, -0.29341524839401245, -0.01363968476653099, 0.280688613653183, 0.14257673919200897, 0.1370435357093811, 0.06009349226951599, -0.0032115429639816284, -0.1863235980272293, 0.1745288074016571, 0.21637700498104095, 0.0031718614045530558, 0.2693422734737396, -0.021425677463412285, 0.2298826277256012, 0.03811846300959587, 0.024880902841687202, 0.06733859330415726, 0.277591347694397, -0.16327089071273804, -0.07659533619880676, -0.19588828086853027, -0.11077708005905151, -0.02957453578710556, 0.24848712980747223, 0.025727733969688416, -0.023904643952846527, 0.03149152547121048, 0.03914625942707062, 0.04085979983210564, 0.36293500661849976, -0.10950370877981186, 0.20785202085971832, 0.3455198109149933, 0.018555857241153717, -0.0723927915096283, 0.09531727433204651, 0.08689854294061661, 0.057757556438446045, 0.1309785395860672, 0.28749364614486694, -0.7982094883918762, 0.04143116995692253, -0.25118687748908997, 0.13782599568367004, 0.1045733094215393, 0.09647130966186523, 0.1708337515592575, 0.08083000034093857, -0.12527690827846527, 0.09781836718320847, 0.037065766751766205, -0.058848392218351364, -0.03594386950135231, -0.10761674493551254, -0.18878555297851562, -0.24567799270153046, 0.07267357409000397, -0.10793031752109528, 0.09157151728868484, -0.23926717042922974, 0.028426919132471085, -0.04522460699081421, 0.15909144282341003, 0.1545543521642685, -0.14298689365386963, 0.07480920106172562, 0.08390624076128006, 0.40670716762542725, 0.05640384182333946, 0.2961098551750183, 0.018142446875572205, -0.22297906875610352, 0.07266134023666382, -0.001875380054116249, 0.12137702107429504, 0.3220870792865753, 0.051634322851896286, -0.036525577306747437, 0.026917506009340286, -0.09379058331251144, 0.05819239839911461, -0.0036494832020252943, -0.013685704208910465, 0.08615700155496597, 0.04071575030684471, 0.05668133869767189, -0.02317281998693943, 0.09612368792295456, 0.018285317346453667, 0.18157970905303955, 0.03493727743625641, -0.22117529809474945, -0.1261783391237259, 0.15269418060779572, 0.0627288818359375, 0.03002181462943554, -0.12019938975572586, -0.012284612283110619, 0.11313755810260773, 0.025165127590298653, 0.040670692920684814, 0.22650843858718872, -0.10489081591367722, 0.13776104152202606, -0.3240845501422882, 0.05037936568260193, 0.018566353246569633, -0.06847313791513443, -0.22811514139175415, 0.1766059696674347, -0.0521155521273613, -0.0919109582901001, -0.06531225889921188, -0.014514438807964325, 0.11265245079994202, 0.07482829689979553, -0.10583312064409256, -0.5911068916320801, 0.21774059534072876, 0.26233789324760437, 0.04247100278735161, 0.43242383003234863, -0.014773150905966759, 0.006575817707926035, 0.07840915024280548, -1.2988280057907104, -0.12254031747579575, -0.0966309979557991, -0.2739511728286743, 0.037188541144132614, 0.20814089477062225, 0.2298719435930252, 0.31474798917770386, 0.08251339197158813, -0.029753420501947403, -0.19490447640419006, 0.16085079312324524, -0.008983450941741467, -0.4028337001800537, -0.1706661581993103, 0.2879587411880493, 0.2599869668483734, -0.0112839937210083, 0.09605716913938522], [0.1656828373670578, -0.06715215742588043, -0.09914618730545044, 0.18677234649658203, 0.6588825583457947, 0.2801681160926819, -0.10371282696723938, 0.0616861954331398, -0.1434323638677597, -0.16045939922332764, -0.1607450544834137, 0.2829200327396393, 0.039545249193906784, -0.03408506512641907, 0.09424461424350739, 0.28491681814193726, 0.08564776927232742, 0.01933406852185726, -0.2393718957901001, 0.17833738029003143, 0.02454397641122341, -0.1735721379518509, -0.058431170880794525, 0.057398684322834015, 0.23426494002342224, -0.006052067503333092, 0.07962688058614731, -0.12785758078098297, -0.15696796774864197, -0.2835507392883301, -0.09158376604318619, -0.032297443598508835, -0.030419068410992622, 0.028155578300356865, -0.007733960170298815, 0.04946392774581909, 0.06938830763101578, 0.19942757487297058, -0.2888046205043793, -0.023755043745040894, -0.1169881746172905, -0.8833354115486145, 0.10578348487615585, -0.1353038251399994, -0.03428259864449501, -0.06568963080644608, 0.24055619537830353, -0.3190387785434723, 0.11508587747812271, -0.002565371338278055, 0.24448825418949127, 0.18588635325431824, -0.11547797173261642, 0.28285542130470276, -0.03386709466576576, 0.0838235542178154, 0.025454947724938393, 0.05636848136782646, -0.125203475356102, 0.11783915758132935, -0.20452389121055603, 1.1369342803955078, -0.27678927779197693, 0.16435618698596954, 0.277304083108902, -0.040660399943590164, 0.09814735502004623, -0.11204446107149124, 0.03866814449429512, 5.1599172365968116e-06, 0.08854740113019943, 0.44244417548179626, 0.057421255856752396, -0.13951930403709412, -0.011120271869003773, -0.2399490624666214, 0.08663351833820343, -6.509145736694336, 0.17510709166526794, -0.3068171441555023, 0.0262304600328207, -0.2113281935453415, 1.6450493335723877, 0.33604711294174194, -0.05307946354150772, 0.3397030234336853, 0.16458015143871307, -0.1457255333662033, 0.17262662947177887, 0.10472416132688522, 0.1975199580192566, 0.016305580735206604, 0.05533580854535103, 0.17872732877731323, 0.0010554096661508083, 0.044925589114427567, 0.17967243492603302, 0.6716098785400391, 0.0018619286129251122, 0.23298829793930054, -0.16633495688438416, 0.039369553327560425, 0.11265858262777328, -0.08584308624267578, -0.013199237175285816, 0.02248147502541542, -0.06996899843215942, -0.04619414731860161, 0.10930175334215164, 0.16738440096378326, -0.037313394248485565, -0.12872891128063202, 0.05707470700144768, 0.14385561645030975, 0.016045453026890755, -0.2243061363697052, -0.1364118456840515, 0.15964508056640625, -0.0468682236969471, -0.1368372142314911, 0.1082015410065651, -0.030960438773036003, 0.20133978128433228, 0.054320234805345535, 0.10119913518428802, 0.15052558481693268, 0.2452780157327652, 0.23194266855716705, -0.02843654900789261, 0.08069267868995667, -0.014781606383621693, -0.04869867488741875, -0.10447961837053299, -0.21607589721679688, 0.013522949069738388, -0.17251896858215332, 0.10362199693918228, 0.06404837965965271, -0.05413177236914635, 0.0934109315276146, -0.1292363554239273, -0.07853342592716217, 0.05180607736110687, -0.1326807141304016, -0.014781277626752853, 0.2912847697734833, -0.008204183541238308, 0.15565483272075653, -0.05121207237243652, 0.0991082563996315, -0.030420858412981033, -0.07707782834768295, -0.17789417505264282, 0.09637606889009476, -0.06580185145139694, -0.2859558165073395, 0.14945244789123535, 0.21012286841869354, 0.16836945712566376, -0.473776638507843, 0.278215616941452, -0.0410957857966423, -0.03939399868249893, -0.062168676406145096, 0.04625869169831276, -0.04691341146826744, -0.09496282786130905, 0.1920740157365799, -0.06608965992927551, 0.023343201726675034, 0.06867025792598724, 0.1357199251651764, -0.022627942264080048, 0.16581691801548004, 0.05220528692007065, -0.11874600499868393, -0.03887173533439636, 0.18811234831809998, -0.017207441851496696, 0.07587776333093643, 0.006372807547450066, 0.02286902442574501, -0.01717020571231842, 0.04453938081860542, 0.24357332289218903, 0.11132869124412537, 0.13348686695098877, -0.07378310710191727, 0.2547667920589447, 0.10154703259468079, 0.04820011556148529, -0.06968295574188232, 0.19447754323482513, 0.5749504566192627, 0.14927417039871216, -0.3286341428756714, -0.2017897665500641, -0.045654814690351486, -0.02411368489265442, -0.08344253897666931, 0.12940581142902374, -0.03705500811338425, 0.3052118122577667, 0.01905585452914238, 0.2926796078681946, -0.03125166520476341, -0.30471110343933105, 0.00900909025222063, 0.0351504310965538, 0.3032810389995575, 0.006158081814646721, 0.3170231580734253, -0.042790256440639496, -0.40743473172187805, 0.04399009421467781, -0.15675042569637299, -0.11233732104301453, -1.3895896673202515, 0.2021656483411789, -0.35832446813583374, -0.11586953699588776, 0.1496618688106537, -0.10079572349786758, -0.0811668187379837, 0.25172877311706543, -0.17979533970355988, 0.1059088408946991, 0.020871059969067574, -0.01181813795119524, -0.018647678196430206, -0.07027599960565567, -0.017894359305500984, -0.20424272119998932, 0.016691241413354874, 0.027499966323375702, -0.1491188406944275, 0.07379426807165146, 0.13736151158809662, 0.098558709025383, 0.044516511261463165, -0.20774653553962708, 0.15888924896717072, -0.0803205817937851, 0.06880035996437073, 0.13533465564250946, 0.07985185086727142, -0.03990493714809418, -0.10304620116949081, 0.1292061060667038, 0.01573546603322029, -0.15602798759937286, -0.1336081624031067, 0.15373340249061584, -0.16210806369781494, -0.03188074380159378, 0.025746868923306465, -0.017520982772111893, -0.02285364829003811, -0.01890171319246292, 0.34154370427131653, 0.13886494934558868, 0.010713763535022736, 0.08164440840482712, -0.26770541071891785, -0.25014886260032654, -0.10425081104040146, -0.02499244548380375, -0.02570265531539917, 0.13935957849025726, 0.20283640921115875, 0.08169163763523102, -0.06466300040483475, -0.3954799473285675, -0.034953393042087555, -0.021453632041811943, 0.07617668062448502, -0.5438486933708191, -0.0024066329933702946, -0.09398408234119415, -0.06879734247922897, 0.13924852013587952, -0.221709743142128, 0.13310566544532776, 0.13215851783752441, 0.15140654146671295, -0.10705746710300446, -0.33872121572494507, 0.13551367819309235, 0.05580420419573784, -0.09442152827978134, 0.14423836767673492, 0.062331367284059525, -0.29280203580856323, 0.08571107685565948, -0.08924250304698944, 0.018069066107273102, 0.1324521005153656, -0.0696139931678772, -0.004495034459978342, 0.5133400559425354, 0.11441142112016678, 0.003673731815069914, -0.36473843455314636, -0.06638903170824051, 0.09516459703445435, 0.04636214300990105, 0.1662295013666153, -0.041530974209308624, 0.0520712174475193, -0.11555439233779907, 0.11161041259765625, -0.013111160136759281, 0.10101655125617981, 0.1760273426771164, 0.11253215372562408, 0.0842689648270607, -0.04834389314055443, 0.10847412794828415, 0.07206688076257706, 0.13522249460220337, -0.03141763061285019, -0.18139465153217316, -0.18289335072040558, 0.14355570077896118, 0.2851417660713196, 0.12651056051254272, 0.2744445204734802, -0.14079460501670837, 0.10483711957931519, 0.21906179189682007, 0.4865362048149109, -0.26860368251800537, 0.04445497319102287, -0.010921397246420383, -0.13782218098640442, -0.03713899478316307, -0.04057665914297104, 0.10047217458486557, -0.03541409224271774, 0.03790508955717087, 0.014527665451169014, -0.12999923527240753, -0.18222877383232117, -0.06844595819711685, 0.10917352139949799, 0.005592908710241318, 0.06586664915084839, 0.13222050666809082, -0.18167784810066223, 0.14414547383785248, 0.062441036105155945, 0.0979883223772049, 0.14403599500656128, -0.3294889032840729, -0.004517023451626301, -0.07386938482522964, 0.06003979220986366, -0.04043778404593468, -0.07047668099403381, -0.21644505858421326, 0.17879898846149445, -0.05456608533859253, 0.0011998364934697747, -0.20388184487819672, 0.155379518866539, 0.16393710672855377, 0.7276632189750671, -0.3302386999130249, -0.020009348168969154, 0.08070071786642075, -0.02480419911444187, 0.15294474363327026, -0.06091997027397156, -0.0017487476579844952, 0.11828608065843582, -0.05096731707453728, 0.08329480141401291, 0.059482283890247345, 0.06586381793022156, 0.13767170906066895, 0.07444828003644943, 0.154744490981102, -0.04767385125160217, -0.14248766005039215, 0.04436330869793892, -0.36668631434440613, -0.13838925957679749, 0.00021568800730165094, 0.08313724398612976, 0.06302060931921005, 0.2149030715227127, 0.1469455063343048, -0.16800826787948608, -0.07248833030462265, -0.07236846536397934, 0.03436164930462837, 0.2714383006095886, 0.1122494637966156, -0.5293387770652771, 0.0537509061396122, -0.05296248197555542, 0.08343460410833359, 0.100162573158741, 0.2081403136253357, -0.015710262581706047, 0.07923907041549683, 0.24229782819747925, -0.07211897522211075, 0.28620949387550354, 0.1512981802225113, 0.11484280973672867, 0.12700414657592773, -0.03694138675928116, -0.033976584672927856, -0.3172213137149811, 0.04762457311153412, -0.06560132652521133, -0.04780393838882446, -0.13566823303699493, -0.17773739993572235, -0.08690496534109116, 0.001758643426001072, 0.10914142429828644, -0.15100646018981934, 0.19509628415107727, -0.008939838968217373, 0.1204736977815628, 0.10795623809099197, -0.4451330602169037, 0.11276593804359436, -0.05788542330265045, -0.10462044179439545, -0.10156179964542389, -0.011979883536696434, -0.16526822745800018, -0.12127100676298141, 0.041713207960128784, 0.009395250119268894, 0.06765573471784592, 0.04431813955307007, 0.14634793996810913, 0.14790572226047516, 0.1621953696012497, 0.02479175478219986, -0.02861606515944004, -0.048617005348205566, 0.05139933153986931, 0.14147251844406128, -0.12769715487957, 0.21096783876419067, -0.13333569467067719, -0.0029445551335811615, 0.169931098818779, -1.8164117336273193, 0.14568163454532623, -0.055090151727199554, -0.005091272294521332, 0.09416158497333527, -0.002758115530014038, -0.031237801536917686, 0.12767712771892548, 0.029829170554876328, 0.1512708216905594, -0.05216589942574501, -0.07040540128946304, 0.0028447331860661507, 0.06993576884269714, -0.13308556377887726, 0.012742291204631329, -0.008235480636358261, 0.07168315351009369, 0.06568731367588043, 0.022435760125517845, -0.03574162349104881, 0.02634383924305439, 0.09140045195817947, -0.01486189290881157, 0.045675572007894516, 0.2202514111995697, -0.17754662036895752, 0.11938652396202087, -0.04193985462188721, 0.06301485747098923, 0.051604967564344406, 0.0399223156273365, -0.11626550555229187, -0.033355411142110825, -0.06661198288202286, 0.08049309253692627, 0.06303673982620239, -0.11649949103593826, -0.19120889902114868, -0.012225821614265442, -0.04222581535577774, 0.16290970146656036, -0.027525275945663452, -0.04831257835030556, 0.11246192455291748, 0.6648201942443848, 0.05662008747458458, 0.03557237610220909, 0.11811526864767075, 0.28671857714653015, 0.04595475643873215, 0.005899891722947359, 0.22959832847118378, 0.10908068716526031, -0.04637991636991501, 0.16326837241649628, 0.1499820500612259, -0.06492053717374802, -0.05541588366031647, 0.04709643870592117, 0.01161867007613182, 0.04323564097285271, 0.0921296626329422, -0.02562006004154682, 0.05863266438245773, -0.318962424993515, 0.179531991481781, -0.03678899258375168, 0.032732464373111725, 0.10075221955776215, -0.11728312075138092, -0.10585923492908478, 0.08302636444568634, -0.09650816768407822, -0.08699558675289154, 0.026015348732471466, -0.24122664332389832, 0.4567902684211731, -0.09254197776317596, 0.1906280815601349, 0.21102172136306763, -0.0826483741402626, -0.007074121385812759, 0.07384642213582993, 0.06708411127328873, 0.6016258597373962, 0.054469604045152664, 0.334356427192688, 0.08539728820323944, 0.18521103262901306, -0.09857041388750076, 0.18253155052661896, -0.05025618150830269, 0.21330375969409943, 0.05748521536588669, 0.13914984464645386, -0.3448343276977539, 0.07108139246702194, 0.2833263576030731, -0.1600799262523651, 0.024473072960972786, -0.055770520120859146, -0.009210709482431412, 0.06440553814172745, -0.07082702964544296, 0.07778413593769073, 0.091876320540905, -0.11432988196611404, -0.09262518584728241, 0.030947193503379822, -0.19189223647117615, 0.253059983253479, -0.20860765874385834, 0.003784790402278304, -0.06230982020497322, -0.010593026876449585, 0.11264321953058243, -0.5674602389335632, 0.04579303413629532, -0.11893776059150696, 0.44967150688171387, 0.02015237882733345, -0.013494192622601986, 0.03194959834218025, 0.11820083856582642, -0.05902514234185219, -0.10074817389249802, -0.12872913479804993, 0.25484561920166016, 0.0009078483562916517, 0.20556145906448364, 0.21363075077533722, 0.09317085146903992, 0.026518674567341805, -0.06751968711614609, 11.358750343322754, -0.05478435009717941, 0.05286745727062225, 0.10528784990310669, 0.11662334948778152, 0.04901203140616417, 0.06618835031986237, 0.05619317293167114, 0.3331737518310547, -0.00250103953294456, 0.1661924421787262, 0.09448163956403732, 0.06749648600816727, -0.15244506299495697, 0.06150795891880989, 0.022728009149432182, -0.22975990176200867, 0.0972689688205719, -0.15322741866111755, 0.09793820232152939, 0.12015877664089203, -0.28361672163009644, 0.143330380320549, 0.18965084850788116, -0.18409332633018494, 0.002257761312648654, -0.11335482448339462, -0.1250227987766266, 0.01503249816596508, 0.29572510719299316, -0.006317542400211096, 0.051069602370262146, -0.08235041797161102, -0.09810738265514374, 0.21811027824878693, 0.20504608750343323, -0.17451085150241852, -0.10220889747142792, 0.05089375376701355, -0.23445378243923187, 0.10249358415603638, -0.012985341250896454, 0.07274354994297028, -0.25477030873298645, 0.12288538366556168, 0.18065468966960907, 0.29169851541519165, 0.18503941595554352, 0.09725111722946167, 0.09450855106115341, -0.01705419085919857, 0.184103861451149, 0.09698303788900375, 0.0669211596250534, -0.08162233233451843, -0.36642616987228394, 0.042875248938798904, 0.00876593217253685, -0.04110431671142578, -0.17602846026420593, -0.07202548533678055, 0.05133839696645737, -0.056350111961364746, 0.10429015755653381, 0.42610400915145874, -0.09961272031068802, 0.024373965337872505, -0.030204251408576965, -0.008015234023332596, 0.04096575826406479, -0.0901486799120903, 0.09887876361608505, 0.07561654597520828, 0.05224239453673363, -0.4978410005569458, 0.0700492188334465, -0.09703991562128067, -0.08209316432476044, -0.0769151970744133, 0.17279106378555298, -0.04354531690478325, 0.11237382143735886, 0.10699687153100967, 0.033448781818151474, -0.022771667689085007, 0.08066316694021225, 0.14043354988098145, -6.41130463918671e-05, 0.10450886189937592, 0.007271771319210529, -0.031161827966570854, -0.256248414516449, 0.277366042137146, 0.006111505441367626, 0.018884560093283653, 0.009677252732217312, -0.33221274614334106, -0.053945496678352356, -0.09126286208629608, 0.19179293513298035, -0.22830913960933685, -0.07066673040390015, 0.14793671667575836, 0.16536764800548553, -0.13271407783031464, -0.058459192514419556, 0.009996267966926098, 0.24924971163272858, 0.11460617184638977, 0.06874623149633408, 0.13180580735206604, 0.020637251436710358, 0.0865463986992836, -0.02863866090774536, 0.12989778816699982, 0.0009364812285639346, -0.044838860630989075, 0.01630004495382309, 0.06301500648260117, 0.02514614164829254, 0.10412773489952087, -0.021978730335831642, -0.030718911439180374, 0.001673977356404066, 0.15992572903633118, 0.03648069128394127, 0.08729305863380432, -0.14921027421951294, -0.23553256690502167, 0.08536891639232635, -0.10002311319112778, -0.008098005317151546, -0.39413031935691833, -0.08746572583913803, -0.07581255584955215, 0.12318243831396103, -0.026691507548093796, 0.07331029325723648, -0.016631171107292175, 0.108644038438797, -0.14553162455558777, -0.11434735357761383, 0.1523064523935318, 0.6202665567398071, -0.4119637608528137, -0.32616958022117615, 0.16233471035957336, -0.009044243954122066, 0.0660085529088974, 0.10592790693044662, 0.17383572459220886, 0.052308689802885056, 0.23632091283798218, -0.4238337576389313, 0.26454854011535645, -0.008767458610236645, -0.16100677847862244, 0.07911445945501328, 0.05781427025794983, 0.10186269879341125, 0.20014558732509613, -2.113741159439087, 0.19052378833293915, 0.08041424304246902, 0.27928265929222107, 0.004268845077604055, 0.15243230760097504, 0.11891555041074753, 0.04517509043216705, -0.14344234764575958, 0.06781093776226044, -0.030017124488949776, 0.20038044452667236, -0.03738751634955406, -0.2571120858192444, -0.07243630290031433, -0.08797390758991241, 0.15862895548343658, 0.13865967094898224, 0.22846285998821259], [-0.04260409250855446, 0.11304893344640732, -0.043957799673080444, -0.05083750560879707, 0.10491272062063217, -0.012194041162729263, -0.03261454030871391, 0.05401235818862915, 0.06643317639827728, -0.10534831881523132, -0.05990230664610863, 0.022210702300071716, 0.012576106935739517, -0.025932911783456802, 0.021229337900877, 0.02157008647918701, 0.05430535972118378, 0.05192126706242561, -0.0623573437333107, 0.05156424641609192, -0.09374435245990753, 0.0499502494931221, -0.008133095689117908, 0.16468806564807892, 0.01565592549741268, 0.10113214701414108, 0.06484776735305786, 0.0328337661921978, -0.0007803436019457877, -0.001841807272285223, -0.12880614399909973, -0.09883736819028854, 0.056115731596946716, 0.017416387796401978, -0.03759915381669998, 0.061053309589624405, 0.000939803896471858, 0.035704582929611206, -0.020088044926524162, 0.07839690148830414, -0.035685110837221146, 0.01386022474616766, 0.0761757642030716, -0.08702150732278824, 0.04984816908836365, 0.030109910294413567, -0.010381904430687428, 0.07062440365552902, 0.013353865593671799, -0.012150786817073822, 0.06128106638789177, 0.10119976103305817, -0.02753293886780739, 0.04772843420505524, -0.17725269496440887, 0.03737898916006088, 0.08923310041427612, 0.0503714457154274, 0.006090169306844473, -0.1299990564584732, -0.0672357827425003, -0.1805860847234726, -0.11776379495859146, -0.0722007006406784, 0.05008157715201378, -0.09060956537723541, 0.0028378437273204327, -0.03793137148022652, 0.020444126799702644, 0.06344678997993469, 0.03133125603199005, 0.021044110879302025, -0.030538594350218773, -0.05093606561422348, 0.03603367507457733, 0.0013832958647981286, 0.0497676283121109, 0.5439379215240479, -0.04190119355916977, -0.02026609517633915, -0.0014256598660722375, -0.1241835206747055, 0.23048947751522064, 0.12119247019290924, 0.008875692263245583, -0.05663668364286423, 0.13296598196029663, 0.01271575503051281, -0.013546927832067013, 0.05238470062613487, 0.007175547070801258, 0.07806771993637085, -0.032424818724393845, 0.008884502574801445, 0.021020114421844482, -0.027189070358872414, -0.02218654565513134, -0.06434736400842667, -0.02579330839216709, -0.09512285888195038, -0.045881446450948715, -0.05148632451891899, 0.014115123078227043, 0.055195167660713196, -0.012068763375282288, -0.012543137185275555, 0.06166083738207817, -0.07968386262655258, 0.06090361624956131, 0.00956865306943655, -0.009930800646543503, -0.03900882974267006, 0.10139857232570648, 0.00934971310198307, -0.02101350575685501, 0.001151791075244546, -0.04596562683582306, 0.11737431585788727, 0.017070284113287926, -0.08341801911592484, 0.015127230435609818, 0.0974544957280159, 0.0811767727136612, -0.03418821841478348, -0.03307054564356804, 0.013370973989367485, -0.050938598811626434, 0.039033256471157074, 0.013680278323590755, 0.0007199592073448002, -0.04958929866552353, -0.25912779569625854, -0.028629565611481667, 0.03685728833079338, 0.05183059722185135, -0.029270991683006287, 0.06781058013439178, 0.002822596114128828, 0.0030405926518142223, -0.010521900840103626, 0.09000765532255173, -0.03100399486720562, 0.04010868817567825, 0.009221629239618778, 0.047654226422309875, 0.07516918331384659, -0.05767558887600899, -0.001822597929276526, 0.04521460458636284, -0.009629921056330204, 0.12458324432373047, -0.10568463802337646, -0.012436140328645706, -0.00683739734813571, -0.1680579036474228, 0.7262675762176514, 0.1934393048286438, 0.03345527872443199, 0.01114711631089449, 0.06509223580360413, 0.25614118576049805, 0.0026716364081948996, -0.024289770051836967, 0.019046932458877563, 0.04204965755343437, -0.06140053644776344, -0.11591312289237976, -0.0042124465107917786, 0.0065862019546329975, 0.039783503860235214, 0.01948845013976097, -0.007444462273269892, 0.0005529567715711892, -0.03486509621143341, -0.04266715049743652, -0.11722668260335922, 0.038727596402168274, 0.04753154516220093, -0.03704571723937988, 0.061534591019153595, -0.02528337948024273, 0.055534426122903824, -0.08777612447738647, 0.04827997088432312, 0.0044309585355222225, 0.07836426794528961, 0.09682310372591019, -0.05544525757431984, 0.0937257707118988, 0.06417257338762283, 0.05720347911119461, -0.0191611647605896, -0.03210844844579697, 0.015751417726278305, 0.037408191710710526, 0.02780311554670334, -0.040313392877578735, -0.06468295305967331, 0.04542219266295433, -0.02590179443359375, 0.0003834124654531479, -0.05907367542386055, 0.12965567409992218, -0.09902026504278183, 0.12006071209907532, 0.03919028863310814, -0.025633519515395164, 0.05930575355887413, -0.004779543727636337, -0.07865051925182343, -0.031205100938677788, 0.09123179316520691, -0.023888491094112396, 0.02810024470090866, 0.056592728942632675, -0.04521222412586212, -0.07519679516553879, 0.17825175821781158, 0.017800262197852135, 0.0007023984217084944, 0.036329541355371475, 0.01175702828913927, -0.0877096876502037, 0.04618273302912712, -0.05163382366299629, 0.038636088371276855, 0.03780212998390198, -0.029018407687544823, 0.02229667641222477, -0.03589848801493645, -0.06728821247816086, 0.056972332298755646, -0.07796023786067963, 0.06934455037117004, 0.09477878361940384, -0.12352317571640015, -0.08702362328767776, 0.024206476286053658, -0.0027118248399347067, -0.009510544128715992, -0.11291879415512085, 0.1326279193162918, 0.0709768608212471, 0.0991877019405365, 0.05826091021299362, 0.12648269534111023, 0.03736932575702667, 0.07830706238746643, 0.011093012988567352, 0.03900131955742836, -0.0473313182592392, -0.08972429484128952, 0.13242334127426147, -0.02894202433526516, 0.062322214245796204, -0.048046961426734924, -0.05728437379002571, 0.012576748616993427, -0.12532934546470642, -0.12713752686977386, 0.03724630922079086, 0.052148688584566116, -0.00928240641951561, -0.016937730833888054, -0.08866137266159058, -0.11472940444946289, -0.14073774218559265, 0.036185286939144135, 0.07988853007555008, 0.033531107008457184, -0.016124244779348373, -0.12160301208496094, -0.024311630055308342, -0.04916440695524216, 0.03895479068160057, -0.008771978318691254, -0.07227396965026855, 0.02205626666545868, -0.05806942656636238, 0.0012698507634922862, 0.0261068195104599, -0.06701582670211792, -0.06178966909646988, 0.06564785540103912, 0.05352197587490082, -0.10257086157798767, -0.1308886557817459, -0.029406167566776276, 0.058031678199768066, 0.07831623405218124, 0.13546520471572876, 0.025171294808387756, -0.20393040776252747, 0.055954862385988235, 0.021983589977025986, 0.023837985470891, 0.08454404771327972, 0.0028289963956922293, 0.01525056455284357, 0.08238488435745239, -0.03322884440422058, -0.0729237049818039, -0.08162083476781845, -0.0618942566215992, 1.2204042832308915e-05, -0.04635084420442581, 0.020612681284546852, -0.037035003304481506, 0.006832073908299208, 0.06144765019416809, -0.019475944340229034, 0.03416072204709053, -0.06764239072799683, 0.11164779216051102, 0.01929832249879837, -0.009355315007269382, 0.03669923543930054, -0.03224073350429535, 0.07556816190481186, 0.01393582671880722, -0.0531533807516098, -0.013606504537165165, 0.015576270408928394, -0.014838077127933502, -0.013539661653339863, 0.10968069732189178, -0.026164047420024872, -0.014415455050766468, 0.07273592799901962, 0.5553301572799683, -0.42437291145324707, 0.03507520630955696, 0.0673324391245842, 0.03374241292476654, 0.06458574533462524, 0.0010544807882979512, -0.00020165757450740784, 0.0697668194770813, 0.1954689919948578, 0.17581795156002045, -0.04962960630655289, -0.06603755801916122, -0.08395697921514511, 0.07335042208433151, 0.10229220986366272, -0.01610003039240837, 0.053377971053123474, -0.06707333773374557, -0.05849902331829071, 0.06308698654174805, -0.05287501588463783, 0.00550571596249938, 0.04212453216314316, -0.06906342506408691, 0.07974600791931152, 0.07583551853895187, 0.04965478554368019, -0.014894748106598854, 0.01203197706490755, -0.07737541943788528, 0.060182251036167145, 0.016190478578209877, -0.003087175777181983, -0.05419621616601944, 0.021306389942765236, -0.033232346177101135, -0.10191319137811661, 0.11750969290733337, -0.05707140266895294, -0.017091108486056328, 0.10246622562408447, 0.025992652401328087, 0.01415474433451891, -0.05253177881240845, -0.026231961324810982, -0.01682552695274353, 0.015162290073931217, 0.020655330270528793, 0.06742218881845474, 0.12342345714569092, -0.01193714328110218, 0.1025494784116745, -0.05897502973675728, -0.01746828854084015, 0.1414247304201126, -0.12551088631153107, 0.05696750059723854, -0.016302423551678658, 0.012734012678265572, 0.04076068103313446, -0.013491345569491386, -0.040873970836400986, -0.04024188593029976, -0.03798747807741165, 0.08660133928060532, 0.03763057291507721, 0.0043649571016430855, -0.018974103033542633, -0.03103659674525261, -0.009940052404999733, -0.031184351071715355, 0.006604631431400776, -0.047433167695999146, 0.15839837491512299, 0.024039946496486664, 0.009315021336078644, -0.033560093492269516, -0.039368320256471634, 0.022363020107150078, -0.07182294875383377, 0.04302436485886574, 0.06098482385277748, 0.05462469905614853, -0.030103806406259537, 0.04187410697340965, -0.015638720244169235, 0.03957781568169594, -0.0752219632267952, -0.05250438302755356, -0.06075466051697731, -0.062058866024017334, 0.09258062392473221, 0.03738299012184143, -0.042432527989149094, -0.02342420071363449, -0.012019745074212551, 0.06437181681394577, -0.12656499445438385, -0.06438038498163223, 0.011171417310833931, -0.052345141768455505, 0.030754070729017258, -0.002156567759811878, -0.009097003377974033, -0.032942719757556915, -0.12511219084262848, -0.009283685125410557, -0.017783304676413536, -0.05287740007042885, -0.11605582386255264, 0.03197455406188965, -0.057193025946617126, 0.05702769383788109, 0.06468229740858078, -0.016835613176226616, 0.00548876216635108, 0.07359234243631363, 0.02823708765208721, -0.016754543408751488, 0.08037472516298294, -0.09428331255912781, 0.004703258629888296, -0.05244696885347366, -0.37398284673690796, 0.12107975780963898, 0.08530756831169128, 0.018355997279286385, 0.0438091941177845, -0.06501275300979614, 0.08508466929197311, -0.026552831754088402, 0.008666756562888622, 0.022270001471042633, 0.00027130937087349594, 0.025200514122843742, -0.03717939555644989, -0.023455601185560226, 0.07088521867990494, 0.001713657402433455, 0.014943819493055344, 0.10645748674869537, -0.0183763038367033, -0.058620963245630264, -0.10256905108690262, 0.03816872462630272, -0.026875678449869156, 0.00041576940566301346, -0.007245549466460943, -0.03579838573932648, 0.006672241259366274, -0.07232160866260529, 0.06958385556936264, 0.08583483844995499, 0.07238160818815231, -0.028078077360987663, -0.022034140303730965, -0.02299533039331436, 0.0824364498257637, 0.08812892436981201, -0.052303992211818695, -0.07732069492340088, -0.03658672049641609, 0.08111889660358429, 0.12079448252916336, 0.14113789796829224, 0.06458132714033127, 0.233049675822258, 0.014264154247939587, 0.062091387808322906, 0.049191273748874664, 0.031702958047389984, -0.03072955273091793, 0.008798502385616302, 0.023325612768530846, 0.012862646952271461, 0.08065614104270935, -0.05942182615399361, -0.05455438420176506, 0.07919053733348846, -0.0030519701540470123, 0.0080876424908638, 0.019245179370045662, 0.1341249793767929, 0.02680245414376259, 0.046480074524879456, -0.025843657553195953, 0.03571413829922676, -0.006232128012925386, -0.038630787283182144, 0.015110158361494541, 0.056926287710666656, -0.0021304048132151365, 0.021470092236995697, -3.240920341340825e-05, -0.08637785166501999, -0.00467273686081171, -0.04800151661038399, 0.040141504257917404, 0.1204051598906517, -0.09474372118711472, 0.05544916167855263, -0.09605655819177628, 0.13564850389957428, 0.07073760777711868, -0.06952555477619171, 0.07862595468759537, 0.12609024345874786, 0.04692059010267258, 0.0376262404024601, -0.050533227622509, 0.004869719967246056, 0.02306167222559452, 0.11579509824514389, -0.040477681905031204, 0.04101387783885002, 0.011086494661867619, 0.07054967433214188, -0.08247188478708267, 0.0729520246386528, -0.011405643075704575, 0.01815342903137207, -0.9307171702384949, -0.017635760828852654, 0.11905086040496826, -0.020665308460593224, -0.004614336881786585, 0.005181856453418732, 0.009503044188022614, -0.022538036108016968, 0.024409132078289986, -0.05948052182793617, 0.04978111758828163, 0.04314228519797325, 0.09766650199890137, -0.06049594655632973, -0.03802987188100815, 0.08348313719034195, -0.05120910331606865, 0.039288848638534546, 0.09032105654478073, -0.06584037095308304, 0.005984843708574772, -0.04512106999754906, 0.13854752480983734, 0.07595524936914444, 0.06359871476888657, 0.08423484861850739, 0.015062958002090454, 0.014889881014823914, 0.02958381548523903, 0.028703298419713974, 0.10179612785577774, 0.03614608198404312, 0.015257365070283413, 0.09372162818908691, 0.1333395093679428, 0.042731501162052155, 0.006640209816396236, 15.187446594238281, -0.04422827064990997, 0.08922610431909561, -0.02758615091443062, 0.06140270456671715, -0.08465633541345596, 0.035839010030031204, -0.16064921021461487, 0.013585193082690239, 0.14539681375026703, -0.04213573783636093, -0.06887005269527435, -0.07197821885347366, -0.0665566548705101, 0.056490860879421234, 0.051565174013376236, -0.03887040540575981, -0.029043477028608322, 0.030157845467329025, -0.017037026584148407, 0.04661523178219795, 0.06555783003568649, 0.04477638751268387, -0.023930227383971214, -0.08493880182504654, 0.07943137735128403, 0.12156085669994354, 0.0005252001574262977, -0.05039467662572861, 0.09557227790355682, -0.009570534341037273, 0.09462963789701462, -0.00403932947665453, 0.020294170826673508, 0.20353257656097412, 0.027389002963900566, -0.005828372668474913, 0.03982478752732277, 0.04497792571783066, 0.04643171653151512, 0.06340399384498596, 0.019779572263360023, 0.1297987699508667, -0.015553155913949013, 0.08698831498622894, 0.014446781016886234, 0.034271448850631714, 0.1979963481426239, 0.10147199779748917, 0.031241443008184433, 0.14271169900894165, 0.009353568777441978, 0.14802907407283783, 0.03409165143966675, 0.0028635698836296797, 0.0173060093075037, -0.03699047863483429, 0.06981649249792099, 0.044158127158880234, 0.02239711582660675, -0.029430720955133438, 0.08115626871585846, 0.031026117503643036, 0.03758250176906586, 0.006887637544423342, 0.16835123300552368, 0.1160118579864502, 0.046549856662750244, -0.10129457712173462, -0.009440712630748749, 0.048193011432886124, -0.05909048020839691, -0.029007473960518837, -0.04397589713335037, -0.03989680856466293, 0.03397784382104874, -0.007192491553723812, -0.015479354187846184, 0.008214762434363365, -0.08017731457948685, 0.0024837739765644073, 0.0260662492364645, -0.024247819557785988, -0.041359953582286835, 0.04971326142549515, 0.048230599611997604, 0.04118398204445839, 0.062196943908929825, -0.03591803461313248, -0.04466032236814499, -0.024330999702215195, -0.06871966272592545, -0.009325534105300903, -0.08419519662857056, 0.052364617586135864, -0.03212845325469971, 0.008548320271074772, -0.11152179539203644, 0.10231799632310867, 0.036684490740299225, -0.12192056328058243, 0.02293243445456028, 0.025877002626657486, 0.156285360455513, -0.009339475072920322, 0.05283065140247345, -0.04485172778367996, 0.02936672978103161, 0.04281705245375633, 0.06599504500627518, -0.03533179685473442, 0.023224495351314545, 0.06231135502457619, -0.057748883962631226, 0.012415855191648006, -0.007204292342066765, -0.07817447930574417, -0.017293846234679222, 0.035775139927864075, 0.09008631110191345, -0.06526893377304077, 0.05120666325092316, -0.1074071153998375, 0.05576200783252716, -0.026616564020514488, -0.01677851192653179, -0.002671725582331419, -0.07697601616382599, -0.08528323471546173, 0.02367841638624668, 0.001105498056858778, 0.10592271387577057, -0.014966302551329136, -0.002732499036937952, 0.11796141415834427, -0.014536670409142971, -0.057602543383836746, 0.098732590675354, 0.046661488711833954, 0.017214709892868996, -0.03423707187175751, -0.03837067261338234, 0.02052347920835018, -0.24999038875102997, -0.06342867761850357, 0.03162733092904091, 0.04179202392697334, 0.013684340752661228, 0.12306307256221771, -0.1040806993842125, -0.05893120542168617, 0.08084400743246078, 0.03545325621962547, -0.0338268019258976, 0.0021318907383829355, -0.05544832721352577, -0.0906439870595932, 0.12118642032146454, -0.0006178749026730657, 0.0034189943689852953, 0.07044728845357895, -0.13568364083766937, 0.05960719287395477, -0.062447093427181244, 0.021277114748954773, 0.0311921164393425, 0.019919030368328094, 0.10063160210847855, 0.0457620769739151, -0.02635202370584011, -0.012070082128047943, 0.025238795205950737, -0.11802148818969727, -0.05215512961149216, -0.030615167692303658, 0.07299842685461044, 0.08079491555690765, -0.12562480568885803, -0.04095519706606865, -0.08205853402614594], [0.03732937574386597, 0.03347687050700188, 0.02891017682850361, 0.12487105280160904, -0.007248002104461193, 0.012779263779520988, 0.04070434346795082, 0.28343281149864197, 0.007822517305612564, -0.11796234548091888, -0.08336448669433594, -0.1928362250328064, -0.08144267648458481, 0.14729517698287964, 0.10702311992645264, 0.25775158405303955, 0.078261598944664, 0.026842642575502396, -0.14972764253616333, 0.2756154537200928, -0.12998636066913605, 0.1570752114057541, -0.16256161034107208, 0.11439599096775055, 0.24875976145267487, 0.09215739369392395, -0.08695099502801895, 0.057712581008672714, -0.15396906435489655, 0.11596950888633728, -0.04426942020654678, -0.06736313551664352, -0.009878551587462425, -0.04947107657790184, 0.08852451294660568, -0.0032200918067246675, 0.07353390008211136, 0.06374659389257431, -0.17501884698867798, 0.15483783185482025, 0.04338351637125015, 0.3279412090778351, 0.1194802075624466, -0.19657614827156067, 0.0007219520630314946, 0.0441153310239315, 0.049660880118608475, 0.040145013481378555, -0.029856085777282715, 0.11705489456653595, 0.09362102299928665, 0.11131639033555984, -0.14045816659927368, 0.15457646548748016, -0.14048124849796295, 0.04398292303085327, 0.13394542038440704, 0.065555140376091, 0.0002121567667927593, 0.04739612340927124, 0.004776163026690483, 0.034749891608953476, -0.15265880525112152, 0.027665119618177414, 0.025520123541355133, -0.003785005770623684, 0.009390470571815968, 0.22355863451957703, 0.07741155475378036, -0.06336968392133713, 0.00414338568225503, 0.18887114524841309, 0.023901110514998436, -0.052062276750802994, 0.08417164534330368, 0.10627995431423187, -0.013387476094067097, -1.9510561227798462, 0.025217115879058838, -0.1286221742630005, -0.035809166729450226, -0.05884241312742233, 1.5355188846588135, 0.21311911940574646, 0.09010997414588928, -0.004548975732177496, 0.061561085283756256, 0.28130677342414856, -0.10447236150503159, 0.07535417377948761, 0.024077201262116432, 0.10664066672325134, -0.005175507161766291, 0.11123371124267578, 0.03794682398438454, -0.05786649510264397, 0.08718792349100113, -0.6935350894927979, 0.011433865875005722, -0.1300903856754303, -0.02014933153986931, -0.0625787153840065, 0.1729011833667755, 0.04857584089040756, -0.010207746177911758, 0.17462168633937836, 0.009569944813847542, -0.12839682400226593, 0.03526484593749046, 0.02685745805501938, -0.04241175949573517, -0.055814243853092194, -0.06600121408700943, 0.07490906864404678, -0.03733495622873306, 0.019102727994322777, 0.1320333629846573, 0.2815106213092804, -0.08576050400733948, 0.18504928052425385, 0.043335556983947754, 0.06335170567035675, -0.040056012570858, -0.021463235840201378, 0.06042969971895218, 0.041811831295490265, 0.05255579575896263, -0.0070311580784618855, 0.06685555726289749, 0.0011562943691387773, 0.05539535731077194, -0.5676376223564148, -0.12573398649692535, -0.1806352287530899, 0.0684332400560379, -0.01858653873205185, -0.04758862033486366, -0.0499904602766037, -0.018744133412837982, 0.04814886301755905, 0.1646360158920288, -0.04451462998986244, -0.031052200123667717, -0.10882620513439178, 0.0796617940068245, 0.02721277065575123, -0.05974123626947403, -0.04233746975660324, 0.12091813236474991, 0.023894749581813812, 0.14232231676578522, -0.10633411258459091, -0.024059662595391273, -0.11654236167669296, -0.13211873173713684, 0.17441833019256592, 0.15704691410064697, -0.2355673909187317, 0.055632710456848145, -0.03189149871468544, 0.09963258355855942, 0.04471837729215622, 0.1057281568646431, 0.15291067957878113, -0.001148828538134694, -0.16060441732406616, -0.09654729813337326, -0.021069033071398735, 0.05662793666124344, -0.15629951655864716, 0.032892655581235886, 0.005381967406719923, 0.0061336699873209, -0.035519830882549286, -0.07761073112487793, -0.05870742350816727, -0.020128337666392326, 0.010556056164205074, -0.007532147224992514, 0.13136672973632812, -0.0642315149307251, -0.008685220032930374, -0.06808679550886154, 0.07809031754732132, 0.06325618177652359, -0.02211613953113556, 0.11360693722963333, -0.05397270619869232, 0.3228290379047394, 0.02386503852903843, 0.08460008352994919, -0.07126747816801071, -0.01478322222828865, -0.14456507563591003, 0.08801858127117157, -0.02199467457830906, -0.10055318474769592, 0.009727045893669128, 0.2373947650194168, 0.05319675803184509, 0.17468038201332092, -0.2084251493215561, -0.03250693902373314, 0.015199856832623482, -0.12395153194665909, -0.06181568652391434, -0.10154634714126587, 0.0025725909508764744, 0.06797218322753906, 0.05084406957030296, -0.1128775104880333, -0.06739132851362228, 0.010690566152334213, 0.05194760113954544, -0.06636302918195724, 0.01937202736735344, -0.2832257151603699, -0.5399349927902222, -0.23341669142246246, -0.16998426616191864, -0.024140464141964912, 0.028635168448090553, -0.14897453784942627, -0.06640120595693588, -0.041817113757133484, 0.2029324471950531, 0.09881506115198135, -0.04370367154479027, 0.06939128041267395, -0.07296553254127502, -0.050165969878435135, 0.3649296462535858, 0.13650037348270416, -0.1314663290977478, 0.15351936221122742, -0.22615276277065277, 0.025474417954683304, 0.007520104758441448, 0.06310119479894638, 0.04628497362136841, -0.575532853603363, 0.04847569018602371, 0.11137441545724869, 0.14144469797611237, 0.011499959044158459, 0.08886231482028961, -0.024728380143642426, 0.029044365510344505, 0.03386938199400902, 0.08518776297569275, 0.020203590393066406, 0.09541703760623932, 0.10805608332157135, -0.04097821190953255, 0.10103776305913925, -0.1282241940498352, -0.054083045572042465, -0.017321234568953514, -0.21791620552539825, 0.5554784536361694, 0.09505732357501984, 0.07336675375699997, 0.11236534267663956, -0.08689428120851517, -0.1425444334745407, -0.1457495242357254, -0.03858238458633423, 0.030602706596255302, 0.10830516368150711, 0.09545239061117172, -0.023138506338000298, -0.0007957028574310243, -0.1220531240105629, 0.008741763420403004, 0.025607530027627945, 0.09152806550264359, 0.14347800612449646, 0.06438548862934113, -0.17690984904766083, -0.007275250740349293, 0.2606237232685089, 0.045078881084918976, 0.028146838769316673, 0.14682170748710632, 0.04309828206896782, -0.11618518084287643, -0.33885350823402405, 0.06746672093868256, 0.0578400120139122, 0.07128379493951797, 0.10987606644630432, 0.05507144704461098, -0.17248620092868805, 0.04193869233131409, 0.03963044658303261, 0.04700160771608353, 0.15538403391838074, 0.10114116221666336, 0.005196554120630026, 0.04088005796074867, 0.0752541795372963, 0.005378095433115959, -0.1882239729166031, -0.13943186402320862, 0.0019520444329828024, -0.0003594375739339739, -0.1461028754711151, 0.11255321651697159, -0.04752170667052269, 0.06571334600448608, -0.011368466541171074, 0.07149896770715714, -0.03528488427400589, 0.09076917916536331, 0.0751095563173294, 0.05406825989484787, -0.0452059842646122, -0.03860883042216301, 0.1973724067211151, 0.16391581296920776, -0.11688854545354843, -0.15166425704956055, -0.12924635410308838, 0.08319132775068283, -0.25934305787086487, 0.09648201614618301, -0.023644665256142616, 0.010870133526623249, 0.1802273690700531, 0.19258227944374084, -0.22145405411720276, 0.3378281891345978, -0.04779092222452164, 0.14027678966522217, 0.009593496099114418, -0.06607933342456818, -0.13281263411045074, 0.07350021600723267, 0.12671834230422974, 0.1062413826584816, -0.210060253739357, -0.04221922904253006, 0.18791233003139496, 0.011651335284113884, 0.22379858791828156, 0.031600501388311386, -0.01644127629697323, -5.483805580297485e-06, 0.05826842784881592, -0.04908633232116699, -0.08078386634588242, 0.0025283447466790676, 0.017203085124492645, -0.1289587765932083, 0.01828482747077942, 0.2597319483757019, -0.08121227473020554, -0.019258810207247734, -0.1516922414302826, -0.07371284067630768, 0.005973499268293381, 0.2791815996170044, 0.0076559740118682384, 0.15648706257343292, 0.12269633263349533, -0.0695095956325531, 0.2132660299539566, -0.03170139342546463, 0.08323770016431808, -0.09377026557922363, 0.014850132167339325, 0.08593187481164932, -0.06096601486206055, -0.060062386095523834, -0.05582971125841141, -0.058733437210321426, 0.14916959404945374, -0.036964934319257736, 0.05635615065693855, 0.09548506885766983, 0.0642821416258812, 0.1518484503030777, -0.03626440092921257, 0.0013043794315308332, 0.22397737205028534, -0.2865390181541443, -0.005772132892161608, 0.09859366714954376, 0.03986090049147606, 0.015922866761684418, 0.1538161188364029, 0.01561057474464178, -0.07165959477424622, -0.06643492728471756, 0.021687891334295273, -0.04697130620479584, 0.09526541084051132, -0.5163605809211731, -0.04163635894656181, 0.03125183656811714, -0.05678504332900047, 0.09959878772497177, -0.016992012038826942, 0.1162923201918602, 0.05995979160070419, 0.03171444311738014, -0.11285629123449326, -0.03606422245502472, 0.114998959004879, 0.07611630856990814, 0.05609875172376633, 0.10902664810419083, 0.03517303615808487, -0.010166209191083908, -0.16802245378494263, 0.06570736318826675, -0.018693139776587486, -0.12313402444124222, -0.11434536427259445, -0.21074675023555756, -0.15544435381889343, 0.13043218851089478, -0.012409447692334652, 0.001958921318873763, -0.3232381045818329, -0.04122164472937584, 0.0721132904291153, 0.015049238689243793, -0.06968656927347183, 0.01841924339532852, 0.21725299954414368, 0.013829699717462063, 0.0786600336432457, -0.02710758149623871, -0.0807877704501152, -0.2601742446422577, 0.008877929300069809, -0.07752294838428497, -0.12971362471580505, 0.006151943001896143, -0.12350288778543472, -0.08761829882860184, 0.012599073350429535, -0.054793961346149445, 0.012856192886829376, -0.038456544280052185, -0.06824001669883728, 0.02884664200246334, -0.02792944572865963, 0.030677685514092445, -0.10825134813785553, 0.08620739728212357, -0.16833621263504028, -2.40073299407959, 0.142360121011734, 0.10258165001869202, -0.014136356301605701, 0.056322596967220306, -0.028117891401052475, -0.01364066544920206, 0.053805094212293625, -0.10765108466148376, 0.016957774758338928, -0.09417472779750824, 0.0019483165815472603, -0.11768612265586853, 0.08640369027853012, -0.05845796316862106, 0.10348005592823029, 0.1779308319091797, 0.1614004522562027, -0.025722580030560493, -0.04166937619447708, -0.07656926661729813, -0.0004212904314044863, -0.050074879080057144, -0.02413271740078926, 0.29632580280303955, -0.12575842440128326, -0.017049452289938927, -0.0231762807816267, 0.025594772771000862, 0.1382497400045395, 0.02265619859099388, -0.008236998692154884, -0.09913096576929092, -0.05467424541711807, 0.0718219205737114, 0.16496454179286957, 0.03810572996735573, 0.07045681774616241, -0.030302364379167557, 0.0058008902706205845, 0.10396358370780945, 0.15835529565811157, 0.06610272079706192, 0.3613760471343994, -0.018859805539250374, -0.10121665149927139, 0.10112876445055008, 0.039884671568870544, 0.06197318434715271, 0.009609200060367584, 0.011660725809633732, -0.07075968384742737, -0.16369149088859558, -0.06153026595711708, 0.032639507204294205, 0.1526372730731964, 0.012225138023495674, -0.08024058490991592, 0.08534495532512665, 0.09213443845510483, 0.08967321366071701, 0.035594016313552856, 0.005476980470120907, 0.05392317846417427, 0.03809914365410805, -0.05518770217895508, 0.21677957475185394, 0.06453564018011093, -0.05093396455049515, 0.046143319457769394, -0.045000605285167694, -0.03615404665470123, 0.01572197861969471, -0.012150640599429607, -0.004482618998736143, 0.06731346994638443, 0.10140492022037506, 0.24837273359298706, -0.1694566160440445, 0.21250949800014496, 0.05226832628250122, -0.08195294439792633, 0.05372866615653038, 0.012614038772881031, -0.027615442872047424, -0.13385607302188873, -0.18282867968082428, -0.07502172142267227, 0.11698291450738907, 0.03518998995423317, 0.026418188586831093, -0.05544566363096237, -0.11459909379482269, 0.17004944384098053, -0.08718298375606537, 0.1226280927658081, -0.06208139285445213, 0.012571131810545921, -0.9756027460098267, -0.06457185745239258, 0.13871966302394867, -0.010531955398619175, -0.004475374706089497, -0.0008954173536039889, -0.021577227860689163, -0.0950053408741951, 0.18482813239097595, -0.05988214910030365, 0.015252298675477505, 0.04458901286125183, 0.03249942511320114, 0.043793462216854095, -0.0879177376627922, 0.0379960834980011, -0.07229732722043991, 0.1394214630126953, 0.02438567392528057, 1.7413309812545776, 0.0506112165749073, -0.042956527322530746, 0.13094119727611542, 0.2253289669752121, -0.02539786510169506, -0.023860517889261246, 0.01654439978301525, -0.033084943890571594, 0.16247430443763733, 0.06582678854465485, 0.1238880306482315, 0.03920583054423332, 0.039386898279190063, 0.027103664353489876, -0.06311235576868057, 0.08354074507951736, -0.04367496445775032, 13.492240905761719, -0.10606922954320908, 0.0009305438725277781, 0.08888088911771774, -0.09078361093997955, -0.051402658224105835, 0.09110558778047562, -0.032160621136426926, 0.24275018274784088, 0.10942590981721878, 0.05931315943598747, -0.03969511389732361, -0.0394417941570282, -0.11818471550941467, -0.02103397063910961, 0.059038545936346054, -0.09979422390460968, 0.03768452629446983, 0.11374934017658234, -0.008452544920146465, 0.19606231153011322, 0.07314065843820572, 0.14236676692962646, 0.4014676809310913, -0.10305561125278473, 0.054094597697257996, 0.05136353150010109, 0.07651402801275253, -0.07224974036216736, 0.18887881934642792, -0.01236586645245552, 0.3167742192745209, 0.009044628590345383, -0.03941792622208595, 0.1086377277970314, 0.06756012886762619, 0.04779971390962601, 0.04047866538167, 0.07345041632652283, -0.03532920032739639, 0.020873352885246277, -0.0308794267475605, 0.08483806252479553, -0.16083216667175293, 0.07839568704366684, 0.06147482618689537, 0.14750225841999054, 0.21736571192741394, 0.024712543934583664, 0.028915733098983765, 0.02729836478829384, 0.06376288831233978, 0.14763887226581573, -0.055569056421518326, -0.03772048279643059, -0.18115809559822083, 0.0887518972158432, -0.08808483928442001, -0.1293068677186966, -0.09284713119268417, 0.012938413769006729, 0.11539202928543091, 0.08725526183843613, -0.09711693972349167, 0.035065703094005585, 0.2261868715286255, 0.11765625327825546, 0.10451523214578629, -0.2223092019557953, 0.07739383727312088, 0.11055995523929596, 0.047876011580228806, 0.0002336444304091856, -0.128157839179039, -0.09899574518203735, 0.06601827591657639, -0.17121338844299316, -0.03961589187383652, 0.010395081713795662, -0.2177240550518036, 0.03688658028841019, -0.019021451473236084, -0.038001690059900284, 0.07012221962213516, -0.27645763754844666, 0.06441270560026169, -0.08772453665733337, 0.07952666282653809, -0.1137113943696022, 0.0820300504565239, -0.08237045258283615, -0.0268168356269598, 0.003316079033538699, -0.008886907249689102, 0.10002745687961578, 0.05538430064916611, -0.005701398476958275, 0.0751742348074913, 0.033840522170066833, -0.051648348569869995, -0.17647650837898254, -0.03146645426750183, 0.0523747019469738, 0.24527333676815033, 0.026796720921993256, 0.1380818784236908, -0.028687182813882828, 0.1264895349740982, 0.05735774710774422, 0.11209733039140701, -0.05606626719236374, 0.008515570312738419, -0.018961815163493156, -0.09512180089950562, -0.06335454434156418, -0.0908697172999382, 0.00582050671800971, 0.03496360778808594, -0.03202947601675987, 0.1798880398273468, 0.06338024139404297, 0.08704469352960587, -0.10883317142724991, -0.0660756379365921, -0.024061713367700577, -0.0043195378966629505, -0.1558007448911667, -0.20214179158210754, -0.1343432068824768, 0.04480966553092003, -0.07734329253435135, 0.1096302792429924, 0.12275081872940063, 0.051454491913318634, 0.10699176043272018, 0.07418061792850494, -0.10242440551519394, 0.0921204462647438, 0.0108010433614254, 0.06308650970458984, -0.11247866600751877, 0.08566317707300186, -0.03883134946227074, -0.49139589071273804, -0.12370511144399643, -0.21397215127944946, 0.13479316234588623, -0.019614867866039276, 0.16156135499477386, 0.10656870901584625, -0.04482743889093399, -0.1258220076560974, -0.05308188498020172, -0.32811668515205383, -0.019097279757261276, -0.07368814945220947, -0.032023318111896515, 0.10485314577817917, 0.03277380391955376, 0.05757395923137665, 0.5328545570373535, -0.46291226148605347, -0.08268260210752487, -0.16517958045005798, -0.12320960313081741, 0.04570958390831947, 0.11153800040483475, 0.13562750816345215, 0.06111457571387291, -0.020495930686593056, -0.03903758525848389, 0.1505906730890274, 0.08000177890062332, -0.022125117480754852, -0.05377231165766716, -0.07112875580787659, 0.45287442207336426, 0.08483067899942398, -0.040718499571084976, 0.039014704525470734]]\n",
            "8\n"
          ],
          "name": "stdout"
        }
      ]
    },
    {
      "cell_type": "markdown",
      "metadata": {
        "id": "Wn_v9yD3WWyG"
      },
      "source": [
        "# **Fill mask**"
      ]
    },
    {
      "cell_type": "code",
      "metadata": {
        "id": "XMIH-eayWeDQ",
        "colab": {
          "base_uri": "https://localhost:8080/",
          "height": 321,
          "referenced_widgets": [
            "287b7cec889641f8a6a7bc8fde2006db",
            "0bbe0571bc6c44f5a3e60ba7cee12885",
            "22f5f1f43bee4534a70f5ff4a7fe35f1",
            "b46de1ff9aab4f0a9c1d36519bd55514",
            "ff62098374fd4414a521da7c5c0c2d97",
            "cbee8c5003304304b42a16222b7ef8b1",
            "eb50df505e284217996383082b873533",
            "77a84ded4d404b279878de0e9293f1cf"
          ]
        },
        "outputId": "1268ce0a-5984-4003-b0fc-a4c4e4d5d35e"
      },
      "source": [
        "fill_mask = pipeline(\"fill-mask\")\n",
        "result = fill_mask(f\"I want to {fill_mask.tokenizer.mask_token} English.\")\n",
        "result"
      ],
      "execution_count": 15,
      "outputs": [
        {
          "output_type": "display_data",
          "data": {
            "application/vnd.jupyter.widget-view+json": {
              "model_id": "287b7cec889641f8a6a7bc8fde2006db",
              "version_minor": 0,
              "version_major": 2
            },
            "text/plain": [
              "HBox(children=(FloatProgress(value=0.0, description='Downloading', max=230.0, style=ProgressStyle(description_…"
            ]
          },
          "metadata": {
            "tags": []
          }
        },
        {
          "output_type": "stream",
          "text": [
            "\n"
          ],
          "name": "stdout"
        },
        {
          "output_type": "execute_result",
          "data": {
            "text/plain": [
              "[{'score': 0.535076916217804,\n",
              "  'sequence': '<s> I want to learn English.</s>',\n",
              "  'token': 1532},\n",
              " {'score': 0.36233922839164734,\n",
              "  'sequence': '<s> I want to speak English.</s>',\n",
              "  'token': 1994},\n",
              " {'score': 0.029888825491070747,\n",
              "  'sequence': '<s> I want to teach English.</s>',\n",
              "  'token': 6396},\n",
              " {'score': 0.012146448716521263,\n",
              "  'sequence': '<s> I want to write English.</s>',\n",
              "  'token': 3116},\n",
              " {'score': 0.008391833864152431,\n",
              "  'sequence': '<s> I want to study English.</s>',\n",
              "  'token': 892}]"
            ]
          },
          "metadata": {
            "tags": []
          },
          "execution_count": 15
        }
      ]
    },
    {
      "cell_type": "code",
      "metadata": {
        "colab": {
          "base_uri": "https://localhost:8080/"
        },
        "id": "Lax_LNdkZugF",
        "outputId": "ebaa1f13-3960-475b-8c40-c53d4f0c44b4"
      },
      "source": [
        "!pip install watermark\n",
        "%load_ext watermark\n",
        "%watermark -v -m -p transforms \n"
      ],
      "execution_count": 19,
      "outputs": [
        {
          "output_type": "stream",
          "text": [
            "Requirement already satisfied: watermark in /usr/local/lib/python3.7/dist-packages (2.2.0)\n",
            "Requirement already satisfied: importlib-metadata<3.0 in /usr/local/lib/python3.7/dist-packages (from watermark) (2.1.1)\n",
            "Requirement already satisfied: ipython in /usr/local/lib/python3.7/dist-packages (from watermark) (5.5.0)\n",
            "Requirement already satisfied: zipp>=0.5 in /usr/local/lib/python3.7/dist-packages (from importlib-metadata<3.0->watermark) (3.5.0)\n",
            "Requirement already satisfied: simplegeneric>0.8 in /usr/local/lib/python3.7/dist-packages (from ipython->watermark) (0.8.1)\n",
            "Requirement already satisfied: traitlets>=4.2 in /usr/local/lib/python3.7/dist-packages (from ipython->watermark) (5.0.5)\n",
            "Requirement already satisfied: prompt-toolkit<2.0.0,>=1.0.4 in /usr/local/lib/python3.7/dist-packages (from ipython->watermark) (1.0.18)\n",
            "Requirement already satisfied: setuptools>=18.5 in /usr/local/lib/python3.7/dist-packages (from ipython->watermark) (57.2.0)\n",
            "Requirement already satisfied: pexpect in /usr/local/lib/python3.7/dist-packages (from ipython->watermark) (4.8.0)\n",
            "Requirement already satisfied: pickleshare in /usr/local/lib/python3.7/dist-packages (from ipython->watermark) (0.7.5)\n",
            "Requirement already satisfied: decorator in /usr/local/lib/python3.7/dist-packages (from ipython->watermark) (4.4.2)\n",
            "Requirement already satisfied: pygments in /usr/local/lib/python3.7/dist-packages (from ipython->watermark) (2.6.1)\n",
            "Requirement already satisfied: six>=1.9.0 in /usr/local/lib/python3.7/dist-packages (from prompt-toolkit<2.0.0,>=1.0.4->ipython->watermark) (1.15.0)\n",
            "Requirement already satisfied: wcwidth in /usr/local/lib/python3.7/dist-packages (from prompt-toolkit<2.0.0,>=1.0.4->ipython->watermark) (0.2.5)\n",
            "Requirement already satisfied: ipython-genutils in /usr/local/lib/python3.7/dist-packages (from traitlets>=4.2->ipython->watermark) (0.2.0)\n",
            "Requirement already satisfied: ptyprocess>=0.5 in /usr/local/lib/python3.7/dist-packages (from pexpect->ipython->watermark) (0.7.0)\n",
            "The watermark extension is already loaded. To reload it, use:\n",
            "  %reload_ext watermark\n",
            "Python implementation: CPython\n",
            "Python version       : 3.7.11\n",
            "IPython version      : 5.5.0\n",
            "\n",
            "transforms: not installed\n",
            "\n",
            "Compiler    : GCC 7.5.0\n",
            "OS          : Linux\n",
            "Release     : 5.4.104+\n",
            "Machine     : x86_64\n",
            "Processor   : x86_64\n",
            "CPU cores   : 2\n",
            "Architecture: 64bit\n",
            "\n"
          ],
          "name": "stdout"
        }
      ]
    }
  ]
}